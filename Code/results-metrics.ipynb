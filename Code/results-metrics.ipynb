{
 "cells": [
  {
   "cell_type": "code",
   "execution_count": 13,
   "metadata": {},
   "outputs": [],
   "source": [
    "import re\n",
    "from nlgeval import NLGEval\n",
    "from nlgeval import compute_individual_metrics\n",
    "import json, pickle\n",
    "import evaluate\n",
    "from datasets import list_metrics"
   ]
  },
  {
   "cell_type": "code",
   "execution_count": 14,
   "metadata": {},
   "outputs": [
    {
     "name": "stdout",
     "output_type": "stream",
     "text": [
      "Requirement already satisfied: pycocoevalcap in c:\\python37\\lib\\site-packages (1.2)\n",
      "Requirement already satisfied: pycocotools>=2.0.2 in c:\\python37\\lib\\site-packages (from pycocoevalcap) (2.0.7)\n",
      "Requirement already satisfied: matplotlib>=2.1.0 in c:\\python37\\lib\\site-packages (from pycocotools>=2.0.2->pycocoevalcap) (3.5.3)\n",
      "Requirement already satisfied: numpy in c:\\python37\\lib\\site-packages (from pycocotools>=2.0.2->pycocoevalcap) (1.21.6)\n",
      "Requirement already satisfied: cycler>=0.10 in c:\\python37\\lib\\site-packages (from matplotlib>=2.1.0->pycocotools>=2.0.2->pycocoevalcap) (0.11.0)\n",
      "Requirement already satisfied: fonttools>=4.22.0 in c:\\python37\\lib\\site-packages (from matplotlib>=2.1.0->pycocotools>=2.0.2->pycocoevalcap) (4.38.0)\n",
      "Requirement already satisfied: kiwisolver>=1.0.1 in c:\\python37\\lib\\site-packages (from matplotlib>=2.1.0->pycocotools>=2.0.2->pycocoevalcap) (1.4.4)\n",
      "Requirement already satisfied: packaging>=20.0 in c:\\python37\\lib\\site-packages (from matplotlib>=2.1.0->pycocotools>=2.0.2->pycocoevalcap) (21.3)\n",
      "Requirement already satisfied: pillow>=6.2.0 in c:\\python37\\lib\\site-packages (from matplotlib>=2.1.0->pycocotools>=2.0.2->pycocoevalcap) (9.3.0)\n",
      "Requirement already satisfied: pyparsing>=2.2.1 in c:\\python37\\lib\\site-packages (from matplotlib>=2.1.0->pycocotools>=2.0.2->pycocoevalcap) (3.0.9)\n",
      "Requirement already satisfied: python-dateutil>=2.7 in c:\\python37\\lib\\site-packages (from matplotlib>=2.1.0->pycocotools>=2.0.2->pycocoevalcap) (2.8.2)\n",
      "Requirement already satisfied: typing-extensions in c:\\python37\\lib\\site-packages (from kiwisolver>=1.0.1->matplotlib>=2.1.0->pycocotools>=2.0.2->pycocoevalcap) (4.4.0)\n",
      "Requirement already satisfied: six>=1.5 in c:\\python37\\lib\\site-packages (from python-dateutil>=2.7->matplotlib>=2.1.0->pycocotools>=2.0.2->pycocoevalcap) (1.16.0)\n"
     ]
    }
   ],
   "source": [
    "#!pip install git+https://github.com/Maluuba/nlg-eval.git@master\n",
    "!pip install pycocoevalcap"
   ]
  },
  {
   "cell_type": "code",
   "execution_count": 3,
   "metadata": {},
   "outputs": [],
   "source": [
    "#for metric in list_metrics():\n",
    "#    print(metric)"
   ]
  },
  {
   "cell_type": "code",
   "execution_count": 4,
   "metadata": {},
   "outputs": [],
   "source": [
    "#rouge = evaluate.load(\"rouge\")\n",
    "#bleu = evaluate.load(\"bleu\")\n",
    "#meteor = evaluate.load(\"meteor\")"
   ]
  },
  {
   "cell_type": "markdown",
   "metadata": {},
   "source": [
    "### Compute metrics BLEU-n and METEOR with NLTK"
   ]
  },
  {
   "cell_type": "code",
   "execution_count": 2,
   "metadata": {},
   "outputs": [
    {
     "name": "stdout",
     "output_type": "stream",
     "text": [
      "For MLP mapper with no beam search:\n",
      "     BLEU-3 zero-shot average score: 0.429\n",
      "     METEOR zero-shot average score: 0.155\n",
      "--------------------------------------------\n",
      "For MLP mapper with beam search:\n",
      "     BLEU-3 zero-shot average score: 0.362\n",
      "     METEOR zero-shot average score: 0.153\n",
      "--------------------------------------------\n",
      "For Transformer mapper with no beam search:\n",
      "     BLEU-3 zero-shot average score: 0.617\n",
      "     METEOR zero-shot average score: 0.298\n",
      "--------------------------------------------\n",
      "For Transformer mapper with beam search:\n",
      "     BLEU-3 zero-shot average score: 0.625\n",
      "     METEOR zero-shot average score: 0.308\n"
     ]
    }
   ],
   "source": [
    "def extract_scores_from_rtf(file_path):\n",
    "    with open(file_path, 'r') as file:\n",
    "        text = file.read()\n",
    "    # Use regular expressions to extract scores\n",
    "    bleu_scores = re.findall(r'BLEU score -> (\\d+\\.\\d+)', text)\n",
    "    meteor_scores = re.findall(r'METEOR-score -> (\\d+\\.\\d+)', text)\n",
    "    # Convert strings to floats\n",
    "    bleu_scores = [float(score) for score in bleu_scores]\n",
    "    meteor_scores = [float(score) for score in meteor_scores]\n",
    "    return bleu_scores, meteor_scores\n",
    "\n",
    "# Example usage:\n",
    "bleu3_scores, meteor_scores = extract_scores_from_rtf(\"C:/Users/admitos/Desktop/ThesisUU/Results/MLP_no_beam_search.rtf\")\n",
    "print(\"For MLP mapper with no beam search:\")\n",
    "print(\"     BLEU-3 zero-shot average score: {}\".format(round(sum(bleu3_scores)/len(bleu3_scores),3)))\n",
    "print(\"     METEOR zero-shot average score: {}\".format(round(sum(meteor_scores)/len(meteor_scores),3)))\n",
    "print(\"--------------------------------------------\")\n",
    "bleu3_scores, meteor_scores = extract_scores_from_rtf(\"C:/Users/admitos/Desktop/ThesisUU/Results/MLP_with_beam_search.rtf\")\n",
    "print(\"For MLP mapper with beam search:\")\n",
    "print(\"     BLEU-3 zero-shot average score: {}\".format(round(sum(bleu3_scores)/len(bleu3_scores),3)))\n",
    "print(\"     METEOR zero-shot average score: {}\".format(round(sum(meteor_scores)/len(meteor_scores),3)))\n",
    "print(\"--------------------------------------------\")\n",
    "bleu3_scores, meteor_scores = extract_scores_from_rtf(\"C:/Users/admitos/Desktop/ThesisUU/Results/Transformer_no_beam_search.rtf\")\n",
    "print(\"For Transformer mapper with no beam search:\")\n",
    "print(\"     BLEU-3 zero-shot average score: {}\".format(round(sum(bleu3_scores)/len(bleu3_scores),3)))\n",
    "print(\"     METEOR zero-shot average score: {}\".format(round(sum(meteor_scores)/len(meteor_scores),3)))\n",
    "print(\"--------------------------------------------\")\n",
    "bleu3_scores, meteor_scores = extract_scores_from_rtf(\"C:/Users/admitos/Desktop/ThesisUU/Results/Transformer_with_beam_search.rtf\")\n",
    "print(\"For Transformer mapper with beam search:\")\n",
    "print(\"     BLEU-3 zero-shot average score: {}\".format(round(sum(bleu3_scores)/len(bleu3_scores),3)))\n",
    "print(\"     METEOR zero-shot average score: {}\".format(round(sum(meteor_scores)/len(meteor_scores),3)))"
   ]
  },
  {
   "cell_type": "markdown",
   "metadata": {},
   "source": [
    "### Compute also CIDEr with NLGeval library"
   ]
  },
  {
   "cell_type": "code",
   "execution_count": 5,
   "metadata": {},
   "outputs": [],
   "source": [
    "# from cidereval import cider, ciderD\n",
    "\n",
    "# # Candidate caption generated by an image captioning model.\n",
    "# preds = [\"A woman is throwing a frisbee in a park.\"]\n",
    "\n",
    "# # Reference captions that are considered ground truth descriptions of the image.\n",
    "# refs = [\"A woman is throwing a frisbee in the park.\"]\n",
    "\n",
    "# cider(predictions=preds, references=refs)\n",
    "# #cider_scores is a dict-like object with \"avg_score\" and \"scores\""
   ]
  },
  {
   "cell_type": "code",
   "execution_count": 4,
   "metadata": {},
   "outputs": [],
   "source": [
    "# Example candidate captions\n",
    "candidate_captions = [\"A person riding a surf board on top of a wave.\", \"A woman standing on a beach with a surfboard.\"]\n",
    "\n",
    "# Corresponding reference captions\n",
    "#reference_captions = [ [\"A surfer rides on a wave.\", \"A person is surfing in the sea.\"], \n",
    "#                      [\"A woman is standing by the sea with a surfboard.\", \"A lady at the beach with a surfboard.\"] ]\n",
    "\n",
    "reference_captions = [ [\"A surfer rides on a wave.\", \"A person is surfing in the sea.\", \"A man surfes on the water\"], \n",
    "                     [\"A woman is standing by the sea with a surfboard.\", \"A lady at the beach with a surfboard.\", \"A woman is on the beach ready to do surfboard\"] ]\n",
    "\n",
    "reference_captions2 = [ \"A surfer rides on a wave.\", \"A lady at the beach with a surfboard.\"]  "
   ]
  },
  {
   "cell_type": "code",
   "execution_count": 5,
   "metadata": {},
   "outputs": [],
   "source": [
    "#metrics_dict = compute_individual_metrics(reference_captions[0][0], candidate_captions[0])"
   ]
  },
  {
   "cell_type": "markdown",
   "metadata": {},
   "source": [
    "### Zero-shot results"
   ]
  },
  {
   "cell_type": "code",
   "execution_count": 9,
   "metadata": {},
   "outputs": [],
   "source": [
    "file_path_transformer_no = 'C:/Users/admitos/Desktop/ThesisUU/Results/zero-shot/Transformer/generated_dict_no_beam.json'\n",
    "file_path_transformer_with = 'C:/Users/admitos/Desktop/ThesisUU/Results/zero-shot/Transformer/generated_dict_with_beam.json'\n",
    "\n",
    "file_path_mlp_no = 'C:/Users/admitos/Desktop/ThesisUU/Results/zero-shot/MLP/generated_dict_no_beam.json'\n",
    "file_path_mlp_with = 'C:/Users/admitos/Desktop/ThesisUU/Results/zero-shot/MLP/generated_dict_with_beam.json'\n",
    "\n",
    "file_path_original = 'C:/Users/admitos/Desktop/ThesisUU/Results/zero-shot/Transformer/original_dict.json'\n",
    "#file_path_original = 'C:/Users/admitos/Desktop/ThesisUU/Results/zero-shot/MLP/original_dict.json'\n",
    "\n",
    "with open(file_path_transformer_no, 'r') as file:\n",
    "    capts_trans_no = json.load(file)\n",
    "\n",
    "with open(file_path_transformer_with, 'r') as file:\n",
    "    capts_trans_with = json.load(file)\n",
    "\n",
    "with open(file_path_mlp_no, 'r') as file:\n",
    "    capts_mlp_no = json.load(file)\n",
    "\n",
    "with open(file_path_mlp_with, 'r') as file:\n",
    "    capts_mlp_with = json.load(file)\n",
    "\n",
    "with open(file_path_original, 'r') as file:\n",
    "    capts_original = json.load(file)"
   ]
  },
  {
   "cell_type": "code",
   "execution_count": 10,
   "metadata": {},
   "outputs": [],
   "source": [
    "reference_captions = list(capts_original.values())"
   ]
  },
  {
   "cell_type": "code",
   "execution_count": 11,
   "metadata": {},
   "outputs": [
    {
     "name": "stderr",
     "output_type": "stream",
     "text": [
      "WARNING:root:There is less than 2GB of available memory.\n",
      "Will try with limiting Meteor to 1GB of memory but this might cause issues.\n",
      "If you have problems using Meteor, then you can try to lower the `mem` variable in meteor.py\n"
     ]
    }
   ],
   "source": [
    "# Initialize NLGEval object (it can be reused across multiple evaluations)\n",
    "nlg = NLGEval(metrics_to_omit=['SPICE', 'SkipThoughtCS', 'GreedyMatchingScore', 'VectorExtremaCosineSimilarity', 'EmbeddingAverageCosineSimilairty'])\n",
    "\n",
    "def evaluating_function(original_list, generated_list):\n",
    "    \n",
    "    all_scores = nlg.compute_metrics(original_list, generated_list)\n",
    "    #indiv_scores = nlg.compute_individual_metrics(reference_captions[1], candidate_captions[1])\n",
    "    print(all_scores)\n",
    "    #print(indiv_scores)"
   ]
  },
  {
   "cell_type": "code",
   "execution_count": 12,
   "metadata": {},
   "outputs": [
    {
     "name": "stdout",
     "output_type": "stream",
     "text": [
      "{'Bleu_1': 0.3147882129129884, 'Bleu_2': 0.12355194602085695, 'Bleu_3': 0.05723158958890914, 'Bleu_4': 0.028954815721220162, 'METEOR': 0.0870333508383237, 'ROUGE_L': 0.22679411434816524, 'CIDEr': 0.03762877675970936}\n"
     ]
    }
   ],
   "source": [
    "#Loop through your candidates and references to compute scores\n",
    "# for candidate, references in zip(candidate_captions, reference_captions):\n",
    "#     metrics_dict = nlg.compute_individual_metrics(references, candidate)\n",
    "#     print(\"Bleu_1 Score:\", metrics_dict['Bleu_1'])\n",
    "#     print(\"Bleu_2 Score:\", metrics_dict['Bleu_2'])\n",
    "#     print(\"Bleu_3 Score:\", metrics_dict['Bleu_3'])\n",
    "#     print(\"Bleu_4 Score:\", metrics_dict['Bleu_4'])\n",
    "#     print(\"METEOR Score:\", metrics_dict['METEOR'])\n",
    "#     print(\"CIDEr Score:\", metrics_dict['CIDEr'])\n",
    "#     print()\n",
    "\n",
    "candidate_captions = list(capts_trans_with.values())\n",
    "evaluating_function(reference_captions, candidate_captions)"
   ]
  },
  {
   "cell_type": "code",
   "execution_count": 5,
   "metadata": {},
   "outputs": [
    {
     "name": "stdout",
     "output_type": "stream",
     "text": [
      "{'Bleu_1': 0.3222847948511601, 'Bleu_2': 0.12121009215529327, 'Bleu_3': 0.05239393364311375, 'Bleu_4': 0.025491233031249255, 'METEOR': 0.08460612497190928, 'ROUGE_L': 0.2266402211373565, 'CIDEr': 0.03384571251694265}\n"
     ]
    }
   ],
   "source": [
    "candidate_captions = list(capts_trans_no.values())\n",
    "evaluating_function(reference_captions, candidate_captions)"
   ]
  },
  {
   "cell_type": "code",
   "execution_count": 11,
   "metadata": {},
   "outputs": [
    {
     "name": "stdout",
     "output_type": "stream",
     "text": [
      "{'Bleu_1': 0.30614964479238366, 'Bleu_2': 0.11545630441117481, 'Bleu_3': 0.046207660055967055, 'Bleu_4': 0.02231163618308306, 'METEOR': 0.07832517036996398, 'ROUGE_L': 0.21414408712604802, 'CIDEr': 0.028366967541854853}\n"
     ]
    }
   ],
   "source": [
    "candidate_captions = list(capts_mlp_with.values())\n",
    "evaluating_function(reference_captions, candidate_captions)"
   ]
  },
  {
   "cell_type": "code",
   "execution_count": 12,
   "metadata": {},
   "outputs": [
    {
     "name": "stdout",
     "output_type": "stream",
     "text": [
      "{'Bleu_1': 0.32719582773742006, 'Bleu_2': 0.12297632179760183, 'Bleu_3': 0.05081132452866725, 'Bleu_4': 0.02403849166840267, 'METEOR': 0.08682122283421075, 'ROUGE_L': 0.22944874491053605, 'CIDEr': 0.03094926602833083}\n"
     ]
    }
   ],
   "source": [
    "candidate_captions = list(capts_mlp_no.values())\n",
    "evaluating_function(reference_captions, candidate_captions)"
   ]
  },
  {
   "cell_type": "markdown",
   "metadata": {},
   "source": [
    "### Fine-tuning"
   ]
  },
  {
   "cell_type": "code",
   "execution_count": 13,
   "metadata": {},
   "outputs": [],
   "source": [
    "#### --------------------------- Load Results from epoch 10/10 (last epoch) -------------------------------\n",
    "trans_prefix_gpt_e9 = 'C:/Users/admitos/Desktop/ThesisUU/Results/fine-tuning/Transformer/trans_prefix_GPT_e9.pkl'\n",
    "trans_prefix_only_e9 = 'C:/Users/admitos/Desktop/ThesisUU/Results/fine-tuning/Transformer/trans_prefix_only_e9.pkl'\n",
    "\n",
    "mlp_prefix_gpt_e9 = 'C:/Users/admitos/Desktop/ThesisUU/Results/fine-tuning/MLP/mlp_prefix_GPT_e9.pkl'\n",
    "mlp_prefix_only_e9 = 'C:/Users/admitos/Desktop/ThesisUU/Results/fine-tuning/MLP/mlp_prefix_only_e9.pkl'\n",
    "\n",
    "with open(trans_prefix_gpt_e9, 'rb') as file:\n",
    "    data_trans_e9_gpt = pickle.load(file)\n",
    "\n",
    "with open(trans_prefix_only_e9, 'rb') as file:\n",
    "    data_trans_e9_only = pickle.load(file)\n",
    "\n",
    "with open(mlp_prefix_gpt_e9, 'rb') as file:\n",
    "    data_mlp_e9_gpt = pickle.load(file)\n",
    "\n",
    "with open(mlp_prefix_only_e9, 'rb') as file:\n",
    "    data_mlp_e9_only = pickle.load(file)"
   ]
  },
  {
   "cell_type": "code",
   "execution_count": 14,
   "metadata": {},
   "outputs": [],
   "source": [
    "#### --------------------------- Load Results from epoch 6/10 -------------------------------\n",
    "trans_prefix_gpt_e5 = 'C:/Users/admitos/Desktop/ThesisUU/Results/fine-tuning/Transformer/trans_prefix_GPT_e5.pkl'\n",
    "trans_prefix_only_e5 = 'C:/Users/admitos/Desktop/ThesisUU/Results/fine-tuning/Transformer/trans_prefix_only_e5.pkl'\n",
    "\n",
    "mlp_prefix_gpt_e5 = 'C:/Users/admitos/Desktop/ThesisUU/Results/fine-tuning/MLP/mlp_prefix_GPT_e5.pkl'\n",
    "mlp_prefix_only_e5 = 'C:/Users/admitos/Desktop/ThesisUU/Results/fine-tuning/MLP/mlp_prefix_only_e5.pkl'\n",
    "\n",
    "with open(trans_prefix_gpt_e5, 'rb') as file:\n",
    "    data_trans_e5_gpt = pickle.load(file)\n",
    "\n",
    "with open(trans_prefix_only_e5, 'rb') as file:\n",
    "    data_trans_e5_only = pickle.load(file)\n",
    "\n",
    "with open(mlp_prefix_gpt_e5, 'rb') as file:\n",
    "    data_mlp_e5_gpt = pickle.load(file)\n",
    "\n",
    "with open(mlp_prefix_only_e5, 'rb') as file:\n",
    "    data_mlp_e5_only = pickle.load(file)"
   ]
  },
  {
   "cell_type": "code",
   "execution_count": 16,
   "metadata": {},
   "outputs": [],
   "source": [
    "def correcting_func(mydata):\n",
    "  new_data = {}\n",
    "  for key in mydata.keys():\n",
    "    if key in capts_original.keys():\n",
    "      new_data[key] = mydata[key]\n",
    "\n",
    "  return new_data"
   ]
  },
  {
   "cell_type": "code",
   "execution_count": 17,
   "metadata": {},
   "outputs": [
    {
     "name": "stdout",
     "output_type": "stream",
     "text": [
      "4992\n"
     ]
    }
   ],
   "source": [
    "### ------------ Correction for e9 ----------------\n",
    "data_trans_e9_gpt = correcting_func(data_trans_e9_gpt)\n",
    "data_trans_e9_only = correcting_func(data_trans_e9_only)\n",
    "data_mlp_e9_gpt = correcting_func(data_mlp_e9_gpt)\n",
    "data_mlp_e9_only = correcting_func(data_mlp_e9_only)"
   ]
  },
  {
   "cell_type": "code",
   "execution_count": 18,
   "metadata": {},
   "outputs": [],
   "source": [
    "### ------------ Correction for e5 ----------------\n",
    "data_trans_e5_gpt = correcting_func(data_trans_e5_gpt)\n",
    "data_trans_e5_only = correcting_func(data_trans_e5_only)\n",
    "data_mlp_e5_gpt = correcting_func(data_mlp_e5_gpt)\n",
    "data_mlp_e5_only = correcting_func(data_mlp_e5_only)"
   ]
  },
  {
   "cell_type": "code",
   "execution_count": 21,
   "metadata": {},
   "outputs": [],
   "source": [
    "##### ---------- Zero-shot ------------ #####\n",
    "# candidate_captions1 = list(data1.values())\n",
    "# candidate_captions2 = list(data2.values())\n",
    "# candidate_captions3 = list(data3.values())\n",
    "# candidate_captions4 = list(data4.values())\n",
    "##### ----------- Original ----------- #####\n",
    "# reference_captions = list(data5.values())\n",
    "\n",
    "\n",
    "##### --------- Fine-tuning (e9) --------- #####\n",
    "candidate_captions_e9_tr_gpt = list(data_trans_e9_gpt.values())\n",
    "candidate_captions_e9_tr_only = list(data_trans_e9_only.values())\n",
    "candidate_captions_e9_mlp_gpt = list(data_mlp_e9_gpt.values())\n",
    "candidate_captions_e9_mlp_only = list(data_mlp_e9_only.values())\n",
    "\n",
    "##### --------- Fine-tuning (e5) --------- #####\n",
    "candidate_captions_e5_tr_gpt = list(data_trans_e5_gpt.values())\n",
    "candidate_captions_e5_tr_only = list(data_trans_e5_only.values())\n",
    "candidate_captions_e5_mlp_gpt = list(data_mlp_e5_gpt.values())\n",
    "candidate_captions_e5_mlp_only = list(data_mlp_e5_only.values())"
   ]
  },
  {
   "cell_type": "markdown",
   "metadata": {},
   "source": [
    "### For epoch 10:"
   ]
  },
  {
   "cell_type": "code",
   "execution_count": 22,
   "metadata": {},
   "outputs": [
    {
     "name": "stdout",
     "output_type": "stream",
     "text": [
      "{'Bleu_1': 0.2506777641553375, 'Bleu_2': 0.08593600284915895, 'Bleu_3': 0.03322308385141391, 'Bleu_4': 0.014654140738642157, 'METEOR': 0.07986446368126571, 'ROUGE_L': 0.1854841116454741, 'CIDEr': 0.023879093348784127}\n"
     ]
    }
   ],
   "source": [
    "evaluating_function(reference_captions, candidate_captions_e9_tr_gpt)"
   ]
  },
  {
   "cell_type": "code",
   "execution_count": 23,
   "metadata": {},
   "outputs": [
    {
     "name": "stdout",
     "output_type": "stream",
     "text": [
      "{'Bleu_1': 0.23818789116969488, 'Bleu_2': 0.08130207280426228, 'Bleu_3': 0.027632748363143805, 'Bleu_4': 0.011666219835587547, 'METEOR': 0.07812673659736982, 'ROUGE_L': 0.18563350520754726, 'CIDEr': 0.019060848182743333}\n"
     ]
    }
   ],
   "source": [
    "evaluating_function(reference_captions, candidate_captions_e9_tr_only)"
   ]
  },
  {
   "cell_type": "code",
   "execution_count": 24,
   "metadata": {},
   "outputs": [
    {
     "name": "stdout",
     "output_type": "stream",
     "text": [
      "{'Bleu_1': 0.2509768818962655, 'Bleu_2': 0.08520342019286431, 'Bleu_3': 0.032187505121328557, 'Bleu_4': 0.01402291493831359, 'METEOR': 0.08038749655701444, 'ROUGE_L': 0.1858470497707727, 'CIDEr': 0.023836409882343763}\n"
     ]
    }
   ],
   "source": [
    "evaluating_function(reference_captions, candidate_captions_e9_mlp_gpt)"
   ]
  },
  {
   "cell_type": "code",
   "execution_count": 25,
   "metadata": {},
   "outputs": [
    {
     "name": "stdout",
     "output_type": "stream",
     "text": [
      "{'Bleu_1': 0.20266787504601938, 'Bleu_2': 0.06974205964621807, 'Bleu_3': 0.02559184949116316, 'Bleu_4': 0.011076429794661188, 'METEOR': 0.07459261488664136, 'ROUGE_L': 0.18177541226752716, 'CIDEr': 0.020796451208892754}\n"
     ]
    }
   ],
   "source": [
    "evaluating_function(reference_captions, candidate_captions_e9_mlp_only)"
   ]
  },
  {
   "cell_type": "markdown",
   "metadata": {},
   "source": [
    "### For epoch 6:"
   ]
  },
  {
   "cell_type": "code",
   "execution_count": 26,
   "metadata": {},
   "outputs": [
    {
     "name": "stdout",
     "output_type": "stream",
     "text": [
      "{'Bleu_1': 0.24878512753998708, 'Bleu_2': 0.08460214326005787, 'Bleu_3': 0.031604235290285734, 'Bleu_4': 0.013853554754794785, 'METEOR': 0.07943185484179349, 'ROUGE_L': 0.1860154827262495, 'CIDEr': 0.022795289634907803}\n"
     ]
    }
   ],
   "source": [
    "evaluating_function(reference_captions, candidate_captions_e5_tr_gpt)"
   ]
  },
  {
   "cell_type": "code",
   "execution_count": 27,
   "metadata": {},
   "outputs": [
    {
     "name": "stdout",
     "output_type": "stream",
     "text": [
      "{'Bleu_1': 0.24472811671087127, 'Bleu_2': 0.08409955158022811, 'Bleu_3': 0.03099841910839339, 'Bleu_4': 0.012887547084310723, 'METEOR': 0.07874180063540699, 'ROUGE_L': 0.1888872697748369, 'CIDEr': 0.020575613869880927}\n"
     ]
    }
   ],
   "source": [
    "evaluating_function(reference_captions, candidate_captions_e5_tr_only)"
   ]
  },
  {
   "cell_type": "code",
   "execution_count": 28,
   "metadata": {},
   "outputs": [
    {
     "name": "stdout",
     "output_type": "stream",
     "text": [
      "{'Bleu_1': 0.2456343999192449, 'Bleu_2': 0.08234270734142898, 'Bleu_3': 0.03122141934275247, 'Bleu_4': 0.013462877431879055, 'METEOR': 0.07992151276995967, 'ROUGE_L': 0.18456010328124256, 'CIDEr': 0.02364662755438925}\n"
     ]
    }
   ],
   "source": [
    "evaluating_function(reference_captions, candidate_captions_e5_mlp_gpt)"
   ]
  },
  {
   "cell_type": "code",
   "execution_count": 29,
   "metadata": {},
   "outputs": [
    {
     "name": "stdout",
     "output_type": "stream",
     "text": [
      "{'Bleu_1': 0.22763526295875552, 'Bleu_2': 0.08126273766109549, 'Bleu_3': 0.031676766021828916, 'Bleu_4': 0.014646608975552188, 'METEOR': 0.07851058946348491, 'ROUGE_L': 0.19419798526844712, 'CIDEr': 0.02454063893209737}\n"
     ]
    }
   ],
   "source": [
    "evaluating_function(reference_captions, candidate_captions_e5_mlp_only)"
   ]
  },
  {
   "cell_type": "code",
   "execution_count": 13,
   "metadata": {},
   "outputs": [],
   "source": [
    "def _strip(s):\n",
    "    return s.strip()\n",
    "\n",
    "#ref_list = [list(map(_strip, refs)) for refs in zip(*reference_captions)]\n",
    "refs = {idx: strippedlines for (idx, strippedlines) in enumerate(reference_captions)}\n",
    "hyps = {idx: [lines.strip()] for (idx, lines) in enumerate(candidate_captions)}"
   ]
  },
  {
   "cell_type": "code",
   "execution_count": 14,
   "metadata": {},
   "outputs": [
    {
     "name": "stdout",
     "output_type": "stream",
     "text": [
      "{0: ['A person riding a surf board on top of a wave.'], 1: ['A woman standing on a beach with a surfboard.']}\n",
      "{0: ['A surfer rides on a wave.', 'A person is surfing in the sea.', 'A man surfes on the water'], 1: ['A woman is standing by the sea with a surfboard.', 'A lady at the beach with a surfboard.', 'A woman is on the beach ready to do surfboard']}\n"
     ]
    }
   ],
   "source": [
    "#print((ref_list))\n",
    "print((hyps))\n",
    "print((refs))\n",
    "for refs in zip(*reference_captions):\n",
    "    print(refs)"
   ]
  },
  {
   "cell_type": "code",
   "execution_count": 15,
   "metadata": {},
   "outputs": [],
   "source": [
    "from pycocotools.coco import COCO\n",
    "from pycocoevalcap.eval import COCOEvalCap"
   ]
  },
  {
   "cell_type": "code",
   "execution_count": 39,
   "metadata": {},
   "outputs": [],
   "source": [
    "annotation_file = 'C:/Users/admitos/Desktop/ThesisUU/DII-annotation/test.description-in-isolation.json'\n",
    "#annotation_file = 'C:/Users/admitos/Desktop/ThesisUU/Results/captions_val2014.json'\n",
    "\n",
    "results_file = 'C:/Users/admitos/Desktop/ThesisUU/Results/captions_val2014_fakecap_results.json'"
   ]
  },
  {
   "cell_type": "code",
   "execution_count": 36,
   "metadata": {},
   "outputs": [],
   "source": [
    "with open(results_file, 'rb') as f:\n",
    "    my_annot_file = json.load(f)"
   ]
  },
  {
   "cell_type": "code",
   "execution_count": 37,
   "metadata": {},
   "outputs": [
    {
     "name": "stdout",
     "output_type": "stream",
     "text": [
      "[{'image_id': 404464, 'caption': 'black and white photo of a man standing in front of a building'}, {'image_id': 380932, 'caption': 'group of people are on the side of a snowy field'}, {'image_id': 565778, 'caption': 'train traveling down a train station'}, {'image_id': 431573, 'caption': 'red fire hydrant sitting on a park bench in front of a road'}, {'image_id': 322226, 'caption': 'black and white cat is sitting on top of a wooden bench'}, {'image_id': 237669, 'caption': 'baseball player swinging a bat at a game'}, {'image_id': 351053, 'caption': 'laptop computer sitting on top of a table'}, {'image_id': 344860, 'caption': 'zebra standing on top of a lush green field'}, {'image_id': 40102, 'caption': 'group of giraffes standing next to each other in a grassy field'}, {'image_id': 95427, 'caption': 'close up of a pile of oranges sitting on a table'}, {'image_id': 510755, 'caption': 'couple of a motorcycle parked in front of a lush green field'}, {'image_id': 399012, 'caption': 'close up of a donut sitting on top of a plate'}, {'image_id': 62151, 'caption': 'herd of cows are grazing on a lush green field'}, {'image_id': 314154, 'caption': 'man standing in a living room holding a wii game controller'}, {'image_id': 308026, 'caption': 'man riding a skateboard in front of a building'}, {'image_id': 207151, 'caption': 'pizza that is sitting on top of a plate'}, {'image_id': 227227, 'caption': 'man standing next to a dog'}, {'image_id': 521400, 'caption': 'woman on a tennis court holding a tennis racket in front of a tennis ball'}, {'image_id': 281878, 'caption': 'cat is sitting on top of a bed in front of a living room'}, {'image_id': 258516, 'caption': 'man is standing in front of a window'}, {'image_id': 491497, 'caption': 'bathroom that is sitting on top of a bed'}, {'image_id': 104612, 'caption': 'bowl of food on top of a plate'}, {'image_id': 369826, 'caption': 'laptop computer sitting on top of a street'}, {'image_id': 497006, 'caption': 'bunch of bananas in front of an outdoor market'}, {'image_id': 2240, 'caption': 'close up of a teddy bear sitting on a table'}, {'image_id': 350341, 'caption': 'close up of a pizza sitting on top of a table'}, {'image_id': 119181, 'caption': 'white plate that is sitting on top of a table'}, {'image_id': 564563, 'caption': 'black and white photo of a plane flying through the water'}, {'image_id': 397133, 'caption': 'group of people sitting at a table with a glass of wine'}, {'image_id': 280819, 'caption': 'group of people sitting at a table with plates of food'}, {'image_id': 349860, 'caption': 'man doing a trick on a skateboard in the air on top of a ramp'}, {'image_id': 143671, 'caption': 'close up of a close up of a plate of food on top of a plate'}, {'image_id': 132001, 'caption': 'black and white cat sitting on top of a computer keyboard'}, {'image_id': 193271, 'caption': 'kitchen with white cabinets and stainless steel appliances'}, {'image_id': 122934, 'caption': 'man riding a horse drawn carriage on the back of a motorcycle'}, {'image_id': 489023, 'caption': 'group of people playing a game of frisbee in a field'}, {'image_id': 535668, 'caption': 'baseball player swinging a bat at home plate holding a bat in a baseball game'}, {'image_id': 310177, 'caption': 'bowl of hot dogs are sitting on a table'}, {'image_id': 375521, 'caption': 'group of people standing on top of a snow covered slope'}, {'image_id': 223648, 'caption': 'wooden bench sitting on top of a table'}, {'image_id': 121041, 'caption': 'man riding a wave on a surfboard in the ocean'}, {'image_id': 129576, 'caption': 'living room with a flat screen tv'}, {'image_id': 156416, 'caption': 'man riding a wave on a surfboard in the ocean'}, {'image_id': 496768, 'caption': 'man flying a kite in a body of water'}, {'image_id': 86320, 'caption': 'bathroom with a sink and a mirror'}, {'image_id': 377715, 'caption': 'baseball player holding a baseball bat at a game'}, {'image_id': 191096, 'caption': 'baseball player swinging a bat at a baseball game'}, {'image_id': 328289, 'caption': 'group of people standing on top of a lush green field'}, {'image_id': 371250, 'caption': 'black and white cat sitting on top of a bed'}, {'image_id': 199602, 'caption': 'young woman holding a kite on the beach'}, {'image_id': 329486, 'caption': 'group of people standing in the middle of water'}, {'image_id': 398362, 'caption': 'black and white photo of a living room'}, {'image_id': 25560, 'caption': 'black and white cat sitting on top of a tv'}, {'image_id': 236412, 'caption': 'slice of pizza sitting on top of a plate'}, {'image_id': 438862, 'caption': 'group of young men playing a game of frisbee in a field'}, {'image_id': 450247, 'caption': 'black and white cat laying on top of a computer desk'}, {'image_id': 278166, 'caption': 'black and white cat sitting on top of a toilet'}, {'image_id': 480985, 'caption': 'group of people standing next to each other'}, {'image_id': 312421, 'caption': 'black and white cat sitting on top of a street'}, {'image_id': 473237, 'caption': 'man is holding a slice of pizza'}, {'image_id': 166323, 'caption': 'bathroom with a sink and mirror'}, {'image_id': 144200, 'caption': 'close up of a plate of food on a table'}, {'image_id': 484982, 'caption': 'living room with a clock tower in front of a window'}, {'image_id': 376549, 'caption': 'man riding a snowboard down a snow covered slope'}, {'image_id': 288955, 'caption': 'black and white cat laying on a table next to a bowl of food'}, {'image_id': 450263, 'caption': 'group of people sitting on a bench in front of a city street'}, {'image_id': 165547, 'caption': 'living room with a large window'}, {'image_id': 281533, 'caption': 'woman sitting on top of a living room'}, {'image_id': 521967, 'caption': 'stuffed teddy bear sitting on top of a bed'}, {'image_id': 434494, 'caption': 'train is parked in front of a city street'}, {'image_id': 421010, 'caption': 'group of people sitting on a bench in front of a park'}, {'image_id': 109005, 'caption': 'herd of cows are grazing on a lush green field'}, {'image_id': 138079, 'caption': 'bathroom with a sink and a mirror'}, {'image_id': 127451, 'caption': 'man riding a snowboard on top of a snow covered slope'}, {'image_id': 490081, 'caption': 'group of cows that are standing in a dirt field'}, {'image_id': 262873, 'caption': 'black and white cat sitting on top of a table'}, {'image_id': 309022, 'caption': 'kitchen counter in front of a table'}, {'image_id': 500663, 'caption': 'man flying a kite on top of a lush green field'}, {'image_id': 247984, 'caption': 'black and white cat sitting on top of a computer desk'}, {'image_id': 428454, 'caption': 'man riding a surf board on the beach flying a kite in the snow'}, {'image_id': 439969, 'caption': 'black and white fire hydrant sitting on top of a boat'}, {'image_id': 143975, 'caption': 'living room with a coffee table'}, {'image_id': 545959, 'caption': 'fire hydrant sitting on top of a lush green field'}, {'image_id': 12448, 'caption': 'little girl sitting on top of a teddy bear'}, {'image_id': 63154, 'caption': 'man riding a wave on a surfboard in the ocean'}, {'image_id': 546702, 'caption': 'black and white cat laying on top of a bed'}, {'image_id': 570579, 'caption': 'group of people sitting at a table with a plate of food'}, {'image_id': 295589, 'caption': 'baseball player holding a baseball bat on a baseball field'}, {'image_id': 26767, 'caption': 'couple of a bench in front of a street sign'}, {'image_id': 146723, 'caption': 'man playing a game of a soccer ball'}, {'image_id': 216841, 'caption': 'man sitting on top of a table'}, {'image_id': 122390, 'caption': 'black and white dog laying on a bed'}, {'image_id': 1146, 'caption': 'man wearing a suit and tie holding a cell phone'}, {'image_id': 511136, 'caption': 'giraffe standing in front of a building'}, {'image_id': 485709, 'caption': 'baseball player holding a baseball bat on a baseball field'}, {'image_id': 299319, 'caption': 'man holding a surfboard on the beach'}, {'image_id': 60760, 'caption': 'bathroom with a sink and white toilet and a mirror'}, {'image_id': 136501, 'caption': 'baseball player is holding a bat in front of a field'}, {'image_id': 188958, 'caption': 'group of people standing on a bench in front of a street'}, {'image_id': 462341, 'caption': 'clock tower with a clock on the side of a building'}, {'image_id': 564745, 'caption': 'man holding a tennis racket on a tennis court holding a tennis racquet on a skateboard'}, {'image_id': 86408, 'caption': 'kitchen with wood cabinets and stainless steel appliances'}, {'image_id': 122851, 'caption': 'group of people standing next to each other in the background'}, {'image_id': 75162, 'caption': 'zebra standing on top of a lush green field'}, {'image_id': 400538, 'caption': 'group of people sitting at a table with food in a living room'}, {'image_id': 268556, 'caption': 'man riding a motorcycle parked in front of a city street'}, {'image_id': 455859, 'caption': 'group of people playing a game of frisbee'}, {'image_id': 515289, 'caption': 'group of people riding a bike down a road in front of a street'}, {'image_id': 493174, 'caption': 'baseball player holding a baseball bat at a game'}, {'image_id': 545293, 'caption': 'park bench sitting on top of a lush green field'}, {'image_id': 352194, 'caption': 'man riding a motorcycle down a busy city street'}, {'image_id': 184321, 'caption': 'train traveling down a track in front of a road'}, {'image_id': 297343, 'caption': 'close up of a stop sign with a pair of scissors'}, {'image_id': 261061, 'caption': 'young girl holding a frisbee in a field'}, {'image_id': 67868, 'caption': 'black and white dog sitting on top of a bench'}, {'image_id': 39540, 'caption': 'pizza that is sitting on top of a plate'}, {'image_id': 78707, 'caption': 'baseball player swinging a bat at home plate during a game'}, {'image_id': 28758, 'caption': 'giraffe standing on top of a lush green field'}, {'image_id': 570465, 'caption': 'plate of food sitting on top of a table'}, {'image_id': 108094, 'caption': 'man riding a bike parked in front of a building with a clock on a city street'}, {'image_id': 201723, 'caption': 'cat sitting on top of a table with books'}, {'image_id': 356302, 'caption': 'black and white cat sitting on top of a desk'}, {'image_id': 513681, 'caption': 'large white airplane that is sitting on top of a runway'}, {'image_id': 27353, 'caption': 'close up of a plate of food on a table'}, {'image_id': 418281, 'caption': 'giraffe standing in front of a lush green field'}, {'image_id': 323682, 'caption': 'group of people standing in front of a building'}, {'image_id': 563964, 'caption': 'young boy holding a frisbee in the air'}, {'image_id': 386146, 'caption': 'giraffe standing on top of a lush green field'}, {'image_id': 555705, 'caption': 'cat sitting on top of a computer desk'}, {'image_id': 129159, 'caption': 'city street with a clock tower in front of a building'}, {'image_id': 93201, 'caption': 'black and white cat laying on top of a bed'}, {'image_id': 517822, 'caption': 'man holding a frisbee in a field with a baseball bat'}, {'image_id': 213687, 'caption': 'group of people walking down the street in front of a city street'}, {'image_id': 466787, 'caption': 'bowl of fruits and vegetables on it'}, {'image_id': 507065, 'caption': 'man sitting on top of a bench'}, {'image_id': 16356, 'caption': 'man flying a kite in the air'}, {'image_id': 307569, 'caption': 'group of people riding horses on the beach'}, {'image_id': 486438, 'caption': 'close up of donuts that are sitting on a table'}, {'image_id': 35197, 'caption': 'man riding a skateboard on top of a skate board'}, {'image_id': 65244, 'caption': 'man sitting on top of a wall'}, {'image_id': 322654, 'caption': 'street sign on a pole next to a street sign'}, {'image_id': 347170, 'caption': 'young boy riding a skateboard on a tennis court holding a baseball bat'}, {'image_id': 197254, 'caption': 'large truck parked in front of a building with a clock on top of a building'}, {'image_id': 180800, 'caption': 'bowl of fruit and vegetables on a table'}, {'image_id': 462565, 'caption': 'man riding a bike down a street'}, {'image_id': 14941, 'caption': 'cat laying on a bed next to each other'}, {'image_id': 516750, 'caption': 'black and white cat is sitting on top of a wall'}, {'image_id': 500062, 'caption': 'tennis player is playing tennis on a tennis court holding a tennis racket at a tennis ball'}, {'image_id': 170629, 'caption': 'double decker bus is parked in front of a city street'}, {'image_id': 310103, 'caption': 'pile of luggage sitting on a road'}, {'image_id': 143769, 'caption': 'baby elephant standing next to a fence'}, {'image_id': 427438, 'caption': 'group of zebras standing next to each other in a field'}, {'image_id': 168330, 'caption': 'city bus driving down the street at night'}, {'image_id': 477949, 'caption': 'vase filled with flowers sitting on a table'}, {'image_id': 534957, 'caption': 'living room with a white toilet sitting on top of a table'}, {'image_id': 560108, 'caption': 'young boy riding a skateboard down a baseball bat'}, {'image_id': 242499, 'caption': 'group of people standing next to a boat in the water'}, {'image_id': 551952, 'caption': 'truck is parked in front of a train station with a parking meter on a city street'}, {'image_id': 383406, 'caption': 'man sitting on top of a bed'}, {'image_id': 475779, 'caption': 'baby elephant standing in front of a tree'}, {'image_id': 504142, 'caption': 'cat laying on top of a bed'}, {'image_id': 466774, 'caption': 'baby elephant standing in front of a tree'}, {'image_id': 217285, 'caption': 'baseball player is holding a bat in a baseball game'}, {'image_id': 209692, 'caption': 'red fire truck parked in front of a building'}, {'image_id': 385861, 'caption': 'man sitting at a table eating a birthday cake with a hot dog'}, {'image_id': 251252, 'caption': 'man riding a motorcycle parked in front of a street'}, {'image_id': 9426, 'caption': 'large plane flying through the sky'}, {'image_id': 308394, 'caption': 'cat sitting on top of a bed next to a window'}, {'image_id': 185768, 'caption': 'close up of a teddy bear sitting on top of it'}, {'image_id': 572051, 'caption': 'close up of a plate of food on a table'}, {'image_id': 26942, 'caption': 'close up of a cat laying on top of a table'}, {'image_id': 335532, 'caption': 'man sitting on a piece of a plate of food'}, {'image_id': 524456, 'caption': 'cat sitting on top of a dog'}, {'image_id': 307936, 'caption': 'baby elephant standing in a dirt field'}, {'image_id': 365289, 'caption': 'little girl sitting on a bed with a teddy bear'}, {'image_id': 334321, 'caption': 'group of people sitting on a horse'}, {'image_id': 66412, 'caption': 'man standing in front of a bathroom'}, {'image_id': 144941, 'caption': 'bathroom with a toilet sitting on top of a bathroom'}, {'image_id': 191381, 'caption': 'bathroom with a white toilet sitting on top of a toilet'}, {'image_id': 284350, 'caption': 'man in a suit standing on a tennis court holding a tennis racket'}, {'image_id': 41888, 'caption': 'zebra standing on top of a lush green field'}, {'image_id': 579815, 'caption': 'man standing in front of a city street'}, {'image_id': 573206, 'caption': 'pizza that is sitting on top of a table'}, {'image_id': 198448, 'caption': 'woman sitting on a bench in front of a cell phone'}, {'image_id': 542145, 'caption': 'bathroom with a sink in front of a mirror'}, {'image_id': 573291, 'caption': 'giraffe standing on top of a lush green grass covered field'}, {'image_id': 77184, 'caption': 'couple of boats docked in the water'}, {'image_id': 142092, 'caption': 'close up of a pizza sitting on top of a table'}, {'image_id': 305821, 'caption': 'giraffe standing on top of a lush green field'}, {'image_id': 191270, 'caption': 'group of people sitting on a table'}, {'image_id': 32992, 'caption': 'black and white cat sitting on top of a wooden table'}, {'image_id': 270244, 'caption': 'zebra standing on top of a lush green field'}, {'image_id': 168706, 'caption': 'cow standing on top of a lush green field'}, {'image_id': 222304, 'caption': 'vase filled with flowers sitting on a table'}, {'image_id': 579056, 'caption': 'man standing on top of a tennis court'}, {'image_id': 476597, 'caption': 'group of people standing in a living room playing a video game'}, {'image_id': 495612, 'caption': 'street sign sitting on top of a building'}, {'image_id': 372938, 'caption': 'man riding a motorcycle down the road'}, {'image_id': 516316, 'caption': 'herd of zebra standing in a grassy field'}, {'image_id': 578292, 'caption': 'stop sign in front of a street'}, {'image_id': 288403, 'caption': 'group of people standing in front of a soccer ball'}, {'image_id': 258985, 'caption': 'white toilet sitting on top of a table'}, {'image_id': 420229, 'caption': 'close up of a bowl of scissors sitting on a table'}, {'image_id': 139530, 'caption': 'group of people standing next to each other'}, {'image_id': 463730, 'caption': 'group of people walking down a city street'}, {'image_id': 196311, 'caption': 'living room with lots of luggage sitting on top of a table'}, {'image_id': 568101, 'caption': 'group of people flying kites in the sky'}, {'image_id': 564659, 'caption': 'close up of a plate of food on a table'}, {'image_id': 460347, 'caption': 'double decker bus driving down the road next to a car'}, {'image_id': 53990, 'caption': 'man eating a hot dog sitting on a plate with a slice of cake'}, {'image_id': 557981, 'caption': 'young woman holding a cell phone'}, {'image_id': 400139, 'caption': 'plate of food on a table'}, {'image_id': 234572, 'caption': 'man doing a trick on a skateboard in the air on top of a ramp'}, {'image_id': 39760, 'caption': 'man flying a kite in the sky'}, {'image_id': 226111, 'caption': 'stop sign in front of a street sign'}, {'image_id': 540763, 'caption': 'bathroom with a white toilet sitting on top of a table'}, {'image_id': 550529, 'caption': 'red motorcycle parked in front of a building'}, {'image_id': 283210, 'caption': 'man riding a horse in the middle of an elephant'}, {'image_id': 403817, 'caption': 'man standing in front of a tv'}, {'image_id': 81922, 'caption': 'plane is flying through the sky'}, {'image_id': 303818, 'caption': 'group of people riding a motorcycle on a city street'}, {'image_id': 481635, 'caption': 'man sitting at a table with a plate of food'}, {'image_id': 17707, 'caption': 'black and white cat sitting on top of a beach'}, {'image_id': 224861, 'caption': 'black and white photo of a man holding a cell phone'}, {'image_id': 60623, 'caption': 'man sitting at a table with a plate of food'}, {'image_id': 511058, 'caption': 'close up of giraffe standing next to each other in the background'}, {'image_id': 453757, 'caption': 'man standing on a tennis court holding a baseball bat at a ball'}, {'image_id': 46859, 'caption': 'group of people playing a game of frisbee in a field'}, {'image_id': 208589, 'caption': 'close up of a pizza sitting on top of a table'}, {'image_id': 42069, 'caption': 'giraffe standing in front of a building'}, {'image_id': 73830, 'caption': 'giraffe is standing next to a fence'}, {'image_id': 212663, 'caption': 'close up of a bus stop sign on a city street'}, {'image_id': 84235, 'caption': 'hot dog sitting on a bun next to a plate of food'}, {'image_id': 232309, 'caption': 'man riding a kite on a surfboard in the ocean'}, {'image_id': 314294, 'caption': 'herd of elephants standing next to each other in the background'}, {'image_id': 156832, 'caption': 'bathroom with a toilet and sink and a mirror'}, {'image_id': 325690, 'caption': 'stop sign on the side of a street'}, {'image_id': 336777, 'caption': 'stop sign in front of a city street'}, {'image_id': 572517, 'caption': 'black and white polar bear standing in the water'}, {'image_id': 577539, 'caption': 'birthday cake sitting on top of a white plate'}, {'image_id': 14869, 'caption': 'giraffe standing next to a park bench in front of a lush green field'}, {'image_id': 226278, 'caption': 'group of people standing on a city street'}, {'image_id': 117407, 'caption': 'black and white cat sitting on top of a bed'}, {'image_id': 370423, 'caption': 'black and white cat sitting on top of a bed'}, {'image_id': 156397, 'caption': 'herd of sheep grazing on a lush green field'}, {'image_id': 125476, 'caption': 'black and white cat sitting on a park bench in front of a lush green field'}, {'image_id': 244339, 'caption': 'man sitting on top of a table'}, {'image_id': 157269, 'caption': 'group of people standing in front of a bus'}, {'image_id': 98416, 'caption': 'group of sheep standing next to a herd of sheep grazing on a lush green field'}, {'image_id': 313789, 'caption': 'group of fruit in front of an outdoor market'}, {'image_id': 7211, 'caption': 'train is parked in front of a train station'}, {'image_id': 540186, 'caption': 'bathroom with a sink in front of a kitchen'}, {'image_id': 453819, 'caption': 'boat that is sitting on the water'}, {'image_id': 15113, 'caption': 'close up of a bird perched on top of a tree'}, {'image_id': 493868, 'caption': 'bowl of vegetables sitting on top of a plate'}, {'image_id': 165029, 'caption': 'man sitting on top of a bed'}, {'image_id': 556616, 'caption': 'man standing next to a parking meter'}, {'image_id': 317560, 'caption': 'young boy sitting on a table holding a banana'}, {'image_id': 368402, 'caption': 'man standing in front of a kitchen'}, {'image_id': 292301, 'caption': 'white plate that is sitting on a table next to a cup of coffee'}, {'image_id': 436470, 'caption': 'living room with a chair in front of a living room'}, {'image_id': 448269, 'caption': 'group of people standing on a baseball field'}, {'image_id': 311913, 'caption': 'brown horse standing in front of a lush green field'}, {'image_id': 183666, 'caption': 'train traveling down the tracks in front of a train station'}, {'image_id': 436141, 'caption': 'bathroom with a toilet and a sink'}, {'image_id': 138975, 'caption': 'group of people standing on top of a snow covered slope'}, {'image_id': 66423, 'caption': 'group of people sitting on the beach'}, {'image_id': 34180, 'caption': 'young boy holding a banana'}, {'image_id': 138477, 'caption': 'group of people standing in a field flying a kite in a grassy field'}, {'image_id': 74711, 'caption': 'group of birds are standing in the water'}, {'image_id': 62060, 'caption': 'group of people standing in a field with a frisbee'}, {'image_id': 153343, 'caption': 'teddy bear sitting on top of a fire hydrant'}, {'image_id': 502136, 'caption': 'clock tower sitting on top of a fire hydrant in front of a building'}, {'image_id': 71466, 'caption': 'bed is sitting on top of a wall'}, {'image_id': 541010, 'caption': 'group of people standing in a field with a frisbee'}, {'image_id': 499940, 'caption': 'young boy standing in a field holding a kite in the air'}, {'image_id': 281455, 'caption': 'person riding a wave on top of a beach'}, {'image_id': 180490, 'caption': 'black and white photo of a living room with a refrigerator'}, {'image_id': 171062, 'caption': 'dog is sitting in a living room with a computer screen'}, {'image_id': 540264, 'caption': 'woman holding a cell phone in front of a man'}, {'image_id': 301102, 'caption': 'man sitting on top of a tennis court'}, {'image_id': 182245, 'caption': 'group of people sitting at a table with plates of food in front of a birthday cake'}, {'image_id': 190081, 'caption': 'woman is playing a game in a living room with a tennis racket'}, {'image_id': 109819, 'caption': 'group of people walking down a street'}, {'image_id': 212704, 'caption': 'group of people sitting on a couch playing a video game'}, {'image_id': 35474, 'caption': 'baby elephant standing in front of a tree'}, {'image_id': 515579, 'caption': 'young boy standing on a tennis court holding a baseball bat'}, {'image_id': 143541, 'caption': 'man riding a wave on the beach holding a surfboard in the ocean'}, {'image_id': 17756, 'caption': 'man sitting on a park bench in the water'}, {'image_id': 335472, 'caption': 'young man riding skis down a snow covered slope'}, {'image_id': 249720, 'caption': 'man riding a skateboard down a street'}, {'image_id': 171500, 'caption': 'truck driving down a road in front of a lush green field'}, {'image_id': 355257, 'caption': 'laptop computer sitting on top of a desk'}, {'image_id': 62790, 'caption': 'man sitting on top of a tv'}, {'image_id': 80172, 'caption': 'young boy holding a video game controller'}, {'image_id': 24430, 'caption': 'boat that is sitting on top of a city street'}, {'image_id': 182784, 'caption': 'group of people standing next to each other in the background'}, {'image_id': 72833, 'caption': 'man riding a wave on top of a surfboard'}, {'image_id': 31747, 'caption': 'boat that is on a body of boats in the water'}, {'image_id': 12543, 'caption': 'man flying a kite in front of a field'}, {'image_id': 129637, 'caption': 'group of horses standing next to each other'}, {'image_id': 568623, 'caption': 'group of people standing in front of a luggage bag'}, {'image_id': 527025, 'caption': 'group of people sitting on a table'}, {'image_id': 383470, 'caption': 'stop sign on the side of a snow covered slope'}, {'image_id': 248242, 'caption': 'man riding a snowboard down the side of a snow covered slope'}, {'image_id': 206027, 'caption': 'sandwich sitting on top of a table'}, {'image_id': 384204, 'caption': 'black and white cat laying on top of a couch next to a window'}, {'image_id': 190056, 'caption': 'group of zebras are standing next to each other in the background'}, {'image_id': 103579, 'caption': 'group of people standing on a lush green field holding a frisbee in the park'}, {'image_id': 238866, 'caption': 'black and white photo of a teddy bear sitting on top of a table'}, {'image_id': 57545, 'caption': 'man sitting on a park bench in front of a tree'}, {'image_id': 453756, 'caption': 'close up of a table that is sitting on top of a table'}, {'image_id': 446322, 'caption': 'group of donuts sitting on a table'}, {'image_id': 272110, 'caption': 'man on a skateboard doing a trick on a bench in front of a building'}, {'image_id': 536831, 'caption': 'man riding skis down a snow covered slope'}, {'image_id': 180560, 'caption': 'group of people standing next to each other'}, {'image_id': 364521, 'caption': 'close up of a banana sitting on top of a table'}, {'image_id': 403013, 'caption': 'bathroom with a sink in the kitchen'}, {'image_id': 318171, 'caption': 'giraffe standing in front of a lush green field'}, {'image_id': 574184, 'caption': 'black and white cat sitting on top of a computer desk'}, {'image_id': 345998, 'caption': 'man riding a horse in a dirt field'}, {'image_id': 508730, 'caption': 'woman holding a stuffed teddy bear sitting on a table'}, {'image_id': 189845, 'caption': 'young man holding a tennis racquet on a tennis court'}, {'image_id': 335833, 'caption': 'city street with a clock tower on the side of a building'}, {'image_id': 329717, 'caption': 'woman sitting on top of a bed'}, {'image_id': 5064, 'caption': 'baseball player swinging a bat at a ball during a game'}, {'image_id': 554625, 'caption': 'man sitting on top of a laptop computer'}, {'image_id': 562150, 'caption': 'woman sitting on top of a plate'}, {'image_id': 467477, 'caption': 'man riding a wave on a surfboard in the ocean'}, {'image_id': 112085, 'caption': 'herd of horses grazing on a lush green field'}, {'image_id': 410437, 'caption': 'red fire hydrant sitting on top of a building'}, {'image_id': 20965, 'caption': 'woman swinging a tennis ball on a tennis court holding a tennis racket on a tennis court'}, {'image_id': 558524, 'caption': 'white and white vase that is sitting on top of a table'}, {'image_id': 256091, 'caption': 'herd of zebra standing on a dirt road'}, {'image_id': 480076, 'caption': 'black and white cat sitting on top of a bed'}, {'image_id': 208663, 'caption': 'close up of a plate of food on a table'}, {'image_id': 451872, 'caption': 'group of elephants are standing in a dirt field'}, {'image_id': 272262, 'caption': 'man holding a tennis racket on a tennis court holding a tennis racquet on a baseball field'}, {'image_id': 324937, 'caption': 'cat laying on a bed with a teddy bear sitting on top of a table'}, {'image_id': 203849, 'caption': 'kitchen with white cabinets and stainless steel appliances'}, {'image_id': 403385, 'caption': 'bathroom with a toilet sitting next to a bathroom'}, {'image_id': 577858, 'caption': 'group of people sitting at a table with plates of food'}, {'image_id': 85329, 'caption': 'man wearing a hat and tie'}, {'image_id': 412151, 'caption': 'group of motorcycles parked in front of a street'}, {'image_id': 308599, 'caption': 'stop sign sitting on the side of a building'}, {'image_id': 104025, 'caption': 'black and white horse is riding a wave on the beach'}, {'image_id': 185250, 'caption': 'young boy holding a frisbee in a field'}, {'image_id': 278506, 'caption': 'group of people standing on a beach flying kites'}, {'image_id': 7682, 'caption': 'man wearing a suit and tie holding a cell phone'}, {'image_id': 15085, 'caption': 'couple of zebras are standing in the water'}, {'image_id': 216482, 'caption': 'giraffe standing next to a tree in the background'}, {'image_id': 143931, 'caption': 'close up of a bus stop sign on a city street'}, {'image_id': 60687, 'caption': 'herd of sheep standing on top of a lush green field'}, {'image_id': 413321, 'caption': 'man riding a wave on a surfboard in the ocean'}, {'image_id': 280607, 'caption': 'close up of a piece of pizza sitting on a table'}, {'image_id': 74331, 'caption': 'bunch of bananas on display in front of a street'}, {'image_id': 51191, 'caption': 'bathroom with a sink and a mirror'}, {'image_id': 313155, 'caption': 'hot dog sitting on top of a plate on a table'}, {'image_id': 375363, 'caption': 'bench sitting in front of a tree'}, {'image_id': 235302, 'caption': 'group of people sitting on a table'}, {'image_id': 497312, 'caption': 'man riding a horse in a field'}, {'image_id': 191501, 'caption': 'red and white photo of a street sign sitting on top of a building'}, {'image_id': 241453, 'caption': 'couple of cows are standing next to each other'}, {'image_id': 232262, 'caption': 'group of people walking down a busy city street'}, {'image_id': 113914, 'caption': 'woman sitting in front of a car'}, {'image_id': 502737, 'caption': 'woman holding a piece of cake on a table'}, {'image_id': 65415, 'caption': 'young boy riding skis down a snow covered slope'}, {'image_id': 102446, 'caption': 'living room with a television and a window'}, {'image_id': 368117, 'caption': 'traffic light on the side of a red stop sign'}, {'image_id': 162827, 'caption': 'black and white teddy bear sitting on a table'}, {'image_id': 41369, 'caption': 'black and white cat sitting on top of a laptop'}, {'image_id': 15690, 'caption': 'herd of elephants walking through the water'}, {'image_id': 122745, 'caption': 'stop sign on the side of a street sign'}, {'image_id': 458054, 'caption': 'bird that is sitting on top of a wooden table'}, {'image_id': 102912, 'caption': 'group of elephants standing next to a fire hydrant'}, {'image_id': 177941, 'caption': 'close up of a pizza that is sitting on a table'}, {'image_id': 321214, 'caption': 'little boy sitting at a table eating a slice of pizza'}, {'image_id': 137003, 'caption': 'young girl holding a kite in a field'}, {'image_id': 25202, 'caption': 'plate that is sitting on a table'}, {'image_id': 321674, 'caption': 'man sitting in front of a window'}, {'image_id': 129001, 'caption': 'bathroom with a toilet and a sink'}, {'image_id': 79841, 'caption': 'man riding a bike down a street in front of a city street'}, {'image_id': 521634, 'caption': 'street sign on a pole in front of a traffic light'}, {'image_id': 350694, 'caption': 'group of people sitting on a boat in the water'}, {'image_id': 529636, 'caption': 'large clock tower in front of a building'}, {'image_id': 415746, 'caption': 'display of donuts sitting on top of a table'}, {'image_id': 64822, 'caption': 'red and white cat sitting on top of a street sign'}, {'image_id': 162952, 'caption': 'woman standing in a living room holding a laptop computer'}, {'image_id': 368978, 'caption': 'blue and white airplane flying through the sky'}, {'image_id': 76460, 'caption': 'group of elephants standing in a grassy field'}, {'image_id': 81561, 'caption': 'traffic light with a clock tower in the air'}, {'image_id': 514508, 'caption': 'group of people sitting on a table'}, {'image_id': 269089, 'caption': 'hot dog sitting on top of a plate next to a cup of food on a table'}, {'image_id': 472621, 'caption': 'bathroom with a sink and a mirror'}, {'image_id': 222564, 'caption': 'man standing in front of a kitchen'}, {'image_id': 66523, 'caption': 'bathroom with a white bath tub'}, {'image_id': 289444, 'caption': 'group of young children playing a game of frisbee in a field'}, {'image_id': 16716, 'caption': 'group of zebras standing next to each other in a grassy field'}, {'image_id': 418949, 'caption': 'baseball player holding a bat on a field playing a game'}, {'image_id': 129699, 'caption': 'group of people standing in front of a train station'}, {'image_id': 153656, 'caption': 'white and white cat is sitting on top of a table'}, {'image_id': 234500, 'caption': 'man eating a hot dog on a plate with a sandwich on a table'}, {'image_id': 281221, 'caption': 'group of giraffes standing in a grassy field'}, {'image_id': 94194, 'caption': 'man sitting in front of a kitchen'}, {'image_id': 289393, 'caption': 'black and white cat sitting on top of a table'}, {'image_id': 398076, 'caption': 'man is holding a cell phone'}, {'image_id': 578210, 'caption': 'teddy bear sitting on a table next to a birthday cake'}, {'image_id': 167854, 'caption': 'woman holding a tennis racket on the beach'}, {'image_id': 362373, 'caption': 'laptop computer sitting on top of a table in front of a living room'}, {'image_id': 41945, 'caption': 'red and white photo of a boat that is parked in front of a building'}, {'image_id': 391895, 'caption': 'man holding a red umbrella in the rain'}, {'image_id': 432176, 'caption': 'black and white cat sitting in front of a window'}, {'image_id': 146973, 'caption': 'white plate that is sitting on a table'}, {'image_id': 381021, 'caption': 'man standing in front of a refrigerator'}, {'image_id': 434230, 'caption': 'group of people sitting on top of a table with a clock on it'}, {'image_id': 96493, 'caption': 'young girl laying on top of a couch holding a baby sitting on a bed'}, {'image_id': 360661, 'caption': 'group of people riding horses on a horse'}, {'image_id': 483108, 'caption': 'double decker bus is parked in front of a building'}, {'image_id': 87038, 'caption': 'group of people riding a skateboard down a street in front of a city street'}, {'image_id': 440575, 'caption': 'large airplane flying through the sky'}, {'image_id': 224736, 'caption': 'bathroom that is sitting on top of a kitchen counter'}, {'image_id': 247306, 'caption': 'group of boats docked in the water'}, {'image_id': 173350, 'caption': 'black and white dog laying on a bed next to each other'}, {'image_id': 240903, 'caption': 'group of sheep standing on top of a lush green field'}, {'image_id': 240028, 'caption': 'young boy standing on a tennis court holding a frisbee in a field'}, {'image_id': 413044, 'caption': 'little girl sitting on a bench in front of a fire hydrant'}, {'image_id': 201925, 'caption': 'close up of a pizza sitting on top of a table'}, {'image_id': 279305, 'caption': 'close up of a close up of a pair of scissors sitting on a table'}, {'image_id': 176649, 'caption': 'black and white photo of a street sign sitting on top of a table'}, {'image_id': 83915, 'caption': 'large clock tower with a clock tower in front of a building'}, {'image_id': 181449, 'caption': 'black and white cat sitting on top of a cell phone'}, {'image_id': 158015, 'caption': 'man standing on a tennis court holding a tennis racket in front of a tennis ball'}, {'image_id': 293802, 'caption': 'man on a skateboard doing a trick on a tennis court holding a tennis racket'}, {'image_id': 414679, 'caption': 'brown and white cow standing in a field'}, {'image_id': 514083, 'caption': 'man riding a skate board doing a trick on his skateboard'}, {'image_id': 153607, 'caption': 'vase that is sitting on top of a table'}, {'image_id': 262986, 'caption': 'black bear standing in the water'}, {'image_id': 142667, 'caption': 'group of people standing in front of a street'}, {'image_id': 6818, 'caption': 'bathroom with a toilet and sink'}, {'image_id': 143824, 'caption': 'man sitting in front of a dog'}, {'image_id': 28655, 'caption': 'street sign sitting on top of a pole in front of a building'}, {'image_id': 393258, 'caption': 'black and white cat sitting on top of a bed'}, {'image_id': 515779, 'caption': 'group of people sitting on a cell phone'}, {'image_id': 250108, 'caption': 'laptop computer sitting on top of a desk next to each other'}, {'image_id': 236182, 'caption': 'close up of a street sign sitting on top of a tree'}, {'image_id': 387362, 'caption': 'man sitting on top of a cell phone'}, {'image_id': 289423, 'caption': 'group of young men playing a game of frisbee in the air'}, {'image_id': 54277, 'caption': 'man standing on top of a wall'}, {'image_id': 318219, 'caption': 'black and white cat sitting on top of a computer desk'}, {'image_id': 559842, 'caption': 'group of people playing a game of soccer on a field'}, {'image_id': 419048, 'caption': 'woman holding a frisbee on a lush green grass covered field'}, {'image_id': 341041, 'caption': 'young man riding a skateboard on a tennis court holding a tennis racket at a skate park'}, {'image_id': 245201, 'caption': 'black and white cat sitting on top of a wall'}, {'image_id': 155877, 'caption': 'group of sheep standing in front of a fence'}, {'image_id': 10766, 'caption': 'young boy holding a cell phone'}, {'image_id': 69392, 'caption': 'man sitting on top of a tennis court'}, {'image_id': 108169, 'caption': 'black and white photo of a snow covered in the middle of water'}, {'image_id': 101622, 'caption': 'man holding a frisbee in the air'}, {'image_id': 551215, 'caption': 'man standing on a tennis court holding a frisbee on a tennis court holding a tennis racket'}, {'image_id': 155743, 'caption': 'zebra standing on top of a lush green field'}, {'image_id': 82327, 'caption': 'clock tower sitting in front of a building'}, {'image_id': 557360, 'caption': 'close up of a close up of a close up of a hand holding a tree'}, {'image_id': 295564, 'caption': 'bunch of vases sitting on display in the background'}, {'image_id': 173704, 'caption': 'man sitting at a table holding a cell phone'}, {'image_id': 173574, 'caption': 'herd of sheep are standing in the grass field'}, {'image_id': 321079, 'caption': 'chocolate cake sitting on top of a white plate'}, {'image_id': 295837, 'caption': 'man sitting at a table in front of a pizza'}, {'image_id': 527248, 'caption': 'group of people standing in front of a building'}, {'image_id': 61181, 'caption': 'group of cars are driving down a busy city street'}, {'image_id': 410632, 'caption': 'group of people standing on a tennis court holding a soccer ball'}, {'image_id': 421681, 'caption': 'laptop computer sitting on top of a wooden table'}, {'image_id': 37675, 'caption': 'group of cows are standing in a grassy field'}, {'image_id': 5802, 'caption': 'group of people sitting at a table with food in front of a kitchen'}, {'image_id': 522713, 'caption': 'boat that is sitting on top of a beach'}, {'image_id': 420532, 'caption': 'group of men standing next to a man and a woman wearing a suit and tie'}, {'image_id': 32965, 'caption': 'man in the water holding a kite on the beach'}, {'image_id': 409944, 'caption': 'man sitting on top of a laptop computer'}, {'image_id': 17627, 'caption': 'group of a bus that is driving down a street with a traffic light'}, {'image_id': 503707, 'caption': 'man riding a motorcycle down a road next to a car'}, {'image_id': 290570, 'caption': 'herd of sheep are standing on top of a lush green field'}, {'image_id': 458052, 'caption': 'black and white cat laying on top of a bed'}, {'image_id': 437609, 'caption': 'black and white photo of a herd of cows are standing next to each other'}, {'image_id': 146411, 'caption': 'cat laying on top of a bed'}, {'image_id': 207056, 'caption': 'group of elephants are standing in the water'}, {'image_id': 299116, 'caption': 'man sitting at a table with a plate of food'}, {'image_id': 18149, 'caption': 'man standing next to a building'}, {'image_id': 443303, 'caption': 'black and white cat sitting on top of a bed'}, {'image_id': 519706, 'caption': 'man standing on top of a tennis court'}, {'image_id': 248468, 'caption': 'black and white photo of a man riding a horse drawn carriage in the background'}, {'image_id': 166532, 'caption': 'bathroom with a sink and a mirror'}, {'image_id': 334405, 'caption': 'double decker bus driving down the street with a traffic light'}, {'image_id': 69946, 'caption': 'group of boats are docked in the water'}, {'image_id': 285291, 'caption': 'man is skiing down the side of a snow covered slope'}, {'image_id': 409009, 'caption': 'passenger train is parked in front of a train station'}, {'image_id': 579003, 'caption': 'black and white photo of a bathroom with a mirror'}, {'image_id': 216228, 'caption': 'man standing in front of a store'}, {'image_id': 426523, 'caption': 'group of people standing on a park bench holding a frisbee in a field'}, {'image_id': 209868, 'caption': 'man sitting on a cell phone'}, {'image_id': 324266, 'caption': 'bathroom with a toilet and a sink'}, {'image_id': 407368, 'caption': 'polar bear in a body of water'}, {'image_id': 183803, 'caption': 'living room with a couch next to a wooden table'}, {'image_id': 59202, 'caption': 'group of people doing a trick on a skateboard'}, {'image_id': 320039, 'caption': 'little girl sitting at a table with a plate of food'}, {'image_id': 219578, 'caption': 'close up of a dog sitting on a table'}, {'image_id': 533750, 'caption': 'close up of a donut sitting on a table'}, {'image_id': 118113, 'caption': 'cat sitting in front of a living room'}, {'image_id': 430961, 'caption': 'baseball player getting ready to hit a ball on a tennis court'}, {'image_id': 538859, 'caption': 'man sitting at a table with plates of food'}, {'image_id': 403065, 'caption': 'truck is parked in front of a road'}, {'image_id': 266409, 'caption': 'man riding skis down a snow covered slope'}, {'image_id': 152751, 'caption': 'laptop computer sitting in front of a living room'}, {'image_id': 409251, 'caption': 'group of people standing next to each other'}, {'image_id': 365426, 'caption': 'group of people playing tennis on a tennis court holding tennis rackets on a tennis court'}, {'image_id': 57387, 'caption': 'group of people standing on a tennis court holding a tennis racket at a ball'}, {'image_id': 85160, 'caption': 'group of people sitting in a living room'}, {'image_id': 207797, 'caption': 'giraffe standing in the water'}, {'image_id': 336102, 'caption': 'close up of a pizza sitting on top of a plate'}, {'image_id': 13383, 'caption': 'woman that is sitting on top of a plate on a table'}, {'image_id': 340420, 'caption': 'pizza that is sitting on top of a table'}, {'image_id': 557780, 'caption': 'black and white dog holding a frisbee in the background'}, {'image_id': 150410, 'caption': 'man sitting on top of a field'}, {'image_id': 184613, 'caption': 'group of cows are standing in front of a lush green field'}, {'image_id': 430359, 'caption': 'baseball player holding a bat in front of a field'}, {'image_id': 560323, 'caption': 'man standing on a tennis court holding a tennis racket at a tennis ball'}, {'image_id': 169891, 'caption': 'black and white cat is standing in front of a kitchen'}, {'image_id': 241876, 'caption': 'black and white cat laying on top of a bed'}, {'image_id': 146627, 'caption': 'group of people sitting on a table'}, {'image_id': 153299, 'caption': 'giraffe is standing in front of a building'}, {'image_id': 354533, 'caption': 'motorcycle parked in front of a lush green field'}, {'image_id': 232383, 'caption': 'man sitting on top of a laptop'}, {'image_id': 174482, 'caption': 'man riding a motorcycle down the side of a road'}, {'image_id': 483234, 'caption': 'man standing on top of a snow covered slope'}, {'image_id': 125211, 'caption': 'zebra standing on top of a lush green field'}, {'image_id': 557556, 'caption': 'man holding a tennis racquet on a tennis court holding a tennis racket'}, {'image_id': 461898, 'caption': 'woman is holding a cell phone'}, {'image_id': 181666, 'caption': 'group of cows are standing next to each other in the background'}, {'image_id': 38034, 'caption': 'laptop computer sitting on top of a desk next to a computer monitor'}, {'image_id': 158952, 'caption': 'stop sign on the side of a street sign'}, {'image_id': 446751, 'caption': 'herd of sheep standing next to each other in a field'}, {'image_id': 347693, 'caption': 'living room with chairs sitting on a bed in front of a window'}, {'image_id': 553667, 'caption': 'man holding a hot dog in his mouth'}, {'image_id': 140743, 'caption': 'woman holding a teddy bear sitting on a cell phone'}, {'image_id': 75083, 'caption': 'street sign in front of a city street'}, {'image_id': 82258, 'caption': 'clock sitting on top of books'}, {'image_id': 369370, 'caption': 'close up of a plate of food on a table'}, {'image_id': 124629, 'caption': 'group of young men playing a game of frisbee on a tennis court'}, {'image_id': 172327, 'caption': 'man riding a wave on a surfboard in the ocean'}, {'image_id': 339974, 'caption': 'traffic light on a city street at night'}, {'image_id': 24223, 'caption': 'pizza sitting on top of a plate'}, {'image_id': 527040, 'caption': 'man sitting on a bed with a cake on a table'}, {'image_id': 74369, 'caption': 'young boy playing a game of frisbee in a field'}, {'image_id': 252213, 'caption': 'cat laying on top of a white plate'}, {'image_id': 122203, 'caption': 'black and white photo of a herd of sheep grazing on a lush green field'}, {'image_id': 419856, 'caption': 'bunch of bananas on a table next to each other'}, {'image_id': 16574, 'caption': 'group of people riding skis down the side of a snow covered slope'}, {'image_id': 384012, 'caption': 'baseball player swinging a bat in front of a baseball game'}, {'image_id': 386164, 'caption': 'close up of a piece of scissors sitting on a table'}, {'image_id': 271032, 'caption': 'small boat in a body of water'}, {'image_id': 310227, 'caption': 'group of people sitting on a bed'}, {'image_id': 327807, 'caption': 'group of people standing in front of a train station'}, {'image_id': 433460, 'caption': 'group of zebras standing next to each other in a field'}, {'image_id': 505440, 'caption': 'group of zebras standing on top of a lush green field'}, {'image_id': 430125, 'caption': 'group of people standing in front of a store'}, {'image_id': 449981, 'caption': 'group of people standing next to each other in the background'}, {'image_id': 334686, 'caption': 'man eating a hot dog on a plate'}, {'image_id': 560623, 'caption': 'plane that is parked on a runway'}, {'image_id': 506552, 'caption': 'group of people are playing a video game'}, {'image_id': 469088, 'caption': 'brown bear standing next to each other'}, {'image_id': 46743, 'caption': 'young boy sitting on a bench in front of a fire hydrant'}, {'image_id': 271177, 'caption': 'man riding a motorcycle parked in front of a road'}, {'image_id': 577826, 'caption': 'group of people riding a skateboard down a street'}, {'image_id': 6005, 'caption': 'group of giraffes standing next to each other'}, {'image_id': 287570, 'caption': 'man riding skis down a snow covered slope'}, {'image_id': 356708, 'caption': 'group of people riding skis down a snowy slope'}, {'image_id': 23899, 'caption': 'man sitting on top of a bed'}, {'image_id': 294119, 'caption': 'close up of a stop sign on a cell phone'}, {'image_id': 94590, 'caption': 'cup of donuts are sitting on top of a plate'}, {'image_id': 577821, 'caption': 'large clock tower with a clock on top of a building'}, {'image_id': 142592, 'caption': 'double decker bus parked in front of a building'}, {'image_id': 402559, 'caption': 'giraffe standing in front of a tree'}, {'image_id': 154971, 'caption': 'group of people playing a game of frisbee in a field with a soccer ball'}, {'image_id': 138246, 'caption': 'man standing in the middle of a grassy field'}, {'image_id': 181714, 'caption': 'woman holding a red umbrella'}, {'image_id': 205378, 'caption': 'black and white cat sitting on top of a bed'}, {'image_id': 429580, 'caption': 'group of people standing in a field holding a frisbee in the grass'}, {'image_id': 247285, 'caption': 'woman sitting at a table with a cell phone'}, {'image_id': 269105, 'caption': 'white toilet sitting on top of a bathroom sink'}, {'image_id': 262284, 'caption': 'bathroom with a sink and a mirror'}, {'image_id': 273045, 'caption': 'close up of a cat sitting on top of a table'}, {'image_id': 89668, 'caption': 'herd of elephants standing on top of a grass field'}, {'image_id': 93725, 'caption': 'man swinging a tennis racket on a tennis court holding a tennis racquet on a baseball field'}, {'image_id': 71171, 'caption': 'close up of a pizza sitting on top of a plate'}, {'image_id': 43635, 'caption': 'group of people standing in front of a building'}, {'image_id': 405778, 'caption': 'group of zebras grazing on top of a lush green field'}, {'image_id': 358763, 'caption': 'laptop computer sitting on top of a desk next to each other'}, {'image_id': 28377, 'caption': 'large clock tower in front of a building'}, {'image_id': 64710, 'caption': 'man on a beach flying a kite in the snow'}, {'image_id': 472854, 'caption': 'group of people standing in front of a street'}, {'image_id': 291712, 'caption': 'blue and white photo of a plane flying through the water'}, {'image_id': 358342, 'caption': 'black and white photo of a building with a clock tower in front of a city street'}, {'image_id': 326781, 'caption': 'bathroom with a sink and a mirror'}, {'image_id': 1369, 'caption': 'man riding a wave in the water holding a surfboard in the ocean'}, {'image_id': 173383, 'caption': 'group of people sitting on a table'}, {'image_id': 386500, 'caption': 'cat laying on a bed with a teddy bear'}, {'image_id': 125059, 'caption': 'bathroom with a white toilet sitting on top of a table'}, {'image_id': 235006, 'caption': 'truck parked in front of a fire hydrant in front of a lush green field'}, {'image_id': 260141, 'caption': 'boat that is parked in the water'}, {'image_id': 235597, 'caption': 'group of people sitting in a living room with two laptops are playing a video game'}, {'image_id': 338948, 'caption': 'group of people standing in front of a building'}, {'image_id': 30255, 'caption': 'large black and white photo of people sitting on top of a boat'}, {'image_id': 551334, 'caption': 'cat sitting on top of a computer desk'}, {'image_id': 260166, 'caption': 'group of people standing on a dirt road'}, {'image_id': 58636, 'caption': 'street sign on a pole in front of a building'}, {'image_id': 377385, 'caption': 'baseball player is holding a tennis racket'}, {'image_id': 227879, 'caption': 'baseball player swinging a bat at a baseball game'}, {'image_id': 501762, 'caption': 'man in the water holding a frisbee in the ocean'}, {'image_id': 326541, 'caption': 'man holding a cell phone'}, {'image_id': 511117, 'caption': 'young girl holding a baseball bat in a field'}, {'image_id': 303590, 'caption': 'woman holding a hot dog standing in front of a hot dog'}, {'image_id': 331692, 'caption': 'pizza that is sitting on top of a plate'}, {'image_id': 191738, 'caption': 'black and white cat laying on top of a lush green field'}, {'image_id': 412914, 'caption': 'person riding a wave in the water'}, {'image_id': 114549, 'caption': 'bunch of bananas are standing in front of a tree'}, {'image_id': 520727, 'caption': 'group of zebra standing on top of a lush green field'}, {'image_id': 185036, 'caption': 'group of people standing on top of a snow covered slope'}, {'image_id': 438723, 'caption': 'man sitting on top of a motorcycle'}, {'image_id': 180135, 'caption': 'man is holding a slice of cake'}, {'image_id': 504304, 'caption': 'young girl holding a tennis racquet on a tennis court holding a tennis racket'}, {'image_id': 459374, 'caption': 'yellow fire hydrant sitting in front of a building'}, {'image_id': 328421, 'caption': 'herd of elephants walking through a field'}, {'image_id': 388325, 'caption': 'fire hydrant in front of a street sign in front of a building'}, {'image_id': 410337, 'caption': 'man holding a cell phone'}, {'image_id': 370043, 'caption': 'baby elephant standing next to each other in the background'}, {'image_id': 129942, 'caption': 'small bird sitting on top of a tree branch'}, {'image_id': 150675, 'caption': 'cat is sitting on top of a wall'}, {'image_id': 382088, 'caption': 'horse that is standing next to a fence'}, {'image_id': 331807, 'caption': 'bowl of bananas sitting on top of a wooden table'}, {'image_id': 38029, 'caption': 'group of people sitting on a city street'}, {'image_id': 231163, 'caption': 'train is parked in front of a train station'}, {'image_id': 578498, 'caption': 'man sitting on a bed in front of a living room'}, {'image_id': 403020, 'caption': 'zebra is standing next to a giraffe'}, {'image_id': 178592, 'caption': 'herd of elephants standing on top of a lush green field'}, {'image_id': 479057, 'caption': 'herd of sheep grazing on a lush green grass covered field'}, {'image_id': 330835, 'caption': 'man sitting on top of a skateboard'}, {'image_id': 394240, 'caption': 'man riding a motorcycle on a city street'}, {'image_id': 199551, 'caption': 'man sitting on top of a bed'}, {'image_id': 40881, 'caption': 'close up of a plate of food on a white plate'}, {'image_id': 399462, 'caption': 'young boy holding a frisbee in a field with a kite in a park'}, {'image_id': 527023, 'caption': 'man swinging a tennis racket on a tennis court holding a tennis racquet on a baseball field'}, {'image_id': 147980, 'caption': 'group of people playing a game of frisbee in a field'}, {'image_id': 10694, 'caption': 'black and white cat sitting on top of a table'}, {'image_id': 385633, 'caption': 'bathroom that is sitting on top of a kitchen'}, {'image_id': 10442, 'caption': 'group of baseball players are standing in a baseball game'}, {'image_id': 578500, 'caption': 'living room filled with lots of chairs in a living room'}, {'image_id': 523772, 'caption': 'plate of donuts sitting on top of a plate'}, {'image_id': 102843, 'caption': 'large boat that is on the beach'}, {'image_id': 309852, 'caption': 'cat sitting on top of a teddy bear'}, {'image_id': 209604, 'caption': 'group of people standing in front of a city street'}, {'image_id': 316795, 'caption': 'man riding a horse on a sunny day'}, {'image_id': 503311, 'caption': 'man flying a kite in the water holding a kite in the air'}, {'image_id': 256668, 'caption': 'white toilet sitting next to a small bathroom'}, {'image_id': 301867, 'caption': 'group of people standing in the rain holding umbrellas'}, {'image_id': 148358, 'caption': 'group of giraffes standing next to each other in a grassy field'}, {'image_id': 95786, 'caption': 'white toilet sitting on top of a table'}, {'image_id': 459912, 'caption': 'group of motorcycles are parked in front of a city street'}, {'image_id': 515445, 'caption': 'group of people standing on the beach'}, {'image_id': 291380, 'caption': 'man sitting on top of a bench in front of a building'}, {'image_id': 5754, 'caption': 'close up of donuts that are sitting on a table'}, {'image_id': 353136, 'caption': 'man sitting in front of a dog'}, {'image_id': 48636, 'caption': 'baseball player is holding a bat in a baseball game'}, {'image_id': 132615, 'caption': 'baseball player is holding a bat in a baseball game'}, {'image_id': 296098, 'caption': 'large clock tower on top of a building'}, {'image_id': 556462, 'caption': 'close up of a pizza sitting on top of a plate'}, {'image_id': 522778, 'caption': 'group of people standing on top of a skateboard'}, {'image_id': 366141, 'caption': 'living room with a flat screen tv'}, {'image_id': 78371, 'caption': 'man riding a skateboard on top of a baseball field'}, {'image_id': 322864, 'caption': 'black and white cat sitting on top of a computer desk'}, {'image_id': 105975, 'caption': 'baby elephant standing in the grass'}, {'image_id': 319865, 'caption': 'cat laying on top of a black and white dog sitting on top of a couch'}, {'image_id': 296303, 'caption': 'cat is sitting in front of a window'}, {'image_id': 187743, 'caption': 'little girl brushing her teeth'}, {'image_id': 179558, 'caption': 'giraffe standing in front of a fence'}, {'image_id': 216273, 'caption': 'teddy bear sitting on top of a bed'}, {'image_id': 109092, 'caption': 'man in a suit and tie'}, {'image_id': 410533, 'caption': 'black and white cat sitting on top of a bed'}, {'image_id': 224757, 'caption': 'group of people standing on a park bench'}, {'image_id': 319908, 'caption': 'group of people standing in front of a baseball game'}, {'image_id': 354540, 'caption': 'close up of a laptop computer sitting on top of a table'}, {'image_id': 153570, 'caption': 'man riding a wave on a surfboard in the ocean'}, {'image_id': 184791, 'caption': 'vase that is sitting on top of a table next to a glass of wine'}, {'image_id': 161470, 'caption': 'bird sitting on top of a lush green field'}, {'image_id': 329323, 'caption': 'group of people standing next to each other in the background'}, {'image_id': 365366, 'caption': 'man is holding a tennis racket'}, {'image_id': 3084, 'caption': 'clock tower with a clock on top of a building'}, {'image_id': 299716, 'caption': 'close up of a teddy bear sitting on top of it'}, {'image_id': 332654, 'caption': 'yellow fire hydrant in front of a parking meter on the side of a street'}, {'image_id': 476005, 'caption': 'double decker bus is parked in front of a building'}, {'image_id': 180447, 'caption': 'group of zebras grazing on a lush green field'}, {'image_id': 562614, 'caption': 'group of people playing a game of a soccer ball on a lush green field'}, {'image_id': 522418, 'caption': 'black and white photo of a bathroom with a mirror'}, {'image_id': 450500, 'caption': 'group of people walking down a street with an umbrella'}, {'image_id': 310302, 'caption': 'pizza sitting on top of a table'}, {'image_id': 84982, 'caption': 'stop sign on a pole next to a traffic light'}, {'image_id': 140007, 'caption': 'man standing on top of a tennis court'}, {'image_id': 369763, 'caption': 'group of people standing in front of a street'}, {'image_id': 78915, 'caption': 'group of people standing on a tennis court holding a tennis racket'}, {'image_id': 503005, 'caption': 'man standing on top of a lush green field'}, {'image_id': 529917, 'caption': 'group of people standing next to each other in the background'}, {'image_id': 456496, 'caption': 'man riding a skateboard on top of a bench'}, {'image_id': 440329, 'caption': 'group of people that are parked in front of a road'}, {'image_id': 448365, 'caption': 'man riding a skate board doing a trick on a skateboard in the air'}, {'image_id': 580041, 'caption': 'black and white photo of a street sign with a traffic light'}, {'image_id': 197461, 'caption': 'group of sheep standing on top of a lush green field'}, {'image_id': 310391, 'caption': 'man riding a motorcycle parked on the side of a truck'}, {'image_id': 395405, 'caption': 'living room with a couch next to a window in front of a wooden table'}, {'image_id': 210103, 'caption': 'plate of food on a table next to a birthday cake'}, {'image_id': 159537, 'caption': 'large clock tower with a clock on top of a building'}, {'image_id': 331352, 'caption': 'bathroom with a toilet and a sink'}, {'image_id': 310325, 'caption': 'black and white cat sitting on top of a toilet'}, {'image_id': 336182, 'caption': 'woman sitting at a table in a living room'}, {'image_id': 362368, 'caption': 'man sitting at a table with a plate of food'}, {'image_id': 239274, 'caption': 'couple of boats docked in the water'}, {'image_id': 336587, 'caption': 'stop sign sitting on a pole in front of a building'}, {'image_id': 19358, 'caption': 'close up of a pizza sitting on top of a plate'}, {'image_id': 82680, 'caption': 'dog is standing in the grass'}, {'image_id': 54796, 'caption': 'young girl playing tennis on a tennis court holding a tennis racket on a tennis court'}, {'image_id': 120935, 'caption': 'group of zebras are standing next to each other'}, {'image_id': 117125, 'caption': 'black and white photo of a train traveling down the tracks'}, {'image_id': 175417, 'caption': 'couple of a bench sitting on top of a lush green field'}, {'image_id': 289173, 'caption': 'plane that is parked on top of a runway'}, {'image_id': 16497, 'caption': 'man standing on top of a skateboard'}, {'image_id': 406932, 'caption': 'dog is standing in front of a car mirror'}, {'image_id': 15827, 'caption': 'group of motorcycles parked in front of a parking lot'}, {'image_id': 486203, 'caption': 'herd of horses standing in a grassy field'}, {'image_id': 383419, 'caption': 'young boy sitting on a table holding a hot dog'}, {'image_id': 125997, 'caption': 'stop sign in front of a street sign'}, {'image_id': 406404, 'caption': 'man riding a skateboard at a skate park bench in front of a snow covered slope'}, {'image_id': 400573, 'caption': 'man eating a hot dog on a cell phone'}, {'image_id': 289610, 'caption': 'group of people standing in front of a stuffed teddy bear sitting on top of a table'}, {'image_id': 65227, 'caption': 'man in a field holding a frisbee in a park'}, {'image_id': 181962, 'caption': 'group of people riding horses on the beach'}, {'image_id': 239448, 'caption': 'clock tower with a clock on the side of a building'}, {'image_id': 293554, 'caption': 'man is sitting on top of it'}, {'image_id': 308441, 'caption': 'man standing on a tennis court holding a tennis racket at a baseball game'}, {'image_id': 266041, 'caption': 'man wearing a tie standing in front of a cell phone'}, {'image_id': 381106, 'caption': 'man flying a kite on the beach playing a game of water'}, {'image_id': 58915, 'caption': 'red and white photo of a building with a clock tower in front of a city street'}, {'image_id': 195829, 'caption': 'group of people playing a game of frisbee in a field with a soccer ball'}, {'image_id': 502090, 'caption': 'blue airplane flying a kite in the air'}, {'image_id': 76292, 'caption': 'man holding a frisbee in the air'}, {'image_id': 338327, 'caption': 'close up of a clock sitting on top of a table'}, {'image_id': 236189, 'caption': 'man in a red shirt holding a frisbee in a field'}, {'image_id': 75051, 'caption': 'white toilet sitting next to a small bathroom'}, {'image_id': 503772, 'caption': 'kitchen with white cabinets and stainless steel appliances'}, {'image_id': 189550, 'caption': 'black and white photo of a person standing next to each other'}, {'image_id': 95022, 'caption': 'close up of a bird perched on top of a tree branch'}, {'image_id': 554114, 'caption': 'man standing in front of a street'}, {'image_id': 169802, 'caption': 'little girl sitting in front of a birthday cake'}, {'image_id': 241691, 'caption': 'black and white photo of a man standing next to each other'}, {'image_id': 348881, 'caption': 'white toilet sitting on top of a bathroom'}, {'image_id': 175831, 'caption': 'group of motorcycles parked in front of a building in front of a city street'}, {'image_id': 371999, 'caption': 'clock tower with a clock on the side of a building'}, {'image_id': 353968, 'caption': 'man sitting on top of a bed'}, {'image_id': 129739, 'caption': 'man sitting in front of a living room with a laptop computer'}, {'image_id': 565797, 'caption': 'black and white cat sitting on top of a car'}, {'image_id': 66800, 'caption': 'herd of elephants standing in front of a lush green field'}, {'image_id': 199951, 'caption': 'man riding a skateboard on a boat in the water'}, {'image_id': 426578, 'caption': 'man riding a wave on a surfboard in the ocean'}, {'image_id': 183757, 'caption': 'group of people standing next to each other'}, {'image_id': 217005, 'caption': 'bird perched on top of a tree branch'}, {'image_id': 39743, 'caption': 'woman holding a stuffed teddy bear sitting on a table'}, {'image_id': 261757, 'caption': 'pizza that is sitting on top of a wooden table'}, {'image_id': 190767, 'caption': 'herd of cows that are standing in a grassy field'}, {'image_id': 495107, 'caption': 'man eating a hot dog on a cell phone'}, {'image_id': 549399, 'caption': 'black and white motorcycle parked in front of a building'}, {'image_id': 505099, 'caption': 'baseball player swinging a bat at the ball during a baseball game'}, {'image_id': 204805, 'caption': 'black and white photo of people that are parked in front of a building'}, {'image_id': 128939, 'caption': 'traffic light on the side of a car'}, {'image_id': 420775, 'caption': 'man riding a snowboard down the side of a snow covered slope'}, {'image_id': 192440, 'caption': 'living room is sitting on top of a wooden table'}, {'image_id': 324383, 'caption': 'black and white cat laying on top of a bed'}, {'image_id': 296649, 'caption': 'group of people riding bikes down a city street'}, {'image_id': 397773, 'caption': 'close up of a plate of food on a table'}, {'image_id': 8418, 'caption': 'close up of a laptop computer sitting on a table'}, {'image_id': 154202, 'caption': 'laptop computer sitting on top of a desk'}, {'image_id': 10142, 'caption': 'man riding skis down a snow covered slope'}, {'image_id': 49559, 'caption': 'group of people standing in the air on the beach flying a kite in the ocean'}, {'image_id': 569768, 'caption': 'young man holding a frisbee in front of a baseball bat'}, {'image_id': 98590, 'caption': 'group of people standing on top of a snow covered slope'}, {'image_id': 356427, 'caption': 'man is riding a motorcycle down the road'}, {'image_id': 356298, 'caption': 'train is parked in front of a lush green field'}, {'image_id': 228144, 'caption': 'living room with a bed next to a window'}, {'image_id': 340559, 'caption': 'bathroom with a sink in front of a window'}, {'image_id': 153563, 'caption': 'man sitting on a cell phone in front of a laptop computer'}, {'image_id': 511321, 'caption': 'large body of boats docked in the water'}, {'image_id': 49633, 'caption': 'yellow and white train is parked in front of a lush green grass covered field'}, {'image_id': 461885, 'caption': 'man standing on a lush green field'}, {'image_id': 69911, 'caption': 'stop sign on a pole next to a traffic light'}, {'image_id': 579664, 'caption': 'bunch of oranges sitting on a table'}, {'image_id': 444444, 'caption': 'dog that is sitting on the back of a road'}, {'image_id': 530212, 'caption': 'red fire hydrant sitting on top of a table'}, {'image_id': 373591, 'caption': 'black and white bird sitting on top of a tree branch'}, {'image_id': 261779, 'caption': 'man holding a skateboard on top of a tennis court'}, {'image_id': 346207, 'caption': 'black and white cat laying on top of a desk in front of a computer desk'}, {'image_id': 52759, 'caption': 'plane that is parked on a runway'}, {'image_id': 384213, 'caption': 'man sitting on top of a table'}, {'image_id': 436795, 'caption': 'man holding a wii video game controller'}, {'image_id': 374628, 'caption': 'living room with a kitchen with a wooden table'}, {'image_id': 458153, 'caption': 'baby elephant standing on top of a lush green field'}, {'image_id': 244575, 'caption': 'brown bear standing next to a horse'}, {'image_id': 509822, 'caption': 'black and white bike parked in front of a car'}, {'image_id': 282225, 'caption': 'young man playing tennis on a tennis court holding a tennis racquet on a field'}, {'image_id': 348654, 'caption': 'close up of a laptop computer sitting on top of a cell phone'}, {'image_id': 562870, 'caption': 'person sitting on top of a cell phone'}, {'image_id': 328757, 'caption': 'young boy sitting at a table with a plate of food'}, {'image_id': 286994, 'caption': 'herd of elephants are standing in the water'}, {'image_id': 267571, 'caption': 'close up of giraffe standing next to each other'}, {'image_id': 490923, 'caption': 'man brushing his teeth on her cell phone'}, {'image_id': 457754, 'caption': 'group of men standing in front of wine'}, {'image_id': 204049, 'caption': 'man riding a snowboard down a hill in front of a snow covered slope'}, {'image_id': 573349, 'caption': 'group of people walking down a street with an umbrella'}, {'image_id': 233771, 'caption': 'man standing in front of a city street'}, {'image_id': 452684, 'caption': 'close up of a bowl of oranges sitting on a table'}, {'image_id': 227125, 'caption': 'street sign sitting in front of a traffic light'}, {'image_id': 289899, 'caption': 'group of people standing on top of a body of water'}, {'image_id': 72944, 'caption': 'black and white cat is sitting in front of a window'}, {'image_id': 144053, 'caption': 'street sign in front of a building'}, {'image_id': 476280, 'caption': 'man holding a surfboard on the beach'}, {'image_id': 146738, 'caption': 'living room with flowers in front of a wooden table'}, {'image_id': 468604, 'caption': 'baby elephant standing in front of a lush green field'}, {'image_id': 553442, 'caption': 'man sitting on top of a bed'}, {'image_id': 300138, 'caption': 'vase of flowers sitting on top of a table'}, {'image_id': 570045, 'caption': 'street sign on a pole next to a building'}, {'image_id': 353830, 'caption': 'pizza that is sitting on top of a table'}, {'image_id': 531854, 'caption': 'group of birds swimming in a body of water'}, {'image_id': 461063, 'caption': 'woman standing on a tennis court holding a tennis racket on a tennis court'}, {'image_id': 137658, 'caption': 'man sitting on a cell phone'}, {'image_id': 562261, 'caption': 'man holding a frisbee in a field'}, {'image_id': 340175, 'caption': 'living room with a lot of furniture'}, {'image_id': 404243, 'caption': 'bunch of donuts sitting on top of a grill in front of a display case'}, {'image_id': 426175, 'caption': 'man sitting on a bench in front of a building'}, {'image_id': 387173, 'caption': 'boat that is sitting on top of a body of water'}, {'image_id': 77123, 'caption': 'plane that is sitting on top of a runway'}, {'image_id': 335578, 'caption': 'young boy holding a tennis racquet on a tennis court holding a baseball bat at a ball'}, {'image_id': 385786, 'caption': 'living room with a couch sitting on a bed'}, {'image_id': 493652, 'caption': 'living room with a christmas tree in front of a living room'}, {'image_id': 476258, 'caption': 'man riding a skateboard down the side of a street'}, {'image_id': 146193, 'caption': 'man riding a wave on top of a beach'}, {'image_id': 284220, 'caption': 'woman holding a tennis racket on a tennis court holding a tennis racquet on a baseball field'}, {'image_id': 165133, 'caption': 'man standing in front of a street'}, {'image_id': 471009, 'caption': 'man flying a kite on the beach flying kites in the air'}, {'image_id': 379977, 'caption': 'black and white horse is standing on top of a lush green field'}, {'image_id': 133698, 'caption': 'pizza sitting on top of a pan on a table'}, {'image_id': 353807, 'caption': 'man riding a motorcycle down a street'}, {'image_id': 113588, 'caption': 'group of people sitting at a desk in front of a laptop computer'}, {'image_id': 193565, 'caption': 'man sitting at a table eating a hot dog'}, {'image_id': 372979, 'caption': 'black and white cat sitting in front of a window'}, {'image_id': 574769, 'caption': 'group of people standing in a living room'}, {'image_id': 576939, 'caption': 'pair of scissors hanging on the side of a stop sign'}, {'image_id': 235914, 'caption': 'group of zebras are standing in a dirt field'}, {'image_id': 37038, 'caption': 'group of people standing on a beach'}, {'image_id': 311553, 'caption': 'plate of food on a table'}, {'image_id': 399839, 'caption': 'man holding a teddy bear sitting on a table'}, {'image_id': 453926, 'caption': 'white plate topped with a piece of pizza sitting on top of a table'}, {'image_id': 87199, 'caption': 'man riding a horse in a field'}, {'image_id': 414560, 'caption': 'black and white cat sitting on top of a lush green field'}, {'image_id': 387431, 'caption': 'black and white photo of a city street in front of a building'}, {'image_id': 376959, 'caption': 'young boy brushing his teeth in front of a bed'}, {'image_id': 14990, 'caption': 'group of elephants walking down a dirt road'}, {'image_id': 163020, 'caption': 'flock of birds flying in the water'}, {'image_id': 39956, 'caption': 'living room with a chair in the living room'}, {'image_id': 318671, 'caption': 'man standing on top of a tennis court'}, {'image_id': 476975, 'caption': 'group of giraffes standing next to each other'}, {'image_id': 321107, 'caption': 'man riding a skateboard down a street'}, {'image_id': 451468, 'caption': 'cat sitting on top of a table in front of a living room'}, {'image_id': 571034, 'caption': 'group of people sitting on a lush green field'}, {'image_id': 550627, 'caption': 'plate of food that are sitting on a table'}, {'image_id': 127474, 'caption': 'group of people standing next to a woman holding a baseball bat'}, {'image_id': 8665, 'caption': 'bird sitting on top of a branch of water'}, {'image_id': 37907, 'caption': 'black and white cat sitting on top of a tree'}, {'image_id': 205103, 'caption': 'black and white cat sitting on top of a bed'}, {'image_id': 342006, 'caption': 'large clock tower on a cloudy day'}, {'image_id': 467522, 'caption': 'group of zebras grazing on a lush green field'}, {'image_id': 219514, 'caption': 'traffic light with a stop sign on the side of a street'}, {'image_id': 421478, 'caption': 'man in a suit and tie holding a cell phone'}, {'image_id': 472795, 'caption': 'cow standing next to a horse'}, {'image_id': 37777, 'caption': 'black and white photo of a living room'}, {'image_id': 386912, 'caption': 'group of people standing in front of a living room with a laptop computer'}, {'image_id': 309120, 'caption': 'man in a field holding a frisbee in the air'}, {'image_id': 466211, 'caption': 'baseball player is holding a bat at a baseball game'}, {'image_id': 80671, 'caption': 'person riding a snowboard down the side of a snow covered slope'}, {'image_id': 134778, 'caption': 'group of birds flying in the water'}, {'image_id': 391735, 'caption': 'yellow fire hydrant in front of a city street'}, {'image_id': 375840, 'caption': 'close up of a bowl of bananas sitting on a table'}, {'image_id': 29913, 'caption': 'red fire hydrant sitting on top of a motorcycle'}, {'image_id': 554348, 'caption': 'man standing on top of a bench in front of a street'}, {'image_id': 231339, 'caption': 'woman sitting at a table with food in a kitchen'}, {'image_id': 480726, 'caption': 'group of people standing on a tennis court with a tennis ball during a baseball game'}, {'image_id': 32907, 'caption': 'black and white fire hydrant sitting on top of a wooden bench'}, {'image_id': 45864, 'caption': 'group of kids playing a game of soccer on a lush green field'}, {'image_id': 41687, 'caption': 'man riding a snowboard down the side of a snow covered slope'}, {'image_id': 384553, 'caption': 'man riding a dog in the water'}, {'image_id': 79380, 'caption': 'group of people sitting on a park bench in front of a lush green field'}, {'image_id': 276580, 'caption': 'group of people standing in front of a baseball game'}, {'image_id': 360772, 'caption': 'bathroom that is sitting on top of a toilet'}, {'image_id': 463633, 'caption': 'stop sign with a stop sign on the street'}, {'image_id': 383137, 'caption': 'man riding a skateboard on a skate board'}, {'image_id': 97434, 'caption': 'group of motorcycles parked in front of a city street'}, {'image_id': 239347, 'caption': 'man sitting on top of a bed'}, {'image_id': 240727, 'caption': 'woman sitting on a bed'}, {'image_id': 110196, 'caption': 'group of people standing in front of a city street'}, {'image_id': 520433, 'caption': 'train is parked in front of a train station'}, {'image_id': 91227, 'caption': 'giraffe standing on top of a lush green field'}, {'image_id': 542510, 'caption': 'truck parked in front of a lush green field'}, {'image_id': 440646, 'caption': 'man sitting on a bed'}, {'image_id': 383384, 'caption': 'baseball player swinging a bat in front of a baseball game'}, {'image_id': 155885, 'caption': 'black and white boat is sitting on top of a beach'}, {'image_id': 550426, 'caption': 'vase of flowers sitting on top of a table'}, {'image_id': 341393, 'caption': 'dog laying on top of a lush green field'}, {'image_id': 57597, 'caption': 'group of men playing a game of soccer on a field with a baseball bat'}, {'image_id': 53015, 'caption': 'woman sitting at a table holding a pizza on a table'}, {'image_id': 410002, 'caption': 'pizza sitting on top of a table'}, {'image_id': 542959, 'caption': 'kitchen with a microwave oven'}, {'image_id': 75748, 'caption': 'train traveling down the tracks in the water'}, {'image_id': 270721, 'caption': 'bathroom with a white toilet and a sink and a mirror'}, {'image_id': 540174, 'caption': 'young boy eating a hot dog in his mouth'}, {'image_id': 317595, 'caption': 'group of people sitting on a table'}, {'image_id': 90935, 'caption': 'living room with a bed next to a window'}, {'image_id': 550444, 'caption': 'group of people playing a game of soccer on a field'}, {'image_id': 360926, 'caption': 'man holding a tennis racket on a tennis court holding a tennis racquet on a baseball field'}, {'image_id': 50125, 'caption': 'double decker bus driving down a parking lot'}, {'image_id': 132686, 'caption': 'man flying a kite in the background'}, {'image_id': 16228, 'caption': 'man riding a horse drawn carriage in front of a street'}, {'image_id': 41550, 'caption': 'man sitting on top of a computer desk'}, {'image_id': 383445, 'caption': 'close up of a close up of a donut sitting on a table'}, {'image_id': 246199, 'caption': 'bunch of fruits and vegetables on a table'}, {'image_id': 111076, 'caption': 'bathroom with a white toilet and a sink and a mirror'}, {'image_id': 242611, 'caption': 'bathroom with a sink and a mirror'}, {'image_id': 518586, 'caption': 'black and white photo of a train traveling down the tracks in front of a train station'}, {'image_id': 78522, 'caption': 'herd of sheep grazing on a lush green grass covered field'}, {'image_id': 315601, 'caption': 'group of people walking down a busy city street'}, {'image_id': 337264, 'caption': 'man standing in front of a kitchen'}, {'image_id': 331162, 'caption': 'laptop computer sitting on top of a table in front of a living room'}, {'image_id': 535292, 'caption': 'herd of sheep standing on top of a lush green field'}, {'image_id': 27235, 'caption': 'man flying a kite in the sky'}, {'image_id': 452224, 'caption': 'small bird perched on top of a tree branch'}, {'image_id': 207264, 'caption': 'herd of elephants are standing in a dirt field'}, {'image_id': 437370, 'caption': 'black and white airplane sitting on top of a lush green field'}, {'image_id': 427135, 'caption': 'group of people standing on a tennis court holding a baseball bat'}, {'image_id': 419281, 'caption': 'group of boats that are sitting on a boat in the water'}, {'image_id': 109798, 'caption': 'hot dog sitting on top of a plate of food'}, {'image_id': 349737, 'caption': 'desk with a laptop computer sitting on top of a table'}, {'image_id': 121745, 'caption': 'close up of a bowl of oranges sitting on a table'}, {'image_id': 229643, 'caption': 'black and white photo of a bathroom with a large window'}, {'image_id': 245453, 'caption': 'man flying a kite in the sky'}, {'image_id': 213086, 'caption': 'laptop computer sitting on top of a kitchen counter'}, {'image_id': 370677, 'caption': 'man standing in front of a store'}, {'image_id': 455483, 'caption': 'bathroom with a sink and a mirror'}, {'image_id': 52644, 'caption': 'parking meter sitting on top of a beach'}, {'image_id': 461953, 'caption': 'close up of a hot dog is sitting on a table'}, {'image_id': 31255, 'caption': 'black and white dog is standing in front of an elephant'}, {'image_id': 394892, 'caption': 'young boy riding a skateboard on a baseball field'}, {'image_id': 463836, 'caption': 'man riding a skateboard down a street'}, {'image_id': 336493, 'caption': 'man riding a bike on a baseball field'}, {'image_id': 484816, 'caption': 'yellow airplane flying through the sky'}, {'image_id': 269394, 'caption': 'close up of a bus that is parked in a parking lot'}, {'image_id': 77187, 'caption': 'brown bear standing in front of a tree'}, {'image_id': 511204, 'caption': 'man standing in front of an elephant'}, {'image_id': 562121, 'caption': 'giraffe standing on top of a lush green field'}, {'image_id': 457691, 'caption': 'street sign with a clock tower in front of a building'}, {'image_id': 79472, 'caption': 'laptop computer sitting on top of a desk next to a wooden table'}, {'image_id': 54088, 'caption': 'red motorcycle parked in front of a city street'}, {'image_id': 559665, 'caption': 'man riding a motorcycle down a street'}, {'image_id': 443591, 'caption': 'zebra standing on top of a lush green field'}, {'image_id': 477010, 'caption': 'baseball player swinging a bat on a tennis court holding a tennis racket'}, {'image_id': 474028, 'caption': 'group of young children playing a game of frisbee in a field'}, {'image_id': 294832, 'caption': 'bathroom with a sink and a mirror'}, {'image_id': 304305, 'caption': 'group of elephants standing next to each other in a grassy field'}, {'image_id': 400, 'caption': 'black and white dog sitting on top of a wall'}, {'image_id': 196053, 'caption': 'woman standing on a tennis court holding a tennis racket on a tennis court'}, {'image_id': 437218, 'caption': 'living room with a television sitting on top of a desk'}, {'image_id': 207826, 'caption': 'woman holding a laptop on her cell phone'}, {'image_id': 232894, 'caption': 'young boy sitting on a table holding a cell phone'}, {'image_id': 99734, 'caption': 'boat that is sitting on top of a body of water'}, {'image_id': 242139, 'caption': 'city street with a traffic light on the side of a building'}, {'image_id': 561100, 'caption': 'plane that is parked on top of a lush green field'}, {'image_id': 544519, 'caption': 'young boy brushing his teeth with a toothbrush in her hand'}, {'image_id': 263136, 'caption': 'man standing on top of a field'}, {'image_id': 300814, 'caption': 'group of people riding horses down a street'}, {'image_id': 2684, 'caption': 'group of zebras standing next to each other in a field'}, {'image_id': 65267, 'caption': 'living room with a television sitting on top of a table'}, {'image_id': 53542, 'caption': 'red and white photo of a building with a clock tower in front of a city street'}, {'image_id': 231408, 'caption': 'black and white bird sitting on top of a lush green field'}, {'image_id': 303298, 'caption': 'man standing on a tennis court holding a tennis racket at a tennis ball'}, {'image_id': 351683, 'caption': 'baseball player swinging a bat at a home plate'}, {'image_id': 472246, 'caption': 'close up of a bowl of oranges sitting on a table'}, {'image_id': 569839, 'caption': 'man sitting at a table with a plate of food'}, {'image_id': 246809, 'caption': 'boat that is sitting on top of a body of water'}, {'image_id': 252219, 'caption': 'group of people standing in front of a building'}, {'image_id': 553162, 'caption': 'black bear standing next to a tree in the woods'}]\n"
     ]
    }
   ],
   "source": [
    "# dict_keys(['info', 'images', 'licenses', 'type', 'annotations'])\n",
    "print((my_annot_file))"
   ]
  },
  {
   "cell_type": "code",
   "execution_count": 40,
   "metadata": {},
   "outputs": [
    {
     "name": "stdout",
     "output_type": "stream",
     "text": [
      "loading annotations into memory...\n",
      "Done (t=0.41s)\n",
      "creating index...\n"
     ]
    },
    {
     "ename": "TypeError",
     "evalue": "list indices must be integers or slices, not str",
     "output_type": "error",
     "traceback": [
      "\u001b[1;31m---------------------------------------------------------------------------\u001b[0m",
      "\u001b[1;31mTypeError\u001b[0m                                 Traceback (most recent call last)",
      "\u001b[1;32m~\\AppData\\Local\\Temp\\ipykernel_7144\\451036767.py\u001b[0m in \u001b[0;36m<module>\u001b[1;34m\u001b[0m\n\u001b[0;32m      1\u001b[0m \u001b[1;31m# create coco object and coco_result object\u001b[0m\u001b[1;33m\u001b[0m\u001b[1;33m\u001b[0m\u001b[1;33m\u001b[0m\u001b[0m\n\u001b[1;32m----> 2\u001b[1;33m \u001b[0mcoco\u001b[0m \u001b[1;33m=\u001b[0m \u001b[0mCOCO\u001b[0m\u001b[1;33m(\u001b[0m\u001b[0mannotation_file\u001b[0m\u001b[1;33m)\u001b[0m\u001b[1;33m\u001b[0m\u001b[1;33m\u001b[0m\u001b[0m\n\u001b[0m\u001b[0;32m      3\u001b[0m \u001b[0mcoco_result\u001b[0m \u001b[1;33m=\u001b[0m \u001b[0mcoco\u001b[0m\u001b[1;33m.\u001b[0m\u001b[0mloadRes\u001b[0m\u001b[1;33m(\u001b[0m\u001b[0mresults_file\u001b[0m\u001b[1;33m)\u001b[0m\u001b[1;33m\u001b[0m\u001b[1;33m\u001b[0m\u001b[0m\n",
      "\u001b[1;32mc:\\Python37\\lib\\site-packages\\pycocotools\\coco.py\u001b[0m in \u001b[0;36m__init__\u001b[1;34m(self, annotation_file)\u001b[0m\n\u001b[0;32m     84\u001b[0m             \u001b[0mprint\u001b[0m\u001b[1;33m(\u001b[0m\u001b[1;34m'Done (t={:0.2f}s)'\u001b[0m\u001b[1;33m.\u001b[0m\u001b[0mformat\u001b[0m\u001b[1;33m(\u001b[0m\u001b[0mtime\u001b[0m\u001b[1;33m.\u001b[0m\u001b[0mtime\u001b[0m\u001b[1;33m(\u001b[0m\u001b[1;33m)\u001b[0m\u001b[1;33m-\u001b[0m \u001b[0mtic\u001b[0m\u001b[1;33m)\u001b[0m\u001b[1;33m)\u001b[0m\u001b[1;33m\u001b[0m\u001b[1;33m\u001b[0m\u001b[0m\n\u001b[0;32m     85\u001b[0m             \u001b[0mself\u001b[0m\u001b[1;33m.\u001b[0m\u001b[0mdataset\u001b[0m \u001b[1;33m=\u001b[0m \u001b[0mdataset\u001b[0m\u001b[1;33m\u001b[0m\u001b[1;33m\u001b[0m\u001b[0m\n\u001b[1;32m---> 86\u001b[1;33m             \u001b[0mself\u001b[0m\u001b[1;33m.\u001b[0m\u001b[0mcreateIndex\u001b[0m\u001b[1;33m(\u001b[0m\u001b[1;33m)\u001b[0m\u001b[1;33m\u001b[0m\u001b[1;33m\u001b[0m\u001b[0m\n\u001b[0m\u001b[0;32m     87\u001b[0m \u001b[1;33m\u001b[0m\u001b[0m\n\u001b[0;32m     88\u001b[0m     \u001b[1;32mdef\u001b[0m \u001b[0mcreateIndex\u001b[0m\u001b[1;33m(\u001b[0m\u001b[0mself\u001b[0m\u001b[1;33m)\u001b[0m\u001b[1;33m:\u001b[0m\u001b[1;33m\u001b[0m\u001b[1;33m\u001b[0m\u001b[0m\n",
      "\u001b[1;32mc:\\Python37\\lib\\site-packages\\pycocotools\\coco.py\u001b[0m in \u001b[0;36mcreateIndex\u001b[1;34m(self)\u001b[0m\n\u001b[0;32m     93\u001b[0m         \u001b[1;32mif\u001b[0m \u001b[1;34m'annotations'\u001b[0m \u001b[1;32min\u001b[0m \u001b[0mself\u001b[0m\u001b[1;33m.\u001b[0m\u001b[0mdataset\u001b[0m\u001b[1;33m:\u001b[0m\u001b[1;33m\u001b[0m\u001b[1;33m\u001b[0m\u001b[0m\n\u001b[0;32m     94\u001b[0m             \u001b[1;32mfor\u001b[0m \u001b[0mann\u001b[0m \u001b[1;32min\u001b[0m \u001b[0mself\u001b[0m\u001b[1;33m.\u001b[0m\u001b[0mdataset\u001b[0m\u001b[1;33m[\u001b[0m\u001b[1;34m'annotations'\u001b[0m\u001b[1;33m]\u001b[0m\u001b[1;33m:\u001b[0m\u001b[1;33m\u001b[0m\u001b[1;33m\u001b[0m\u001b[0m\n\u001b[1;32m---> 95\u001b[1;33m                 \u001b[0mimgToAnns\u001b[0m\u001b[1;33m[\u001b[0m\u001b[0mann\u001b[0m\u001b[1;33m[\u001b[0m\u001b[1;34m'image_id'\u001b[0m\u001b[1;33m]\u001b[0m\u001b[1;33m]\u001b[0m\u001b[1;33m.\u001b[0m\u001b[0mappend\u001b[0m\u001b[1;33m(\u001b[0m\u001b[0mann\u001b[0m\u001b[1;33m)\u001b[0m\u001b[1;33m\u001b[0m\u001b[1;33m\u001b[0m\u001b[0m\n\u001b[0m\u001b[0;32m     96\u001b[0m                 \u001b[0manns\u001b[0m\u001b[1;33m[\u001b[0m\u001b[0mann\u001b[0m\u001b[1;33m[\u001b[0m\u001b[1;34m'id'\u001b[0m\u001b[1;33m]\u001b[0m\u001b[1;33m]\u001b[0m \u001b[1;33m=\u001b[0m \u001b[0mann\u001b[0m\u001b[1;33m\u001b[0m\u001b[1;33m\u001b[0m\u001b[0m\n\u001b[0;32m     97\u001b[0m \u001b[1;33m\u001b[0m\u001b[0m\n",
      "\u001b[1;31mTypeError\u001b[0m: list indices must be integers or slices, not str"
     ]
    }
   ],
   "source": [
    "# create coco object and coco_result object\n",
    "coco = COCO(annotation_file)\n",
    "coco_result = coco.loadRes(results_file)"
   ]
  },
  {
   "cell_type": "code",
   "execution_count": 30,
   "metadata": {},
   "outputs": [
    {
     "name": "stdout",
     "output_type": "stream",
     "text": [
      "tokenization...\n",
      "setting up scorers...\n",
      "computing Bleu score...\n",
      "{'testlen': 9893, 'reflen': 9855, 'guess': [9893, 8893, 7893, 6893], 'correct': [5732, 2510, 1043, 423]}\n",
      "ratio: 1.003855910705124\n",
      "Bleu_1: 0.579\n",
      "Bleu_2: 0.404\n",
      "Bleu_3: 0.279\n",
      "Bleu_4: 0.191\n",
      "computing METEOR score...\n",
      "METEOR: 0.195\n",
      "computing Rouge score...\n",
      "ROUGE_L: 0.396\n",
      "computing CIDEr score...\n",
      "CIDEr: 0.600\n",
      "computing SPICE score...\n"
     ]
    },
    {
     "ename": "CalledProcessError",
     "evalue": "Command '['java', '-jar', '-Xmx2G', 'spice-1.0.jar', 'c:\\\\Python37\\\\lib\\\\site-packages\\\\pycocoevalcap\\\\spice\\\\tmp\\\\tmpmndwyw7k', '-cache', 'c:\\\\Python37\\\\lib\\\\site-packages\\\\pycocoevalcap\\\\spice\\\\cache', '-out', 'c:\\\\Python37\\\\lib\\\\site-packages\\\\pycocoevalcap\\\\spice\\\\tmp\\\\tmpdaksa6la', '-subset', '-silent']' returned non-zero exit status 1.",
     "output_type": "error",
     "traceback": [
      "\u001b[1;31m---------------------------------------------------------------------------\u001b[0m",
      "\u001b[1;31mCalledProcessError\u001b[0m                        Traceback (most recent call last)",
      "\u001b[1;32m~\\AppData\\Local\\Temp\\ipykernel_7144\\2084962700.py\u001b[0m in \u001b[0;36m<module>\u001b[1;34m\u001b[0m\n\u001b[0;32m      8\u001b[0m \u001b[1;31m# evaluate results\u001b[0m\u001b[1;33m\u001b[0m\u001b[1;33m\u001b[0m\u001b[1;33m\u001b[0m\u001b[0m\n\u001b[0;32m      9\u001b[0m \u001b[1;31m# SPICE will take a few minutes the first time, but speeds up due to caching\u001b[0m\u001b[1;33m\u001b[0m\u001b[1;33m\u001b[0m\u001b[1;33m\u001b[0m\u001b[0m\n\u001b[1;32m---> 10\u001b[1;33m \u001b[0mcoco_eval\u001b[0m\u001b[1;33m.\u001b[0m\u001b[0mevaluate\u001b[0m\u001b[1;33m(\u001b[0m\u001b[1;33m)\u001b[0m\u001b[1;33m\u001b[0m\u001b[1;33m\u001b[0m\u001b[0m\n\u001b[0m\u001b[0;32m     11\u001b[0m \u001b[1;33m\u001b[0m\u001b[0m\n\u001b[0;32m     12\u001b[0m \u001b[1;31m# print output evaluation scores\u001b[0m\u001b[1;33m\u001b[0m\u001b[1;33m\u001b[0m\u001b[1;33m\u001b[0m\u001b[0m\n",
      "\u001b[1;32mc:\\Python37\\lib\\site-packages\\pycocoevalcap\\eval.py\u001b[0m in \u001b[0;36mevaluate\u001b[1;34m(self)\u001b[0m\n\u001b[0;32m     51\u001b[0m         \u001b[1;32mfor\u001b[0m \u001b[0mscorer\u001b[0m\u001b[1;33m,\u001b[0m \u001b[0mmethod\u001b[0m \u001b[1;32min\u001b[0m \u001b[0mscorers\u001b[0m\u001b[1;33m:\u001b[0m\u001b[1;33m\u001b[0m\u001b[1;33m\u001b[0m\u001b[0m\n\u001b[0;32m     52\u001b[0m             \u001b[0mprint\u001b[0m\u001b[1;33m(\u001b[0m\u001b[1;34m'computing %s score...'\u001b[0m\u001b[1;33m%\u001b[0m\u001b[1;33m(\u001b[0m\u001b[0mscorer\u001b[0m\u001b[1;33m.\u001b[0m\u001b[0mmethod\u001b[0m\u001b[1;33m(\u001b[0m\u001b[1;33m)\u001b[0m\u001b[1;33m)\u001b[0m\u001b[1;33m)\u001b[0m\u001b[1;33m\u001b[0m\u001b[1;33m\u001b[0m\u001b[0m\n\u001b[1;32m---> 53\u001b[1;33m             \u001b[0mscore\u001b[0m\u001b[1;33m,\u001b[0m \u001b[0mscores\u001b[0m \u001b[1;33m=\u001b[0m \u001b[0mscorer\u001b[0m\u001b[1;33m.\u001b[0m\u001b[0mcompute_score\u001b[0m\u001b[1;33m(\u001b[0m\u001b[0mgts\u001b[0m\u001b[1;33m,\u001b[0m \u001b[0mres\u001b[0m\u001b[1;33m)\u001b[0m\u001b[1;33m\u001b[0m\u001b[1;33m\u001b[0m\u001b[0m\n\u001b[0m\u001b[0;32m     54\u001b[0m             \u001b[1;32mif\u001b[0m \u001b[0mtype\u001b[0m\u001b[1;33m(\u001b[0m\u001b[0mmethod\u001b[0m\u001b[1;33m)\u001b[0m \u001b[1;33m==\u001b[0m \u001b[0mlist\u001b[0m\u001b[1;33m:\u001b[0m\u001b[1;33m\u001b[0m\u001b[1;33m\u001b[0m\u001b[0m\n\u001b[0;32m     55\u001b[0m                 \u001b[1;32mfor\u001b[0m \u001b[0msc\u001b[0m\u001b[1;33m,\u001b[0m \u001b[0mscs\u001b[0m\u001b[1;33m,\u001b[0m \u001b[0mm\u001b[0m \u001b[1;32min\u001b[0m \u001b[0mzip\u001b[0m\u001b[1;33m(\u001b[0m\u001b[0mscore\u001b[0m\u001b[1;33m,\u001b[0m \u001b[0mscores\u001b[0m\u001b[1;33m,\u001b[0m \u001b[0mmethod\u001b[0m\u001b[1;33m)\u001b[0m\u001b[1;33m:\u001b[0m\u001b[1;33m\u001b[0m\u001b[1;33m\u001b[0m\u001b[0m\n",
      "\u001b[1;32mc:\\Python37\\lib\\site-packages\\pycocoevalcap\\spice\\spice.py\u001b[0m in \u001b[0;36mcompute_score\u001b[1;34m(self, gts, res)\u001b[0m\n\u001b[0;32m     63\u001b[0m           \u001b[0mos\u001b[0m\u001b[1;33m.\u001b[0m\u001b[0mmakedirs\u001b[0m\u001b[1;33m(\u001b[0m\u001b[0mcache_dir\u001b[0m\u001b[1;33m)\u001b[0m\u001b[1;33m\u001b[0m\u001b[1;33m\u001b[0m\u001b[0m\n\u001b[0;32m     64\u001b[0m         \u001b[0mspice_cmd\u001b[0m \u001b[1;33m=\u001b[0m \u001b[1;33m[\u001b[0m\u001b[1;34m'java'\u001b[0m\u001b[1;33m,\u001b[0m \u001b[1;34m'-jar'\u001b[0m\u001b[1;33m,\u001b[0m \u001b[1;34m'-Xmx2G'\u001b[0m\u001b[1;33m,\u001b[0m \u001b[0mSPICE_JAR\u001b[0m\u001b[1;33m,\u001b[0m \u001b[0min_file\u001b[0m\u001b[1;33m.\u001b[0m\u001b[0mname\u001b[0m\u001b[1;33m,\u001b[0m \u001b[1;34m'-cache'\u001b[0m\u001b[1;33m,\u001b[0m \u001b[0mcache_dir\u001b[0m\u001b[1;33m,\u001b[0m \u001b[1;34m'-out'\u001b[0m\u001b[1;33m,\u001b[0m \u001b[0mout_file\u001b[0m\u001b[1;33m.\u001b[0m\u001b[0mname\u001b[0m\u001b[1;33m,\u001b[0m \u001b[1;34m'-subset'\u001b[0m\u001b[1;33m,\u001b[0m \u001b[1;34m'-silent'\u001b[0m\u001b[1;33m]\u001b[0m\u001b[1;33m\u001b[0m\u001b[1;33m\u001b[0m\u001b[0m\n\u001b[1;32m---> 65\u001b[1;33m         \u001b[0msubprocess\u001b[0m\u001b[1;33m.\u001b[0m\u001b[0mcheck_call\u001b[0m\u001b[1;33m(\u001b[0m\u001b[0mspice_cmd\u001b[0m\u001b[1;33m,\u001b[0m \u001b[0mcwd\u001b[0m\u001b[1;33m=\u001b[0m\u001b[0mos\u001b[0m\u001b[1;33m.\u001b[0m\u001b[0mpath\u001b[0m\u001b[1;33m.\u001b[0m\u001b[0mdirname\u001b[0m\u001b[1;33m(\u001b[0m\u001b[0mos\u001b[0m\u001b[1;33m.\u001b[0m\u001b[0mpath\u001b[0m\u001b[1;33m.\u001b[0m\u001b[0mabspath\u001b[0m\u001b[1;33m(\u001b[0m\u001b[0m__file__\u001b[0m\u001b[1;33m)\u001b[0m\u001b[1;33m)\u001b[0m\u001b[1;33m)\u001b[0m\u001b[1;33m\u001b[0m\u001b[1;33m\u001b[0m\u001b[0m\n\u001b[0m\u001b[0;32m     66\u001b[0m \u001b[1;33m\u001b[0m\u001b[0m\n\u001b[0;32m     67\u001b[0m         \u001b[1;31m# Read and process results\u001b[0m\u001b[1;33m\u001b[0m\u001b[1;33m\u001b[0m\u001b[1;33m\u001b[0m\u001b[0m\n",
      "\u001b[1;32mc:\\Python37\\lib\\subprocess.py\u001b[0m in \u001b[0;36mcheck_call\u001b[1;34m(*popenargs, **kwargs)\u001b[0m\n\u001b[0;32m    361\u001b[0m         \u001b[1;32mif\u001b[0m \u001b[0mcmd\u001b[0m \u001b[1;32mis\u001b[0m \u001b[1;32mNone\u001b[0m\u001b[1;33m:\u001b[0m\u001b[1;33m\u001b[0m\u001b[1;33m\u001b[0m\u001b[0m\n\u001b[0;32m    362\u001b[0m             \u001b[0mcmd\u001b[0m \u001b[1;33m=\u001b[0m \u001b[0mpopenargs\u001b[0m\u001b[1;33m[\u001b[0m\u001b[1;36m0\u001b[0m\u001b[1;33m]\u001b[0m\u001b[1;33m\u001b[0m\u001b[1;33m\u001b[0m\u001b[0m\n\u001b[1;32m--> 363\u001b[1;33m         \u001b[1;32mraise\u001b[0m \u001b[0mCalledProcessError\u001b[0m\u001b[1;33m(\u001b[0m\u001b[0mretcode\u001b[0m\u001b[1;33m,\u001b[0m \u001b[0mcmd\u001b[0m\u001b[1;33m)\u001b[0m\u001b[1;33m\u001b[0m\u001b[1;33m\u001b[0m\u001b[0m\n\u001b[0m\u001b[0;32m    364\u001b[0m     \u001b[1;32mreturn\u001b[0m \u001b[1;36m0\u001b[0m\u001b[1;33m\u001b[0m\u001b[1;33m\u001b[0m\u001b[0m\n\u001b[0;32m    365\u001b[0m \u001b[1;33m\u001b[0m\u001b[0m\n",
      "\u001b[1;31mCalledProcessError\u001b[0m: Command '['java', '-jar', '-Xmx2G', 'spice-1.0.jar', 'c:\\\\Python37\\\\lib\\\\site-packages\\\\pycocoevalcap\\\\spice\\\\tmp\\\\tmpmndwyw7k', '-cache', 'c:\\\\Python37\\\\lib\\\\site-packages\\\\pycocoevalcap\\\\spice\\\\cache', '-out', 'c:\\\\Python37\\\\lib\\\\site-packages\\\\pycocoevalcap\\\\spice\\\\tmp\\\\tmpdaksa6la', '-subset', '-silent']' returned non-zero exit status 1."
     ]
    }
   ],
   "source": [
    "coco_eval = COCOEvalCap(coco, coco_result)\n",
    "\n",
    "# evaluate on a subset of images by setting\n",
    "# coco_eval.params['image_id'] = coco_result.getImgIds()\n",
    "# please remove this line when evaluating the full validation set\n",
    "coco_eval.params['image_id'] = coco_result.getImgIds()\n",
    "\n",
    "# evaluate results\n",
    "# SPICE will take a few minutes the first time, but speeds up due to caching\n",
    "coco_eval.evaluate()\n",
    "\n",
    "# print output evaluation scores\n",
    "for metric, score in coco_eval.eval.items():\n",
    "    print(f'{metric}: {score:.3f}')"
   ]
  },
  {
   "cell_type": "code",
   "execution_count": null,
   "metadata": {},
   "outputs": [],
   "source": []
  }
 ],
 "metadata": {
  "kernelspec": {
   "display_name": "Python 3",
   "language": "python",
   "name": "python3"
  },
  "language_info": {
   "codemirror_mode": {
    "name": "ipython",
    "version": 3
   },
   "file_extension": ".py",
   "mimetype": "text/x-python",
   "name": "python",
   "nbconvert_exporter": "python",
   "pygments_lexer": "ipython3",
   "version": "3.7.9"
  }
 },
 "nbformat": 4,
 "nbformat_minor": 2
}
