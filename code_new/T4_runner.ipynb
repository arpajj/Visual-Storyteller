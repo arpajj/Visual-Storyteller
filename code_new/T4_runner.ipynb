{
 "cells": [
  {
   "cell_type": "markdown",
   "id": "d5e29696-935b-467b-a456-6b7fc760678b",
   "metadata": {},
   "source": [
    "## Setting the T-to-T Transformer"
   ]
  },
  {
   "cell_type": "code",
   "execution_count": 3,
   "id": "4c6462bf-99b5-49a0-a2fc-4ddeefd843c5",
   "metadata": {},
   "outputs": [],
   "source": [
    "import pickle, torch\n",
    "from torch.utils.data import DataLoader, Dataset\n",
    "import torch.nn.functional as F\n",
    "from tqdm import tqdm\n",
    "import matplotlib.pyplot as plt\n",
    "\n",
    "class CustomDataset(Dataset):\n",
    "    def __init__(self, entries, references):\n",
    "        self.entries = entries\n",
    "        self.references = references\n",
    "\n",
    "    def __len__(self):\n",
    "        return len(self.entries)\n",
    "\n",
    "    def __getitem__(self, idx):\n",
    "        entry = self.entries[idx]\n",
    "        reference = self.references[idx]\n",
    "        return entry, reference\n",
    "\n",
    "\n",
    "def custom_collate_fn(batch):\n",
    "    entries, references = zip(*batch)\n",
    "    \n",
    "    # Determine the max length in the batch for entries and references\n",
    "    max_len_entry = max(entry.size(-1) for entry in entries)\n",
    "    max_len_ref = max(ref.size(-1) for ref in references)\n",
    "    \n",
    "    # Pad entries\n",
    "    padded_entries = [F.pad(entry, (0, max_len_entry - entry.size(-1))) for entry in entries]\n",
    "    padded_entries = torch.stack(padded_entries, dim=0)\n",
    "    \n",
    "    # Pad references\n",
    "    padded_references = [F.pad(ref, (0, max_len_ref - ref.size(-1))) for ref in references]\n",
    "    padded_references = torch.stack(padded_references, dim=0)\n",
    "    \n",
    "    return padded_entries, padded_references\n",
    "\n",
    "def plot_losses(train_losses, validation_losses):\n",
    "    epochs = range(1, len(train_losses) + 1)\n",
    "    plt.plot(epochs, train_losses, color='blue', label='Train Loss')\n",
    "    plt.plot(epochs, validation_losses, color='orange', label='Validation Loss')\n",
    "    plt.title('Train/Validation Loss Over Epochs')\n",
    "    plt.xlabel('Epoch')\n",
    "    plt.ylabel('Losses')\n",
    "    plt.legend()\n",
    "    plt.savefig('./plots/phase2/train_val_loss_plot.png')\n",
    "    plt.show()"
   ]
  },
  {
   "cell_type": "markdown",
   "id": "5808437b-aaec-4647-b2c7-99c70002aaf1",
   "metadata": {},
   "source": [
    "## Load data "
   ]
  },
  {
   "cell_type": "markdown",
   "id": "ac9e3de1-f33d-432c-b183-4502c067be02",
   "metadata": {},
   "source": [
    "#### Admitos Way (BERT Tokenizer)"
   ]
  },
  {
   "cell_type": "code",
   "execution_count": 2,
   "id": "6103f0ee-08c0-4b86-a276-199d74578d67",
   "metadata": {},
   "outputs": [],
   "source": [
    "phase2_path_train_src = '/data/admitosstorage/Phase_2/data_phase2/Admitos_way/final_input_train_data.pkl'\n",
    "phase2_path_train_tgt = '/data/admitosstorage/Phase_2/data_phase2/Admitos_way/final_ref_train_data.pkl'\n",
    "\n",
    "with open(phase2_path_train_src, 'rb') as f:\n",
    "    train_source_caps = pickle.load(f)\n",
    "\n",
    "with open(phase2_path_train_tgt, 'rb') as f:\n",
    "    train_target_stories = pickle.load(f)\n",
    "\n",
    "phase2_path_val_src = '/data/admitosstorage/Phase_2/data_phase2/Admitos_way/final_input_val_data.pkl'\n",
    "phase2_path_val_tgt = '/data/admitosstorage/Phase_2/data_phase2/Admitos_way/final_ref_val_data.pkl'\n",
    "\n",
    "with open(phase2_path_val_src, 'rb') as f:\n",
    "    val_source_caps = pickle.load(f)\n",
    "\n",
    "with open(phase2_path_val_tgt, 'rb') as f:\n",
    "    val_target_stories = pickle.load(f)\n",
    "\n",
    "phase2_path_test_src = '/data/admitosstorage/Phase_2/data_phase2/Admitos_way/final_input_test_data.pkl'\n",
    "phase2_path_test_tgt = '/data/admitosstorage/Phase_2/data_phase2/Admitos_way/final_ref_test_data.pkl'\n",
    "\n",
    "with open(phase2_path_test_src, 'rb') as f:\n",
    "    test_source_caps = pickle.load(f)\n",
    "\n",
    "with open(phase2_path_test_tgt, 'rb') as f:\n",
    "    test_target_stories = pickle.load(f)"
   ]
  },
  {
   "cell_type": "markdown",
   "id": "8a10ee5c-611e-4978-bfc6-0ab644ef1ca9",
   "metadata": {},
   "source": [
    "#### Admitos (Own Tokenizer)"
   ]
  },
  {
   "cell_type": "code",
   "execution_count": 3,
   "id": "55e6941e-9444-47dd-95d3-084da2673ff9",
   "metadata": {},
   "outputs": [],
   "source": [
    "phase2_path_train_src = '/data/admitosstorage/Phase_2/data_phase2/Admitos_way/train_caps_t4tok.pkl'\n",
    "phase2_path_train_tgt = '/data/admitosstorage/Phase_2/data_phase2/Admitos_way/train_stories_t4tok.pkl'\n",
    "\n",
    "with open(phase2_path_train_src, 'rb') as f:\n",
    "    train_source_caps = pickle.load(f)\n",
    "\n",
    "with open(phase2_path_train_tgt, 'rb') as f:\n",
    "    train_target_stories = pickle.load(f)\n",
    "\n",
    "phase2_path_val_src = '/data/admitosstorage/Phase_2/data_phase2/Admitos_way/val_caps_t4tok.pkl'\n",
    "phase2_path_val_tgt = '/data/admitosstorage/Phase_2/data_phase2/Admitos_way/val_stories_t4tok.pkl'\n",
    "\n",
    "with open(phase2_path_val_src, 'rb') as f:\n",
    "    val_source_caps = pickle.load(f)\n",
    "\n",
    "with open(phase2_path_val_tgt, 'rb') as f:\n",
    "    val_target_stories = pickle.load(f)\n",
    "    \n",
    "phase2_path_test_src = '/data/admitosstorage/Phase_2/data_phase2/Admitos_way/test_caps_t4tok.pkl'\n",
    "phase2_path_test_tgt = '/data/admitosstorage/Phase_2/data_phase2/Admitos_way/test_stories_t4tok.pkl'\n",
    "\n",
    "with open(phase2_path_test_src, 'rb') as f:\n",
    "    test_source_caps = pickle.load(f)\n",
    "\n",
    "with open(phase2_path_test_tgt, 'rb') as f:\n",
    "    test_target_stories = pickle.load(f)"
   ]
  },
  {
   "cell_type": "markdown",
   "id": "5abdd967-7a8a-4398-aa8c-0a94d7ee328d",
   "metadata": {},
   "source": [
    "#### Yingjin Way (BERT Tokenizer)"
   ]
  },
  {
   "cell_type": "code",
   "execution_count": 4,
   "id": "17351fe9-63d3-4ba6-8edd-2f73612bec2e",
   "metadata": {},
   "outputs": [],
   "source": [
    "phase2_path_yingjin_train_a = '/data/admitosstorage/Phase_2/data_phase2/Yingjin_way/final_train_input_caps.pkl'\n",
    "phase2_path_yingjin_train_b = '/data/admitosstorage/Phase_2/data_phase2/Yingjin_way/final_train_ref_stories.pkl'\n",
    "\n",
    "with open(phase2_path_yingjin_train_a, 'rb') as f:\n",
    "    train_source_caps = pickle.load(f)\n",
    "\n",
    "with open(phase2_path_yingjin_train_b, 'rb') as f:\n",
    "    train_target_stories = pickle.load(f)\n",
    "\n",
    "phase2_path_yingjin_val_a = '/data/admitosstorage/Phase_2/data_phase2/Yingjin_way/final_val_input_caps.pkl'\n",
    "phase2_path_yingjin_val_b = '/data/admitosstorage/Phase_2/data_phase2/Yingjin_way/final_val_ref_stories.pkl'\n",
    "\n",
    "with open(phase2_path_yingjin_val_a, 'rb') as f:\n",
    "    val_source_caps = pickle.load(f)\n",
    "\n",
    "with open(phase2_path_yingjin_val_b, 'rb') as f:\n",
    "    val_target_stories = pickle.load(f)\n",
    "\n",
    "phase2_path_yingjin_test_a = '/data/admitosstorage/Phase_2/data_phase2/Yingjin_way/final_test_input_caps.pkl'\n",
    "phase2_path_yingjin_test_b = '/data/admitosstorage/Phase_2/data_phase2/Yingjin_way/final_test_ref_stories.pkl'\n",
    "\n",
    "with open(phase2_path_yingjin_test_a, 'rb') as f:\n",
    "    test_source_caps = pickle.load(f)\n",
    "\n",
    "with open(phase2_path_yingjin_test_b, 'rb') as f:\n",
    "    test_target_stories = pickle.load(f)"
   ]
  },
  {
   "cell_type": "markdown",
   "id": "dc69daaa-a634-4357-848a-3918f9856168",
   "metadata": {},
   "source": [
    "#### Yingjin (Own Tokenizer)"
   ]
  },
  {
   "cell_type": "code",
   "execution_count": 5,
   "id": "2ec76d20-6484-4a70-a690-45b598a63713",
   "metadata": {},
   "outputs": [],
   "source": [
    "phase2_path_yingjin_train_a = '/data/admitosstorage/Phase_2/data_phase2/Yingjin_way/train_caps_t4tok.pkl'\n",
    "phase2_path_yingjin_train_b = '/data/admitosstorage/Phase_2/data_phase2/Yingjin_way/train_stories_t4tok.pkl'\n",
    "\n",
    "with open(phase2_path_yingjin_train_a, 'rb') as f:\n",
    "    train_source_caps = pickle.load(f)\n",
    "\n",
    "with open(phase2_path_yingjin_train_b, 'rb') as f:\n",
    "    train_target_stories = pickle.load(f)\n",
    "\n",
    "phase2_path_yingjin_val_a = '/data/admitosstorage/Phase_2/data_phase2/Yingjin_way/val_caps_t4tok.pkl'\n",
    "phase2_path_yingjin_val_b = '/data/admitosstorage/Phase_2/data_phase2/Yingjin_way/val_stories_t4tok.pkl'\n",
    "\n",
    "with open(phase2_path_yingjin_val_a, 'rb') as f:\n",
    "    val_source_caps = pickle.load(f)\n",
    "\n",
    "with open(phase2_path_yingjin_val_b, 'rb') as f:\n",
    "    val_target_stories = pickle.load(f)\n",
    "    \n",
    "phase2_path_yingjin_test_a = '/data/admitosstorage/Phase_2/data_phase2/Yingjin_way/test_caps_t4tok.pkl'\n",
    "phase2_path_yingjin_test_b = '/data/admitosstorage/Phase_2/data_phase2/Yingjin_way/test_stories_t4tok.pkl'\n",
    "\n",
    "with open(phase2_path_yingjin_test_a, 'rb') as f:\n",
    "    test_source_caps = pickle.load(f)\n",
    "\n",
    "with open(phase2_path_yingjin_test_b, 'rb') as f:\n",
    "    test_target_stories = pickle.load(f)"
   ]
  },
  {
   "cell_type": "markdown",
   "id": "1a0a2f1d-a784-4d0a-af74-7bad12842964",
   "metadata": {},
   "source": [
    "### Run the Training Loop"
   ]
  },
  {
   "cell_type": "code",
   "execution_count": 6,
   "id": "1a9304f0-3415-4b1b-99ed-eaeb4e1f4c40",
   "metadata": {},
   "outputs": [
    {
     "name": "stdout",
     "output_type": "stream",
     "text": [
      "The input-captions vocabulary is:  32745\n",
      "The target-stories vocabulary is:  34603\n",
      "The combined vocabulary is:  49535\n"
     ]
    }
   ],
   "source": [
    "## Load the neccesary vocabs\n",
    "name = 'admitos'\n",
    "#name = 'yingjin'\n",
    "vocab_total_dii_vocab = f'/data/admitosstorage/Phase_2/data_phase2/{name.capitalize()}_way/Vocabs/{name}_dii_vocab.pkl'\n",
    "vocab_total_sis_vocab = f'/data/admitosstorage/Phase_2/data_phase2/{name.capitalize()}_way/Vocabs/{name}_sis_vocab.pkl'\n",
    "vocab_combined = f'/data/admitosstorage/Phase_2/data_phase2/{name.capitalize()}_way/Vocabs/all_{name}_vocab.pkl'\n",
    "\n",
    "with open(vocab_total_dii_vocab, 'rb') as f:\n",
    "    dii_vocab = pickle.load(f)\n",
    "\n",
    "with open(vocab_total_sis_vocab, 'rb') as f:\n",
    "    sis_vocab = pickle.load(f)\n",
    "\n",
    "with open(vocab_combined, 'rb') as f:\n",
    "    total_vocab = pickle.load(f)\n",
    "\n",
    "print(\"The input-captions vocabulary is: \", len(dii_vocab))\n",
    "print(\"The target-stories vocabulary is: \", len(sis_vocab))\n",
    "print(\"The combined vocabulary is: \", len(total_vocab))"
   ]
  },
  {
   "cell_type": "code",
   "execution_count": 7,
   "id": "de80e045-6686-44ef-a3de-5273b915a162",
   "metadata": {},
   "outputs": [],
   "source": [
    "b_s = 8\n",
    "final_train_dataset = CustomDataset(train_source_caps, train_target_stories)\n",
    "final_val_dataset = CustomDataset(val_source_caps, val_target_stories)\n",
    "final_test_dataset = CustomDataset(test_source_caps, test_target_stories)\n",
    "\n",
    "final_train_dataloader = DataLoader(final_train_dataset, batch_size=b_s, shuffle=True, collate_fn=custom_collate_fn)\n",
    "final_val_dataloader = DataLoader(final_val_dataset, batch_size=b_s, shuffle=True, collate_fn=custom_collate_fn)\n",
    "final_test_dataloader = DataLoader(final_test_dataset, batch_size=b_s, shuffle=True, collate_fn=custom_collate_fn)"
   ]
  },
  {
   "cell_type": "code",
   "execution_count": 8,
   "id": "007bd0ec-212d-45f3-801c-0df6774908f5",
   "metadata": {},
   "outputs": [
    {
     "name": "stdout",
     "output_type": "stream",
     "text": [
      "Train lenth: 3322\n",
      "Validation lenth: 415\n",
      "Test lenth: 418\n",
      "\n",
      "torch.Size([8, 5, 21])\n",
      "torch.Size([8, 1, 71])\n",
      "\n",
      "torch.Size([8, 5, 22])\n",
      "torch.Size([8, 1, 102])\n",
      "\n",
      "torch.Size([8, 5, 25])\n",
      "torch.Size([8, 1, 88])\n"
     ]
    }
   ],
   "source": [
    "print(\"Train lenth:\", len(final_train_dataloader))\n",
    "print(\"Validation lenth:\", len(final_val_dataloader))\n",
    "print(\"Test lenth:\", len(final_test_dataloader))\n",
    "print()\n",
    "\n",
    "for x1,x2 in final_train_dataloader:\n",
    "    print(x1.shape)\n",
    "    print(x2.shape)\n",
    "    break\n",
    "    \n",
    "print()\n",
    "for x1,x2 in final_val_dataloader:\n",
    "    print(x1.shape)\n",
    "    print(x2.shape)\n",
    "    break\n",
    "\n",
    "print()\n",
    "for x1,x2 in final_test_dataloader:\n",
    "    print(x1.shape)\n",
    "    print(x2.shape)\n",
    "    break"
   ]
  },
  {
   "cell_type": "code",
   "execution_count": 9,
   "id": "e8b2d865-0c8d-44ad-a6ca-f26948d6d5f5",
   "metadata": {},
   "outputs": [
    {
     "name": "stderr",
     "output_type": "stream",
     "text": [
      "/home/apassadaki/.local/lib/python3.8/site-packages/tqdm/auto.py:21: TqdmWarning: IProgress not found. Please update jupyter and ipywidgets. See https://ipywidgets.readthedocs.io/en/stable/user_install.html\n",
      "  from .autonotebook import tqdm as notebook_tqdm\n"
     ]
    },
    {
     "name": "stdout",
     "output_type": "stream",
     "text": [
      "The length of Input and Ouput Vocabularies are 28996 and 28996 respectively\n",
      "DEVICE USED:  cuda:0\n"
     ]
    }
   ],
   "source": [
    "from t4 import T4Transformer, T4tokenizer\n",
    "import torch.optim as optim\n",
    "from torch.nn import CrossEntropyLoss\n",
    "from transformers import BertTokenizer, get_linear_schedule_with_warmup\n",
    "\n",
    "use_bert = True\n",
    "if use_bert:\n",
    "    tokenizer = BertTokenizer.from_pretrained('bert-base-cased')\n",
    "    vocabulary_size_input = len(tokenizer.vocab) # BERT's vocabulary size\n",
    "    vocabulary_size_target = len(tokenizer.vocab) # BERT's vocabulary size\n",
    "    \n",
    "else:\n",
    "    tokenizer = T4tokenizer(total_vocab)\n",
    "    vocabulary_size_input = len(tokenizer.get_vocab()) # number of unique tokens in all of Inputs\n",
    "    vocabulary_size_target = len(tokenizer.get_vocab()) # number of unique tokens in all of Targets\n",
    "\n",
    "print(f\"The length of Input and Ouput Vocabularies are {vocabulary_size_input} and {vocabulary_size_target} respectively\")\n",
    "\n",
    "embedding_dim = 768\n",
    "number_layers = 6\n",
    "number_heads = 12\n",
    "feed_forward_dim = 2048\n",
    "my_device = torch.device('cuda:0') if torch.cuda.is_available() else \"cpu\"\n",
    "print(\"DEVICE USED: \", my_device)\n",
    "\n",
    "model = T4Transformer(vocab_size_input=vocabulary_size_input, vocab_size_target=vocabulary_size_target, d_model=embedding_dim, num_layers=number_layers, \n",
    "                    num_heads=number_heads, d_ff=feed_forward_dim, dropout=0.2, pad_token=0, device=my_device)\n",
    "optimizer = optim.Adam(model.parameters(), lr=0.001)"
   ]
  },
  {
   "cell_type": "code",
   "execution_count": 10,
   "id": "f6064dc0-bc00-4589-851c-28174a9578be",
   "metadata": {},
   "outputs": [
    {
     "name": "stdout",
     "output_type": "stream",
     "text": [
      "The trainable parameters of the model are:  136347844\n"
     ]
    }
   ],
   "source": [
    "def compute_loss(output, target):\n",
    "    loss_fn = CrossEntropyLoss(ignore_index=0)\n",
    "    loss = loss_fn(output, target)\n",
    "    return loss\n",
    "\n",
    "def flat_over_img_caps(source):\n",
    "    if len(source.shape)<3:\n",
    "        return source\n",
    "    if len(source.shape)==3:\n",
    "        if (source.shape[0]==5 and source.shape[1]==3) or (source.shape[0]==5 and source.shape[1]==2):\n",
    "            source = source.reshape(-1, source.size(-1)) \n",
    "            return source\n",
    "        else:\n",
    "            return source\n",
    "    if len(source.shape)==4:\n",
    "        source = source.reshape(source.size(0), -1, source.size(-1))\n",
    "        return source\n",
    "    assert len(source.shape)>4, f\"AssertionError: The length of the source is more than 4!\"\n",
    "\n",
    "print(\"The trainable parameters of the model are: \", count_parameters(model))"
   ]
  },
  {
   "cell_type": "code",
   "execution_count": 105,
   "id": "c84be313-d486-4bdc-a685-ba1b119b0aae",
   "metadata": {
    "scrolled": true
   },
   "outputs": [
    {
     "name": "stdout",
     "output_type": "stream",
     "text": [
      "------------------------------------------ Training loop ------------------------------------------------\n"
     ]
    },
    {
     "name": "stderr",
     "output_type": "stream",
     "text": [
      "Processing Train items:   0%|                                              | 0/3322 [00:00<?, ?it/s]"
     ]
    },
    {
     "name": "stdout",
     "output_type": "stream",
     "text": [
      "Epoch: 1, Iteration [1/3322] --> Train Loss: 5.558104038238525\n"
     ]
    },
    {
     "name": "stderr",
     "output_type": "stream",
     "text": [
      "Processing Train items:   0%|                                      | 2/3322 [00:00<05:40,  9.75it/s]"
     ]
    },
    {
     "name": "stdout",
     "output_type": "stream",
     "text": [
      "Epoch: 1, Iteration [2/3322] --> Train Loss: 5.58492374420166\n",
      "Epoch: 1, Iteration [3/3322] --> Train Loss: 5.561428070068359\n"
     ]
    },
    {
     "name": "stderr",
     "output_type": "stream",
     "text": [
      "Processing Train items:   0%|                                      | 4/3322 [00:00<05:08, 10.74it/s]"
     ]
    },
    {
     "name": "stdout",
     "output_type": "stream",
     "text": [
      "Epoch: 1, Iteration [4/3322] --> Train Loss: 5.599481582641602\n",
      "Epoch: 1, Iteration [5/3322] --> Train Loss: 5.538896560668945\n"
     ]
    },
    {
     "name": "stderr",
     "output_type": "stream",
     "text": [
      "Processing Train items:   0%|                                      | 6/3322 [00:00<05:56,  9.29it/s]"
     ]
    },
    {
     "name": "stdout",
     "output_type": "stream",
     "text": [
      "Epoch: 1, Iteration [6/3322] --> Train Loss: 5.492788314819336\n"
     ]
    },
    {
     "name": "stderr",
     "output_type": "stream",
     "text": [
      "Processing Train items:   0%|                                      | 8/3322 [00:00<05:09, 10.71it/s]"
     ]
    },
    {
     "name": "stdout",
     "output_type": "stream",
     "text": [
      "Epoch: 1, Iteration [7/3322] --> Train Loss: 5.483996391296387\n",
      "Epoch: 1, Iteration [8/3322] --> Train Loss: 5.53447961807251\n",
      "Epoch: 1, Iteration [9/3322] --> Train Loss: 5.494539737701416\n"
     ]
    },
    {
     "name": "stderr",
     "output_type": "stream",
     "text": [
      "Processing Train items:   0%|                                     | 10/3322 [00:00<05:01, 10.97it/s]"
     ]
    },
    {
     "name": "stdout",
     "output_type": "stream",
     "text": [
      "Epoch: 1, Iteration [10/3322] --> Train Loss: 5.436890125274658\n",
      "Epoch: 1, Iteration [11/3322] --> Train Loss: 5.452810764312744\n"
     ]
    },
    {
     "name": "stderr",
     "output_type": "stream",
     "text": [
      "Processing Train items:   0%|▏                                    | 12/3322 [00:01<05:08, 10.74it/s]"
     ]
    },
    {
     "name": "stdout",
     "output_type": "stream",
     "text": [
      "Epoch: 1, Iteration [12/3322] --> Train Loss: 5.44215202331543\n"
     ]
    },
    {
     "name": "stderr",
     "output_type": "stream",
     "text": [
      "Processing Train items:   0%|▏                                    | 14/3322 [00:01<05:05, 10.83it/s]"
     ]
    },
    {
     "name": "stdout",
     "output_type": "stream",
     "text": [
      "Epoch: 1, Iteration [13/3322] --> Train Loss: 5.338211536407471\n",
      "Epoch: 1, Iteration [14/3322] --> Train Loss: 5.381984710693359\n",
      "Epoch: 1, Iteration [15/3322] --> Train Loss: 5.315419673919678\n"
     ]
    },
    {
     "name": "stderr",
     "output_type": "stream",
     "text": [
      "Processing Train items:   0%|▏                                    | 16/3322 [00:01<04:58, 11.08it/s]"
     ]
    },
    {
     "name": "stdout",
     "output_type": "stream",
     "text": [
      "Epoch: 1, Iteration [16/3322] --> Train Loss: 5.336305618286133\n",
      "Epoch: 1, Iteration [17/3322] --> Train Loss: 5.255838394165039\n"
     ]
    },
    {
     "name": "stderr",
     "output_type": "stream",
     "text": [
      "Processing Train items:   1%|▏                                    | 18/3322 [00:01<04:57, 11.12it/s]"
     ]
    },
    {
     "name": "stdout",
     "output_type": "stream",
     "text": [
      "Epoch: 1, Iteration [18/3322] --> Train Loss: 5.295966625213623\n"
     ]
    },
    {
     "name": "stderr",
     "output_type": "stream",
     "text": [
      "Processing Train items:   1%|▏                                    | 20/3322 [00:01<05:04, 10.85it/s]"
     ]
    },
    {
     "name": "stdout",
     "output_type": "stream",
     "text": [
      "Epoch: 1, Iteration [19/3322] --> Train Loss: 5.17280387878418\n",
      "Epoch: 1, Iteration [20/3322] --> Train Loss: 5.186212539672852\n"
     ]
    },
    {
     "name": "stderr",
     "output_type": "stream",
     "text": [
      "Processing Train items:   1%|▏                                    | 22/3322 [00:02<05:15, 10.45it/s]"
     ]
    },
    {
     "name": "stdout",
     "output_type": "stream",
     "text": [
      "Epoch: 1, Iteration [21/3322] --> Train Loss: 5.1612629890441895\n",
      "Epoch: 1, Iteration [22/3322] --> Train Loss: 5.180197238922119\n",
      "Epoch: 1, Iteration [23/3322] --> Train Loss: 5.134156703948975\n"
     ]
    },
    {
     "name": "stderr",
     "output_type": "stream",
     "text": [
      "Processing Train items:   1%|▎                                    | 24/3322 [00:02<05:06, 10.75it/s]"
     ]
    },
    {
     "name": "stdout",
     "output_type": "stream",
     "text": [
      "Epoch: 1, Iteration [24/3322] --> Train Loss: 5.127297401428223\n",
      "Epoch: 1, Iteration [25/3322] --> Train Loss: 5.086755275726318\n",
      "Epoch: 1, Iteration [26/3322] --> Train Loss: 5.101472854614258\n"
     ]
    },
    {
     "name": "stderr",
     "output_type": "stream",
     "text": [
      "Processing Train items:   1%|▎                                    | 28/3322 [00:02<05:22, 10.23it/s]"
     ]
    },
    {
     "name": "stdout",
     "output_type": "stream",
     "text": [
      "Epoch: 1, Iteration [27/3322] --> Train Loss: 4.95703649520874\n",
      "Epoch: 1, Iteration [28/3322] --> Train Loss: 5.023557662963867\n",
      "Epoch: 1, Iteration [29/3322] --> Train Loss: 5.070884704589844\n"
     ]
    },
    {
     "name": "stderr",
     "output_type": "stream",
     "text": [
      "Processing Train items:   1%|▎                                    | 30/3322 [00:02<05:01, 10.92it/s]"
     ]
    },
    {
     "name": "stdout",
     "output_type": "stream",
     "text": [
      "Epoch: 1, Iteration [30/3322] --> Train Loss: 4.977388381958008\n",
      "Epoch: 1, Iteration [31/3322] --> Train Loss: 4.9884161949157715\n"
     ]
    },
    {
     "name": "stderr",
     "output_type": "stream",
     "text": [
      "Processing Train items:   1%|▍                                    | 34/3322 [00:03<05:00, 10.92it/s]"
     ]
    },
    {
     "name": "stdout",
     "output_type": "stream",
     "text": [
      "Epoch: 1, Iteration [32/3322] --> Train Loss: 4.9518961906433105\n",
      "Epoch: 1, Iteration [33/3322] --> Train Loss: 4.948666095733643\n",
      "Epoch: 1, Iteration [34/3322] --> Train Loss: 4.855560779571533\n"
     ]
    },
    {
     "name": "stderr",
     "output_type": "stream",
     "text": [
      "Processing Train items:   1%|▍                                    | 36/3322 [00:03<05:14, 10.45it/s]"
     ]
    },
    {
     "name": "stdout",
     "output_type": "stream",
     "text": [
      "Epoch: 1, Iteration [35/3322] --> Train Loss: 4.865298271179199\n",
      "Epoch: 1, Iteration [36/3322] --> Train Loss: 4.823288440704346\n"
     ]
    },
    {
     "name": "stderr",
     "output_type": "stream",
     "text": [
      "Processing Train items:   1%|▍                                    | 38/3322 [00:03<05:12, 10.51it/s]"
     ]
    },
    {
     "name": "stdout",
     "output_type": "stream",
     "text": [
      "Epoch: 1, Iteration [37/3322] --> Train Loss: 4.89084529876709\n",
      "Epoch: 1, Iteration [38/3322] --> Train Loss: 4.8082709312438965\n",
      "Epoch: 1, Iteration [39/3322] --> Train Loss: 4.7823100090026855\n"
     ]
    },
    {
     "name": "stderr",
     "output_type": "stream",
     "text": [
      "Processing Train items:   1%|▍                                    | 42/3322 [00:03<04:50, 11.27it/s]"
     ]
    },
    {
     "name": "stdout",
     "output_type": "stream",
     "text": [
      "Epoch: 1, Iteration [40/3322] --> Train Loss: 4.837776184082031\n",
      "Epoch: 1, Iteration [41/3322] --> Train Loss: 4.75471305847168\n",
      "Epoch: 1, Iteration [42/3322] --> Train Loss: 4.739355564117432\n"
     ]
    },
    {
     "name": "stderr",
     "output_type": "stream",
     "text": [
      "Processing Train items:   1%|▍                                    | 44/3322 [00:04<04:40, 11.68it/s]"
     ]
    },
    {
     "name": "stdout",
     "output_type": "stream",
     "text": [
      "Epoch: 1, Iteration [43/3322] --> Train Loss: 4.734354019165039\n",
      "Epoch: 1, Iteration [44/3322] --> Train Loss: 4.814767837524414\n",
      "Epoch: 1, Iteration [45/3322] --> Train Loss: 4.753589630126953\n"
     ]
    },
    {
     "name": "stderr",
     "output_type": "stream",
     "text": [
      "Processing Train items:   1%|▌                                    | 48/3322 [00:04<04:57, 11.02it/s]"
     ]
    },
    {
     "name": "stdout",
     "output_type": "stream",
     "text": [
      "Epoch: 1, Iteration [46/3322] --> Train Loss: 4.687559604644775\n",
      "Epoch: 1, Iteration [47/3322] --> Train Loss: 4.8980817794799805\n",
      "Epoch: 1, Iteration [48/3322] --> Train Loss: 4.62925910949707\n"
     ]
    },
    {
     "name": "stderr",
     "output_type": "stream",
     "text": [
      "Processing Train items:   2%|▌                                    | 50/3322 [00:04<04:38, 11.75it/s]"
     ]
    },
    {
     "name": "stdout",
     "output_type": "stream",
     "text": [
      "Epoch: 1, Iteration [49/3322] --> Train Loss: 4.6554741859436035\n",
      "Epoch: 1, Iteration [50/3322] --> Train Loss: 4.650644302368164\n",
      "Epoch: 1, Iteration [51/3322] --> Train Loss: 4.465790748596191\n"
     ]
    },
    {
     "name": "stderr",
     "output_type": "stream",
     "text": [
      "Processing Train items:   2%|▌                                    | 54/3322 [00:04<04:40, 11.65it/s]"
     ]
    },
    {
     "name": "stdout",
     "output_type": "stream",
     "text": [
      "Epoch: 1, Iteration [52/3322] --> Train Loss: 4.6798415184021\n",
      "Epoch: 1, Iteration [53/3322] --> Train Loss: 4.756353855133057\n",
      "Epoch: 1, Iteration [54/3322] --> Train Loss: 4.6205363273620605\n"
     ]
    },
    {
     "name": "stderr",
     "output_type": "stream",
     "text": [
      "Processing Train items:   2%|▌                                    | 56/3322 [00:05<04:58, 10.94it/s]"
     ]
    },
    {
     "name": "stdout",
     "output_type": "stream",
     "text": [
      "Epoch: 1, Iteration [55/3322] --> Train Loss: 4.628336429595947\n",
      "Epoch: 1, Iteration [56/3322] --> Train Loss: 4.618484020233154\n"
     ]
    },
    {
     "name": "stderr",
     "output_type": "stream",
     "text": [
      "Processing Train items:   2%|▋                                    | 58/3322 [00:05<04:44, 11.46it/s]"
     ]
    },
    {
     "name": "stdout",
     "output_type": "stream",
     "text": [
      "Epoch: 1, Iteration [57/3322] --> Train Loss: 4.586106300354004\n",
      "Epoch: 1, Iteration [58/3322] --> Train Loss: 4.698646545410156\n",
      "Epoch: 1, Iteration [59/3322] --> Train Loss: 4.731560230255127\n"
     ]
    },
    {
     "name": "stderr",
     "output_type": "stream",
     "text": [
      "Processing Train items:   2%|▋                                    | 62/3322 [00:05<04:56, 10.98it/s]"
     ]
    },
    {
     "name": "stdout",
     "output_type": "stream",
     "text": [
      "Epoch: 1, Iteration [60/3322] --> Train Loss: 4.605875492095947\n",
      "Epoch: 1, Iteration [61/3322] --> Train Loss: 4.503793239593506\n",
      "Epoch: 1, Iteration [62/3322] --> Train Loss: 4.5914716720581055\n"
     ]
    },
    {
     "name": "stderr",
     "output_type": "stream",
     "text": [
      "Processing Train items:   2%|▋                                    | 64/3322 [00:05<04:46, 11.35it/s]"
     ]
    },
    {
     "name": "stdout",
     "output_type": "stream",
     "text": [
      "Epoch: 1, Iteration [63/3322] --> Train Loss: 4.493416786193848\n",
      "Epoch: 1, Iteration [64/3322] --> Train Loss: 4.4228925704956055\n",
      "Epoch: 1, Iteration [65/3322] --> Train Loss: 4.495541095733643\n"
     ]
    },
    {
     "name": "stderr",
     "output_type": "stream",
     "text": [
      "Processing Train items:   2%|▊                                    | 68/3322 [00:06<05:02, 10.76it/s]"
     ]
    },
    {
     "name": "stdout",
     "output_type": "stream",
     "text": [
      "Epoch: 1, Iteration [66/3322] --> Train Loss: 4.619786739349365\n",
      "Epoch: 1, Iteration [67/3322] --> Train Loss: 4.532824993133545\n",
      "Epoch: 1, Iteration [68/3322] --> Train Loss: 4.564675331115723\n"
     ]
    },
    {
     "name": "stderr",
     "output_type": "stream",
     "text": [
      "Processing Train items:   2%|▊                                    | 70/3322 [00:06<04:52, 11.10it/s]"
     ]
    },
    {
     "name": "stdout",
     "output_type": "stream",
     "text": [
      "Epoch: 1, Iteration [69/3322] --> Train Loss: 4.429069519042969\n",
      "Epoch: 1, Iteration [70/3322] --> Train Loss: 4.604520797729492\n"
     ]
    },
    {
     "name": "stderr",
     "output_type": "stream",
     "text": [
      "Processing Train items:   2%|▊                                    | 72/3322 [00:06<05:15, 10.29it/s]"
     ]
    },
    {
     "name": "stdout",
     "output_type": "stream",
     "text": [
      "Epoch: 1, Iteration [71/3322] --> Train Loss: 4.3835225105285645\n",
      "Epoch: 1, Iteration [72/3322] --> Train Loss: 4.350063323974609\n",
      "Epoch: 1, Iteration [73/3322] --> Train Loss: 4.484338283538818\n"
     ]
    },
    {
     "name": "stderr",
     "output_type": "stream",
     "text": [
      "Processing Train items:   2%|▊                                    | 76/3322 [00:06<04:51, 11.14it/s]"
     ]
    },
    {
     "name": "stdout",
     "output_type": "stream",
     "text": [
      "Epoch: 1, Iteration [74/3322] --> Train Loss: 4.349578380584717\n",
      "Epoch: 1, Iteration [75/3322] --> Train Loss: 4.397608757019043\n",
      "Epoch: 1, Iteration [76/3322] --> Train Loss: 4.359447479248047\n"
     ]
    },
    {
     "name": "stderr",
     "output_type": "stream",
     "text": [
      "Processing Train items:   2%|▊                                    | 78/3322 [00:07<04:34, 11.81it/s]"
     ]
    },
    {
     "name": "stdout",
     "output_type": "stream",
     "text": [
      "Epoch: 1, Iteration [77/3322] --> Train Loss: 4.377473831176758\n",
      "Epoch: 1, Iteration [78/3322] --> Train Loss: 4.339347839355469\n",
      "Epoch: 1, Iteration [79/3322] --> Train Loss: 4.201931953430176\n"
     ]
    },
    {
     "name": "stderr",
     "output_type": "stream",
     "text": [
      "Processing Train items:   2%|▉                                    | 82/3322 [00:07<04:26, 12.15it/s]"
     ]
    },
    {
     "name": "stdout",
     "output_type": "stream",
     "text": [
      "Epoch: 1, Iteration [80/3322] --> Train Loss: 4.208537578582764\n",
      "Epoch: 1, Iteration [81/3322] --> Train Loss: 4.258546829223633\n",
      "Epoch: 1, Iteration [82/3322] --> Train Loss: 4.188093185424805\n"
     ]
    },
    {
     "name": "stderr",
     "output_type": "stream",
     "text": [
      "Processing Train items:   3%|▉                                    | 84/3322 [00:07<04:30, 11.98it/s]"
     ]
    },
    {
     "name": "stdout",
     "output_type": "stream",
     "text": [
      "Epoch: 1, Iteration [83/3322] --> Train Loss: 4.210190296173096\n",
      "Epoch: 1, Iteration [84/3322] --> Train Loss: 4.341796875\n",
      "Epoch: 1, Iteration [85/3322] --> Train Loss: 4.113235950469971\n"
     ]
    },
    {
     "name": "stderr",
     "output_type": "stream",
     "text": [
      "Processing Train items:   3%|▉                                    | 88/3322 [00:07<04:33, 11.84it/s]"
     ]
    },
    {
     "name": "stdout",
     "output_type": "stream",
     "text": [
      "Epoch: 1, Iteration [86/3322] --> Train Loss: 4.187857627868652\n",
      "Epoch: 1, Iteration [87/3322] --> Train Loss: 4.088544845581055\n",
      "Epoch: 1, Iteration [88/3322] --> Train Loss: 4.077248573303223\n"
     ]
    },
    {
     "name": "stderr",
     "output_type": "stream",
     "text": [
      "Processing Train items:   3%|█                                    | 90/3322 [00:08<04:36, 11.69it/s]"
     ]
    },
    {
     "name": "stdout",
     "output_type": "stream",
     "text": [
      "Epoch: 1, Iteration [89/3322] --> Train Loss: 4.101474761962891\n",
      "Epoch: 1, Iteration [90/3322] --> Train Loss: 4.2606658935546875\n",
      "Epoch: 1, Iteration [91/3322] --> Train Loss: 4.144355773925781\n"
     ]
    },
    {
     "name": "stderr",
     "output_type": "stream",
     "text": [
      "Processing Train items:   3%|█                                    | 94/3322 [00:08<04:26, 12.12it/s]"
     ]
    },
    {
     "name": "stdout",
     "output_type": "stream",
     "text": [
      "Epoch: 1, Iteration [92/3322] --> Train Loss: 4.155980110168457\n",
      "Epoch: 1, Iteration [93/3322] --> Train Loss: 4.097087383270264\n",
      "Epoch: 1, Iteration [94/3322] --> Train Loss: 4.034560203552246\n"
     ]
    },
    {
     "name": "stderr",
     "output_type": "stream",
     "text": [
      "Processing Train items:   3%|█                                    | 96/3322 [00:08<04:31, 11.87it/s]"
     ]
    },
    {
     "name": "stdout",
     "output_type": "stream",
     "text": [
      "Epoch: 1, Iteration [95/3322] --> Train Loss: 4.136826992034912\n",
      "Epoch: 1, Iteration [96/3322] --> Train Loss: 4.09789514541626\n",
      "Epoch: 1, Iteration [97/3322] --> Train Loss: 4.010489463806152\n"
     ]
    },
    {
     "name": "stderr",
     "output_type": "stream",
     "text": [
      "Processing Train items:   3%|█                                   | 100/3322 [00:09<04:45, 11.29it/s]"
     ]
    },
    {
     "name": "stdout",
     "output_type": "stream",
     "text": [
      "Epoch: 1, Iteration [98/3322] --> Train Loss: 4.101323127746582\n",
      "Epoch: 1, Iteration [99/3322] --> Train Loss: 4.083041667938232\n",
      "Epoch: 1, Iteration [100/3322] --> Train Loss: 3.986006498336792\n"
     ]
    },
    {
     "name": "stderr",
     "output_type": "stream",
     "text": [
      "Processing Train items:   3%|█                                   | 102/3322 [00:09<04:55, 10.88it/s]"
     ]
    },
    {
     "name": "stdout",
     "output_type": "stream",
     "text": [
      "Epoch: 1, Iteration [101/3322] --> Train Loss: 3.9321913719177246\n",
      "Epoch: 1, Iteration [102/3322] --> Train Loss: 3.9665184020996094\n",
      "Epoch: 1, Iteration [103/3322] --> Train Loss: 3.912883758544922\n"
     ]
    },
    {
     "name": "stderr",
     "output_type": "stream",
     "text": [
      "Processing Train items:   3%|█▏                                  | 104/3322 [00:09<04:48, 11.14it/s]"
     ]
    },
    {
     "name": "stdout",
     "output_type": "stream",
     "text": [
      "Epoch: 1, Iteration [104/3322] --> Train Loss: 3.9910757541656494\n",
      "Epoch: 1, Iteration [105/3322] --> Train Loss: 3.7834582328796387\n",
      "Epoch: 1, Iteration [106/3322] --> Train Loss: 3.8683981895446777\n"
     ]
    },
    {
     "name": "stderr",
     "output_type": "stream",
     "text": [
      "Processing Train items:   3%|█▏                                  | 108/3322 [00:09<05:15, 10.20it/s]"
     ]
    },
    {
     "name": "stdout",
     "output_type": "stream",
     "text": [
      "Epoch: 1, Iteration [107/3322] --> Train Loss: 3.7965848445892334\n",
      "Epoch: 1, Iteration [108/3322] --> Train Loss: 3.8939270973205566\n",
      "Epoch: 1, Iteration [109/3322] --> Train Loss: 3.637523651123047\n"
     ]
    },
    {
     "name": "stderr",
     "output_type": "stream",
     "text": [
      "Processing Train items:   3%|█▏                                  | 112/3322 [00:10<05:04, 10.56it/s]"
     ]
    },
    {
     "name": "stdout",
     "output_type": "stream",
     "text": [
      "Epoch: 1, Iteration [110/3322] --> Train Loss: 3.7856223583221436\n",
      "Epoch: 1, Iteration [111/3322] --> Train Loss: 3.7682831287384033\n",
      "Epoch: 1, Iteration [112/3322] --> Train Loss: 3.749248504638672\n"
     ]
    },
    {
     "name": "stderr",
     "output_type": "stream",
     "text": [
      "Processing Train items:   3%|█▏                                  | 114/3322 [00:10<04:53, 10.94it/s]"
     ]
    },
    {
     "name": "stdout",
     "output_type": "stream",
     "text": [
      "Epoch: 1, Iteration [113/3322] --> Train Loss: 3.6976284980773926\n",
      "Epoch: 1, Iteration [114/3322] --> Train Loss: 3.5908563137054443\n",
      "Epoch: 1, Iteration [115/3322] --> Train Loss: 3.620866060256958\n"
     ]
    },
    {
     "name": "stderr",
     "output_type": "stream",
     "text": [
      "Processing Train items:   3%|█▎                                  | 116/3322 [00:10<04:57, 10.77it/s]"
     ]
    },
    {
     "name": "stdout",
     "output_type": "stream",
     "text": [
      "Epoch: 1, Iteration [116/3322] --> Train Loss: 3.6710057258605957\n",
      "Epoch: 1, Iteration [117/3322] --> Train Loss: 3.648153066635132\n"
     ]
    },
    {
     "name": "stderr",
     "output_type": "stream",
     "text": [
      "Processing Train items:   4%|█▎                                  | 120/3322 [00:10<05:11, 10.29it/s]"
     ]
    },
    {
     "name": "stdout",
     "output_type": "stream",
     "text": [
      "Epoch: 1, Iteration [118/3322] --> Train Loss: 3.544652223587036\n",
      "Epoch: 1, Iteration [119/3322] --> Train Loss: 3.7211382389068604\n",
      "Epoch: 1, Iteration [120/3322] --> Train Loss: 3.6632025241851807\n"
     ]
    },
    {
     "name": "stderr",
     "output_type": "stream",
     "text": [
      "Processing Train items:   4%|█▎                                  | 122/3322 [00:11<05:15, 10.14it/s]"
     ]
    },
    {
     "name": "stdout",
     "output_type": "stream",
     "text": [
      "Epoch: 1, Iteration [121/3322] --> Train Loss: 3.545694589614868\n",
      "Epoch: 1, Iteration [122/3322] --> Train Loss: 3.4737441539764404\n",
      "Epoch: 1, Iteration [123/3322] --> Train Loss: 3.649404764175415\n"
     ]
    },
    {
     "name": "stderr",
     "output_type": "stream",
     "text": [
      "Processing Train items:   4%|█▎                                  | 124/3322 [00:11<04:57, 10.75it/s]"
     ]
    },
    {
     "name": "stdout",
     "output_type": "stream",
     "text": [
      "Epoch: 1, Iteration [124/3322] --> Train Loss: 3.5283429622650146\n",
      "Epoch: 1, Iteration [125/3322] --> Train Loss: 3.509359836578369\n",
      "Epoch: 1, Iteration [126/3322] --> Train Loss: 3.4855434894561768\n"
     ]
    },
    {
     "name": "stderr",
     "output_type": "stream",
     "text": [
      "Processing Train items:   4%|█▍                                  | 128/3322 [00:11<04:52, 10.91it/s]"
     ]
    },
    {
     "name": "stdout",
     "output_type": "stream",
     "text": [
      "Epoch: 1, Iteration [127/3322] --> Train Loss: 3.2987256050109863\n",
      "Epoch: 1, Iteration [128/3322] --> Train Loss: 3.4849374294281006\n"
     ]
    },
    {
     "name": "stderr",
     "output_type": "stream",
     "text": [
      "\n"
     ]
    },
    {
     "ename": "KeyboardInterrupt",
     "evalue": "",
     "output_type": "error",
     "traceback": [
      "\u001b[0;31m---------------------------------------------------------------------------\u001b[0m",
      "\u001b[0;31mKeyboardInterrupt\u001b[0m                         Traceback (most recent call last)",
      "Cell \u001b[0;32mIn[105], line 29\u001b[0m\n\u001b[1;32m     27\u001b[0m train_loss \u001b[38;5;241m=\u001b[39m compute_loss(output\u001b[38;5;241m.\u001b[39mcontiguous()\u001b[38;5;241m.\u001b[39mview(\u001b[38;5;241m-\u001b[39m\u001b[38;5;241m1\u001b[39m,vocabulary_size_target), tgt\u001b[38;5;241m.\u001b[39msqueeze(\u001b[38;5;241m0\u001b[39m)\u001b[38;5;241m.\u001b[39mcontiguous()\u001b[38;5;241m.\u001b[39mview(\u001b[38;5;241m-\u001b[39m\u001b[38;5;241m1\u001b[39m)\u001b[38;5;241m.\u001b[39mto(my_device))\n\u001b[1;32m     28\u001b[0m train_loss \u001b[38;5;241m=\u001b[39m train_loss\u001b[38;5;241m/\u001b[39maccumulation_steps\n\u001b[0;32m---> 29\u001b[0m \u001b[43mtrain_loss\u001b[49m\u001b[38;5;241;43m.\u001b[39;49m\u001b[43mbackward\u001b[49m\u001b[43m(\u001b[49m\u001b[43m)\u001b[49m\n\u001b[1;32m     30\u001b[0m \u001b[38;5;28;01mif\u001b[39;00m (it\u001b[38;5;241m+\u001b[39m\u001b[38;5;241m1\u001b[39m)\u001b[38;5;241m%\u001b[39maccumulation_steps \u001b[38;5;241m==\u001b[39m \u001b[38;5;241m0\u001b[39m:\n\u001b[1;32m     31\u001b[0m     optimizer\u001b[38;5;241m.\u001b[39mstep()\n",
      "File \u001b[0;32m~/.local/lib/python3.8/site-packages/torch/_tensor.py:522\u001b[0m, in \u001b[0;36mTensor.backward\u001b[0;34m(self, gradient, retain_graph, create_graph, inputs)\u001b[0m\n\u001b[1;32m    512\u001b[0m \u001b[38;5;28;01mif\u001b[39;00m has_torch_function_unary(\u001b[38;5;28mself\u001b[39m):\n\u001b[1;32m    513\u001b[0m     \u001b[38;5;28;01mreturn\u001b[39;00m handle_torch_function(\n\u001b[1;32m    514\u001b[0m         Tensor\u001b[38;5;241m.\u001b[39mbackward,\n\u001b[1;32m    515\u001b[0m         (\u001b[38;5;28mself\u001b[39m,),\n\u001b[0;32m   (...)\u001b[0m\n\u001b[1;32m    520\u001b[0m         inputs\u001b[38;5;241m=\u001b[39minputs,\n\u001b[1;32m    521\u001b[0m     )\n\u001b[0;32m--> 522\u001b[0m \u001b[43mtorch\u001b[49m\u001b[38;5;241;43m.\u001b[39;49m\u001b[43mautograd\u001b[49m\u001b[38;5;241;43m.\u001b[39;49m\u001b[43mbackward\u001b[49m\u001b[43m(\u001b[49m\n\u001b[1;32m    523\u001b[0m \u001b[43m    \u001b[49m\u001b[38;5;28;43mself\u001b[39;49m\u001b[43m,\u001b[49m\u001b[43m \u001b[49m\u001b[43mgradient\u001b[49m\u001b[43m,\u001b[49m\u001b[43m \u001b[49m\u001b[43mretain_graph\u001b[49m\u001b[43m,\u001b[49m\u001b[43m \u001b[49m\u001b[43mcreate_graph\u001b[49m\u001b[43m,\u001b[49m\u001b[43m \u001b[49m\u001b[43minputs\u001b[49m\u001b[38;5;241;43m=\u001b[39;49m\u001b[43minputs\u001b[49m\n\u001b[1;32m    524\u001b[0m \u001b[43m\u001b[49m\u001b[43m)\u001b[49m\n",
      "File \u001b[0;32m~/.local/lib/python3.8/site-packages/torch/autograd/__init__.py:266\u001b[0m, in \u001b[0;36mbackward\u001b[0;34m(tensors, grad_tensors, retain_graph, create_graph, grad_variables, inputs)\u001b[0m\n\u001b[1;32m    261\u001b[0m     retain_graph \u001b[38;5;241m=\u001b[39m create_graph\n\u001b[1;32m    263\u001b[0m \u001b[38;5;66;03m# The reason we repeat the same comment below is that\u001b[39;00m\n\u001b[1;32m    264\u001b[0m \u001b[38;5;66;03m# some Python versions print out the first line of a multi-line function\u001b[39;00m\n\u001b[1;32m    265\u001b[0m \u001b[38;5;66;03m# calls in the traceback and some print out the last line\u001b[39;00m\n\u001b[0;32m--> 266\u001b[0m \u001b[43mVariable\u001b[49m\u001b[38;5;241;43m.\u001b[39;49m\u001b[43m_execution_engine\u001b[49m\u001b[38;5;241;43m.\u001b[39;49m\u001b[43mrun_backward\u001b[49m\u001b[43m(\u001b[49m\u001b[43m  \u001b[49m\u001b[38;5;66;43;03m# Calls into the C++ engine to run the backward pass\u001b[39;49;00m\n\u001b[1;32m    267\u001b[0m \u001b[43m    \u001b[49m\u001b[43mtensors\u001b[49m\u001b[43m,\u001b[49m\n\u001b[1;32m    268\u001b[0m \u001b[43m    \u001b[49m\u001b[43mgrad_tensors_\u001b[49m\u001b[43m,\u001b[49m\n\u001b[1;32m    269\u001b[0m \u001b[43m    \u001b[49m\u001b[43mretain_graph\u001b[49m\u001b[43m,\u001b[49m\n\u001b[1;32m    270\u001b[0m \u001b[43m    \u001b[49m\u001b[43mcreate_graph\u001b[49m\u001b[43m,\u001b[49m\n\u001b[1;32m    271\u001b[0m \u001b[43m    \u001b[49m\u001b[43minputs\u001b[49m\u001b[43m,\u001b[49m\n\u001b[1;32m    272\u001b[0m \u001b[43m    \u001b[49m\u001b[43mallow_unreachable\u001b[49m\u001b[38;5;241;43m=\u001b[39;49m\u001b[38;5;28;43;01mTrue\u001b[39;49;00m\u001b[43m,\u001b[49m\n\u001b[1;32m    273\u001b[0m \u001b[43m    \u001b[49m\u001b[43maccumulate_grad\u001b[49m\u001b[38;5;241;43m=\u001b[39;49m\u001b[38;5;28;43;01mTrue\u001b[39;49;00m\u001b[43m,\u001b[49m\n\u001b[1;32m    274\u001b[0m \u001b[43m\u001b[49m\u001b[43m)\u001b[49m\n",
      "\u001b[0;31mKeyboardInterrupt\u001b[0m: "
     ]
    }
   ],
   "source": [
    "num_epochs = 10\n",
    "train_loss_per_epoch = []\n",
    "val_loss_per_epoch = []\n",
    "model = model.to(my_device)\n",
    "scheduler = get_linear_schedule_with_warmup(optimizer, num_warmup_steps=1000, num_training_steps=num_epochs*len(final_train_dataloader))\n",
    "\n",
    "for epoch in range(num_epochs):\n",
    "    # -------------------------------------- Training loop --------------------------------------\n",
    "    print(\"------------------------------------------ Training loop ------------------------------------------------\")\n",
    "    epoch_train_loss = 0.0\n",
    "    model.train()  # Set model to training mode\n",
    "\n",
    "    accumulation_steps = 2  # or more\n",
    "    for it, (input_data, target_data) in tqdm(enumerate(final_train_dataloader), total=len(final_train_dataloader),  desc=\"Processing Train items\", ncols=100):\n",
    "        #src = input_data[:, :, 0:2, :] # For 4D input data\n",
    "        src = input_data\n",
    "        tgt = target_data\n",
    "        if src.shape[0] == 1:\n",
    "           src = src.squeeze(0)  # Remove batch dimension\n",
    "           tgt = tgt.squeeze(0)  # Remove batch dimension\n",
    "\n",
    "        src = flat_over_img_caps(src)\n",
    "        model.zero_grad()\n",
    "        #optimizer.zero_grad()\n",
    "        output = model(src.to(my_device), tgt.to(my_device))\n",
    "        last_out_train = output\n",
    "        train_loss = compute_loss(output.contiguous().view(-1,vocabulary_size_target), tgt.squeeze(0).contiguous().view(-1).to(my_device))\n",
    "        train_loss = train_loss/accumulation_steps\n",
    "        train_loss.backward()\n",
    "        if (it+1)%accumulation_steps == 0:\n",
    "            optimizer.step()\n",
    "            scheduler.step()\n",
    "            optimizer.zero_grad()\n",
    "        print(f\"Epoch: {epoch+1}, Iteration [{it+1}/{len(final_train_dataloader)}] --> Train Loss: {train_loss.item()}\")\n",
    "        epoch_train_loss += train_loss.item()\n",
    "        if it%5==0:\n",
    "            torch.cuda.empty_cache()\n",
    "        # if it>=999:\n",
    "        #     break\n",
    "\n",
    "    avg_train_loss = epoch_train_loss/len(final_train_dataloader)\n",
    "    print(f\"Epoch [{epoch + 1}/{num_epochs}], Avg Train Loss: {avg_train_loss:.4f}\")\n",
    "    train_loss_per_epoch.append(avg_train_loss)\n",
    "\n",
    "    # ----------------------------------------- Validation loop -----------------------------------------\n",
    "    print(\"------------------------------------------ Validation loop ------------------------------------------------\")\n",
    "    epoch_val_loss = 0.0\n",
    "    model.eval()  # Set model to evaluation mode\n",
    "    \n",
    "    with torch.no_grad():  # Disable gradient calculation for validation\n",
    "        for it, (input_data, target_data) in tqdm(enumerate(final_val_dataloader),total=len(final_val_dataloader), desc=\"Processing Validation items\", ncols=100):\n",
    "            #src = input_data[:, :, 0:2, :] # For 4D input data\n",
    "            src = input_data\n",
    "            tgt = target_data\n",
    "            if src.shape[0] == 1:\n",
    "                src = src.squeeze(0)  # Remove batch dimension\n",
    "                tgt = tgt.squeeze(0)  # Remove batch dimension\n",
    "\n",
    "            src = flat_over_img_caps(src)\n",
    "            output = model(src.to(my_device), tgt.to(my_device))\n",
    "\n",
    "            val_loss = compute_loss(output.contiguous().view(-1, vocabulary_size_target), tgt.squeeze(0).contiguous().view(-1).to(my_device))\n",
    "            print(f\"Epoch: {epoch+1}, Iteration [{it+1}/{len(final_val_dataloader)}] --> Validation Loss: {val_loss.item()}\")\n",
    "            epoch_val_loss += val_loss.item()\n",
    "            if it%5==0:\n",
    "                torch.cuda.empty_cache()\n",
    "    \n",
    "    avg_val_loss = epoch_val_loss/len(final_val_dataloader)\n",
    "    print(f\"Epoch [{epoch + 1}/{num_epochs}], Avg Val Loss: {avg_val_loss:.4f}\")\n",
    "    val_loss_per_epoch.append(avg_val_loss)\n",
    "    \n",
    "print()\n",
    "print(\"Training finished!\")"
   ]
  },
  {
   "cell_type": "code",
   "execution_count": 27,
   "id": "0adcc2bf-9b87-4f88-824a-018f9731c1a3",
   "metadata": {
    "scrolled": true
   },
   "outputs": [
    {
     "name": "stdout",
     "output_type": "stream",
     "text": [
      "torch.Size([7, 5, 31, 28996])\n",
      "torch.Size([2, 5, 19, 28996])\n"
     ]
    }
   ],
   "source": [
    "print(output.detach().shape)\n",
    "print(last_out_train.detach().shape)"
   ]
  },
  {
   "cell_type": "code",
   "execution_count": 31,
   "id": "c357fe52-ca8e-4fdc-a5be-8c3148b5adda",
   "metadata": {},
   "outputs": [
    {
     "data": {
      "image/png": "[encoded data removed]",
      "text/plain": [
       "<Figure size 640x480 with 1 Axes>"
      ]
     },
     "metadata": {},
     "output_type": "display_data"
    }
   ],
   "source": [
    "plot_losses(train_loss_per_epoch,val_loss_per_epoch)"
   ]
  },
  {
   "cell_type": "code",
   "execution_count": 24,
   "id": "7e3d3ed8-c130-4118-a6c2-01d9a0c466ce",
   "metadata": {},
   "outputs": [
    {
     "name": "stdout",
     "output_type": "stream",
     "text": [
      "Story 1: He got a real kick out of his James Bond themed cake. My date and I went out dancing for his birthday. We also went out to spend some money at the casino. The live band and dancing meant a lot of fun for all. My boyfriend got a bit carried away as usual. unbothered sectioned racing television racing\n",
      "-----------------------------------------------------------------------------------------------------------------------------------------------\n",
      "Story 2: My work space, while small, is very functional. This one is rather oatmeal, I will admit. My cooled are always bath arranged under the cabinet. Everything has it s place and my lack wire Set storage trophy do a great job. Many of my books and skateboard disks are in the wooden bookshelf. those practice meals\n",
      "-----------------------------------------------------------------------------------------------------------------------------------------------\n",
      "Story 3: Some photographers love to catch photos of skaters Gotta out. Grafitti art is a popular backdrop for skate stained. Trying to catch the rollercoaster at his peak wax is a hard skill to master. It s important to have a good camera if you want to take shots that t arrangements. Photographers love to take pictures of skating.\n",
      "-----------------------------------------------------------------------------------------------------------------------------------------------\n",
      "Story 4: The streets started to fill up and it was a magnificent spectacle. They went to see a concert and the bars started to fill up as well. The group of friends were excited for their night out on the town. racing pineapples kiss apartment forest kiss marching when local Sometimes roller meals meals taste find local drills decades meals meals kiss\n",
      "-----------------------------------------------------------------------------------------------------------------------------------------------\n",
      "Story 5: The last band to perform was Penn and they tore the house down. There was some awesome bands performing. Jeremy rocked out at the annual music festival he attended this past spring. The crowd was going crazy during the bands different performances. Jeremy went crowd surfing and it was insane. racing escaped kiss names television television roller meals Sometimes\n",
      "-----------------------------------------------------------------------------------------------------------------------------------------------\n"
     ]
    }
   ],
   "source": [
    "result_stories = model.generate_text(last_out_train.detach(), my_tokenizer)\n",
    "for i, story in enumerate(result_stories):\n",
    "    print(f\"Story {i+1}: {story}\")\n",
    "    print(\"-----------------------------------------------------------------------------------------------------------------------------------------------\")\n"
   ]
  },
  {
   "cell_type": "code",
   "execution_count": 1,
   "id": "e0b8283c-652b-46f4-b7a6-db7e67eab0bc",
   "metadata": {},
   "outputs": [
    {
     "name": "stderr",
     "output_type": "stream",
     "text": [
      "/home/apassadaki/.local/lib/python3.8/site-packages/tqdm/auto.py:21: TqdmWarning: IProgress not found. Please update jupyter and ipywidgets. See https://ipywidgets.readthedocs.io/en/stable/user_install.html\n",
      "  from .autonotebook import tqdm as notebook_tqdm\n"
     ]
    }
   ],
   "source": [
    "from t4 import T4Transformer, T4tokenizer\n",
    "import torch\n",
    "import torch.optim as optim\n",
    "from torch.nn import CrossEntropyLoss\n",
    "from transformers import BertTokenizer"
   ]
  },
  {
   "cell_type": "code",
   "execution_count": 8,
   "id": "516f77b1-6f3d-4f84-bde2-4594cc92e53e",
   "metadata": {},
   "outputs": [
    {
     "name": "stdout",
     "output_type": "stream",
     "text": [
      "30522 30522\n",
      "DEVICE USED:  cuda:0\n",
      "Okay with loading the model\n"
     ]
    }
   ],
   "source": [
    "tokenizer = BertTokenizer.from_pretrained('bert-base-uncased')\n",
    "vocabulary_size_input = len(tokenizer.vocab) # BERT's vocabulary size\n",
    "vocabulary_size_target = len(tokenizer.vocab) # BERT's vocabulary size\n",
    "print(vocabulary_size_input, vocabulary_size_target)\n",
    "embedding_dim = 512 \n",
    "number_layers = 6\n",
    "number_heads = 8\n",
    "feed_forward_dim = 2048\n",
    "my_device = torch.device('cuda:0')\n",
    "print(\"DEVICE USED: \", my_device)\n",
    "model = T4Transformer(vocab_size_input=vocabulary_size_input, vocab_size_target=vocabulary_size_target, d_model=embedding_dim, num_layers=number_layers, \n",
    "                        num_heads=number_heads, d_ff=feed_forward_dim, dropout=0.1, pad_token=0, device=my_device, name=None)\n",
    "\n",
    "model.load_state_dict(torch.load(f'/data/admitosstorage/Phase_2/trained_models/auto/t4_combined_e2_i5314.pt'))#, map_location=my_device))\n",
    "model.eval()\n",
    "#model = model.to(my_device)\n",
    "print(\"Okay with loading the model\")"
   ]
  },
  {
   "cell_type": "code",
   "execution_count": 9,
   "id": "fd57bb16-acf3-469c-9307-6c1ea7c24798",
   "metadata": {},
   "outputs": [
    {
     "name": "stdout",
     "output_type": "stream",
     "text": [
      "you can't get to the lake from here but it is a great view [SEP] A field that is near the waters of the beach. [SEP] A tree in the forest has fallen over on the grass. [SEP] A large group of deciduous trees are behind a grassy field. [SEP] People walking down a hill with a bunch of animals on it.\n",
      "\n",
      "It is right on the lake. This is our new property.  Here is the spot we are building our forever home. Life is good. It has a forest area. It also has a place for our cattle.\n",
      "\n",
      "torch.Size([1, 70])\n",
      "torch.Size([1, 45])\n"
     ]
    }
   ],
   "source": [
    "new_entry = ([\"you can't get to the lake from here but it is a great view\",\n",
    "   'A field that is near the waters of the beach.',\n",
    "   'A tree in the forest has fallen over on the grass.',\n",
    "   'A large group of deciduous trees are behind a grassy field.',\n",
    "   'People walking down a hill with a bunch of animals on it.'],\n",
    "  'It is right on the lake. This is our new property.  Here is the spot we are building our forever home. Life is good. It has a forest area. It also has a place for our cattle.')\n",
    "\n",
    "new_captions = new_entry[0]\n",
    "new_story = new_entry[1]\n",
    "input_text = ' [SEP] '.join(new_captions)\n",
    "print(input_text)\n",
    "print()\n",
    "print(new_story)\n",
    "caption_ids = tokenizer(input_text, return_tensors=\"pt\").input_ids\n",
    "target_ids = tokenizer(new_story, return_tensors=\"pt\").input_ids\n",
    "caption_ids = caption_ids.to(my_device)\n",
    "print()\n",
    "print(caption_ids.shape)\n",
    "print(target_ids.shape)"
   ]
  },
  {
   "cell_type": "code",
   "execution_count": 10,
   "id": "01013cd8-a19c-4264-a352-cdfb04f3eec2",
   "metadata": {
    "scrolled": true
   },
   "outputs": [
    {
     "name": "stdout",
     "output_type": "stream",
     "text": [
      "tensor([[101]])\n",
      "torch.Size([1, 1, 30522])\n",
      "tensor([[101]], device='cuda:1')\n",
      "gen step: 0 --> tensor([[101, 101]], device='cuda:1')\n",
      "tensor([[101, 101]], device='cuda:1')\n",
      "torch.Size([1, 2, 30522])\n",
      "tensor([[1996]], device='cuda:1')\n",
      "gen step: 1 --> tensor([[ 101,  101, 1996]], device='cuda:1')\n",
      "tensor([[ 101,  101, 1996]], device='cuda:1')\n",
      "torch.Size([1, 3, 30522])\n",
      "tensor([[1996]], device='cuda:1')\n",
      "gen step: 2 --> tensor([[ 101,  101, 1996, 1996]], device='cuda:1')\n",
      "tensor([[ 101,  101, 1996, 1996]], device='cuda:1')\n",
      "torch.Size([1, 4, 30522])\n",
      "tensor([[1996]], device='cuda:1')\n",
      "gen step: 3 --> tensor([[ 101,  101, 1996, 1996, 1996]], device='cuda:1')\n",
      "tensor([[ 101,  101, 1996, 1996, 1996]], device='cuda:1')\n",
      "torch.Size([1, 5, 30522])\n",
      "tensor([[1996]], device='cuda:1')\n",
      "gen step: 4 --> tensor([[ 101,  101, 1996, 1996, 1996, 1996]], device='cuda:1')\n",
      "tensor([[ 101,  101, 1996, 1996, 1996, 1996]], device='cuda:1')\n",
      "torch.Size([1, 6, 30522])\n",
      "tensor([[1996]], device='cuda:1')\n",
      "gen step: 5 --> tensor([[ 101,  101, 1996, 1996, 1996, 1996, 1996]], device='cuda:1')\n",
      "tensor([[ 101,  101, 1996, 1996, 1996, 1996, 1996]], device='cuda:1')\n",
      "torch.Size([1, 7, 30522])\n",
      "tensor([[1996]], device='cuda:1')\n",
      "gen step: 6 --> tensor([[ 101,  101, 1996, 1996, 1996, 1996, 1996, 1996]], device='cuda:1')\n",
      "tensor([[ 101,  101, 1996, 1996, 1996, 1996, 1996, 1996]], device='cuda:1')\n",
      "torch.Size([1, 8, 30522])\n",
      "tensor([[1996]], device='cuda:1')\n",
      "gen step: 7 --> tensor([[ 101,  101, 1996, 1996, 1996, 1996, 1996, 1996, 1996]],\n",
      "       device='cuda:1')\n",
      "tensor([[ 101,  101, 1996, 1996, 1996, 1996, 1996, 1996, 1996]],\n",
      "       device='cuda:1')\n",
      "torch.Size([1, 9, 30522])\n",
      "tensor([[1996]], device='cuda:1')\n",
      "gen step: 8 --> tensor([[ 101,  101, 1996, 1996, 1996, 1996, 1996, 1996, 1996, 1996]],\n",
      "       device='cuda:1')\n",
      "tensor([[ 101,  101, 1996, 1996, 1996, 1996, 1996, 1996, 1996, 1996]],\n",
      "       device='cuda:1')\n",
      "torch.Size([1, 10, 30522])\n",
      "tensor([[1012]], device='cuda:1')\n",
      "gen step: 9 --> tensor([[ 101,  101, 1996, 1996, 1996, 1996, 1996, 1996, 1996, 1996, 1012]],\n",
      "       device='cuda:1')\n",
      "tensor([[ 101,  101, 1996, 1996, 1996, 1996, 1996, 1996, 1996, 1996, 1012]],\n",
      "       device='cuda:1')\n",
      "torch.Size([1, 11, 30522])\n",
      "tensor([[1996]], device='cuda:1')\n",
      "gen step: 10 --> tensor([[ 101,  101, 1996, 1996, 1996, 1996, 1996, 1996, 1996, 1996, 1012, 1996]],\n",
      "       device='cuda:1')\n",
      "tensor([[ 101,  101, 1996, 1996, 1996, 1996, 1996, 1996, 1996, 1996, 1012, 1996]],\n",
      "       device='cuda:1')\n",
      "torch.Size([1, 12, 30522])\n",
      "tensor([[1996]], device='cuda:1')\n",
      "gen step: 11 --> tensor([[ 101,  101, 1996, 1996, 1996, 1996, 1996, 1996, 1996, 1996, 1012, 1996,\n",
      "         1996]], device='cuda:1')\n",
      "tensor([[ 101,  101, 1996, 1996, 1996, 1996, 1996, 1996, 1996, 1996, 1012, 1996,\n",
      "         1996]], device='cuda:1')\n",
      "torch.Size([1, 13, 30522])\n",
      "tensor([[1996]], device='cuda:1')\n",
      "gen step: 12 --> tensor([[ 101,  101, 1996, 1996, 1996, 1996, 1996, 1996, 1996, 1996, 1012, 1996,\n",
      "         1996, 1996]], device='cuda:1')\n",
      "tensor([[ 101,  101, 1996, 1996, 1996, 1996, 1996, 1996, 1996, 1996, 1012, 1996,\n",
      "         1996, 1996]], device='cuda:1')\n",
      "torch.Size([1, 14, 30522])\n",
      "tensor([[1996]], device='cuda:1')\n",
      "gen step: 13 --> tensor([[ 101,  101, 1996, 1996, 1996, 1996, 1996, 1996, 1996, 1996, 1012, 1996,\n",
      "         1996, 1996, 1996]], device='cuda:1')\n",
      "tensor([[ 101,  101, 1996, 1996, 1996, 1996, 1996, 1996, 1996, 1996, 1012, 1996,\n",
      "         1996, 1996, 1996]], device='cuda:1')\n",
      "torch.Size([1, 15, 30522])\n",
      "tensor([[1996]], device='cuda:1')\n",
      "gen step: 14 --> tensor([[ 101,  101, 1996, 1996, 1996, 1996, 1996, 1996, 1996, 1996, 1012, 1996,\n",
      "         1996, 1996, 1996, 1996]], device='cuda:1')\n",
      "tensor([[ 101,  101, 1996, 1996, 1996, 1996, 1996, 1996, 1996, 1996, 1012, 1996,\n",
      "         1996, 1996, 1996, 1996]], device='cuda:1')\n",
      "torch.Size([1, 16, 30522])\n",
      "tensor([[1996]], device='cuda:1')\n",
      "gen step: 15 --> tensor([[ 101,  101, 1996, 1996, 1996, 1996, 1996, 1996, 1996, 1996, 1012, 1996,\n",
      "         1996, 1996, 1996, 1996, 1996]], device='cuda:1')\n",
      "tensor([[ 101,  101, 1996, 1996, 1996, 1996, 1996, 1996, 1996, 1996, 1012, 1996,\n",
      "         1996, 1996, 1996, 1996, 1996]], device='cuda:1')\n",
      "torch.Size([1, 17, 30522])\n",
      "tensor([[1996]], device='cuda:1')\n",
      "gen step: 16 --> tensor([[ 101,  101, 1996, 1996, 1996, 1996, 1996, 1996, 1996, 1996, 1012, 1996,\n",
      "         1996, 1996, 1996, 1996, 1996, 1996]], device='cuda:1')\n",
      "tensor([[ 101,  101, 1996, 1996, 1996, 1996, 1996, 1996, 1996, 1996, 1012, 1996,\n",
      "         1996, 1996, 1996, 1996, 1996, 1996]], device='cuda:1')\n",
      "torch.Size([1, 18, 30522])\n",
      "tensor([[1996]], device='cuda:1')\n",
      "gen step: 17 --> tensor([[ 101,  101, 1996, 1996, 1996, 1996, 1996, 1996, 1996, 1996, 1012, 1996,\n",
      "         1996, 1996, 1996, 1996, 1996, 1996, 1996]], device='cuda:1')\n",
      "tensor([[ 101,  101, 1996, 1996, 1996, 1996, 1996, 1996, 1996, 1996, 1012, 1996,\n",
      "         1996, 1996, 1996, 1996, 1996, 1996, 1996]], device='cuda:1')\n",
      "torch.Size([1, 19, 30522])\n",
      "tensor([[1012]], device='cuda:1')\n",
      "gen step: 18 --> tensor([[ 101,  101, 1996, 1996, 1996, 1996, 1996, 1996, 1996, 1996, 1012, 1996,\n",
      "         1996, 1996, 1996, 1996, 1996, 1996, 1996, 1012]], device='cuda:1')\n",
      "tensor([[ 101,  101, 1996, 1996, 1996, 1996, 1996, 1996, 1996, 1996, 1012, 1996,\n",
      "         1996, 1996, 1996, 1996, 1996, 1996, 1996, 1012]], device='cuda:1')\n",
      "torch.Size([1, 20, 30522])\n",
      "tensor([[1996]], device='cuda:1')\n",
      "gen step: 19 --> tensor([[ 101,  101, 1996, 1996, 1996, 1996, 1996, 1996, 1996, 1996, 1012, 1996,\n",
      "         1996, 1996, 1996, 1996, 1996, 1996, 1996, 1012, 1996]],\n",
      "       device='cuda:1')\n",
      "tensor([[ 101,  101, 1996, 1996, 1996, 1996, 1996, 1996, 1996, 1996, 1012, 1996,\n",
      "         1996, 1996, 1996, 1996, 1996, 1996, 1996, 1012, 1996]],\n",
      "       device='cuda:1')\n",
      "torch.Size([1, 21, 30522])\n",
      "tensor([[1996]], device='cuda:1')\n",
      "gen step: 20 --> tensor([[ 101,  101, 1996, 1996, 1996, 1996, 1996, 1996, 1996, 1996, 1012, 1996,\n",
      "         1996, 1996, 1996, 1996, 1996, 1996, 1996, 1012, 1996, 1996]],\n",
      "       device='cuda:1')\n",
      "tensor([[ 101,  101, 1996, 1996, 1996, 1996, 1996, 1996, 1996, 1996, 1012, 1996,\n",
      "         1996, 1996, 1996, 1996, 1996, 1996, 1996, 1012, 1996, 1996]],\n",
      "       device='cuda:1')\n",
      "torch.Size([1, 22, 30522])\n",
      "tensor([[1996]], device='cuda:1')\n",
      "gen step: 21 --> tensor([[ 101,  101, 1996, 1996, 1996, 1996, 1996, 1996, 1996, 1996, 1012, 1996,\n",
      "         1996, 1996, 1996, 1996, 1996, 1996, 1996, 1012, 1996, 1996, 1996]],\n",
      "       device='cuda:1')\n",
      "tensor([[ 101,  101, 1996, 1996, 1996, 1996, 1996, 1996, 1996, 1996, 1012, 1996,\n",
      "         1996, 1996, 1996, 1996, 1996, 1996, 1996, 1012, 1996, 1996, 1996]],\n",
      "       device='cuda:1')\n",
      "torch.Size([1, 23, 30522])\n",
      "tensor([[1996]], device='cuda:1')\n",
      "gen step: 22 --> tensor([[ 101,  101, 1996, 1996, 1996, 1996, 1996, 1996, 1996, 1996, 1012, 1996,\n",
      "         1996, 1996, 1996, 1996, 1996, 1996, 1996, 1012, 1996, 1996, 1996, 1996]],\n",
      "       device='cuda:1')\n",
      "tensor([[ 101,  101, 1996, 1996, 1996, 1996, 1996, 1996, 1996, 1996, 1012, 1996,\n",
      "         1996, 1996, 1996, 1996, 1996, 1996, 1996, 1012, 1996, 1996, 1996, 1996]],\n",
      "       device='cuda:1')\n",
      "torch.Size([1, 24, 30522])\n",
      "tensor([[1996]], device='cuda:1')\n",
      "gen step: 23 --> tensor([[ 101,  101, 1996, 1996, 1996, 1996, 1996, 1996, 1996, 1996, 1012, 1996,\n",
      "         1996, 1996, 1996, 1996, 1996, 1996, 1996, 1012, 1996, 1996, 1996, 1996,\n",
      "         1996]], device='cuda:1')\n",
      "tensor([[ 101,  101, 1996, 1996, 1996, 1996, 1996, 1996, 1996, 1996, 1012, 1996,\n",
      "         1996, 1996, 1996, 1996, 1996, 1996, 1996, 1012, 1996, 1996, 1996, 1996,\n",
      "         1996]], device='cuda:1')\n",
      "torch.Size([1, 25, 30522])\n",
      "tensor([[1996]], device='cuda:1')\n",
      "gen step: 24 --> tensor([[ 101,  101, 1996, 1996, 1996, 1996, 1996, 1996, 1996, 1996, 1012, 1996,\n",
      "         1996, 1996, 1996, 1996, 1996, 1996, 1996, 1012, 1996, 1996, 1996, 1996,\n",
      "         1996, 1996]], device='cuda:1')\n",
      "tensor([[ 101,  101, 1996, 1996, 1996, 1996, 1996, 1996, 1996, 1996, 1012, 1996,\n",
      "         1996, 1996, 1996, 1996, 1996, 1996, 1996, 1012, 1996, 1996, 1996, 1996,\n",
      "         1996, 1996]], device='cuda:1')\n",
      "torch.Size([1, 26, 30522])\n",
      "tensor([[1012]], device='cuda:1')\n",
      "gen step: 25 --> tensor([[ 101,  101, 1996, 1996, 1996, 1996, 1996, 1996, 1996, 1996, 1012, 1996,\n",
      "         1996, 1996, 1996, 1996, 1996, 1996, 1996, 1012, 1996, 1996, 1996, 1996,\n",
      "         1996, 1996, 1012]], device='cuda:1')\n",
      "tensor([[ 101,  101, 1996, 1996, 1996, 1996, 1996, 1996, 1996, 1996, 1012, 1996,\n",
      "         1996, 1996, 1996, 1996, 1996, 1996, 1996, 1012, 1996, 1996, 1996, 1996,\n",
      "         1996, 1996, 1012]], device='cuda:1')\n",
      "torch.Size([1, 27, 30522])\n",
      "tensor([[1996]], device='cuda:1')\n",
      "gen step: 26 --> tensor([[ 101,  101, 1996, 1996, 1996, 1996, 1996, 1996, 1996, 1996, 1012, 1996,\n",
      "         1996, 1996, 1996, 1996, 1996, 1996, 1996, 1012, 1996, 1996, 1996, 1996,\n",
      "         1996, 1996, 1012, 1996]], device='cuda:1')\n",
      "tensor([[ 101,  101, 1996, 1996, 1996, 1996, 1996, 1996, 1996, 1996, 1012, 1996,\n",
      "         1996, 1996, 1996, 1996, 1996, 1996, 1996, 1012, 1996, 1996, 1996, 1996,\n",
      "         1996, 1996, 1012, 1996]], device='cuda:1')\n",
      "torch.Size([1, 28, 30522])\n",
      "tensor([[1996]], device='cuda:1')\n",
      "gen step: 27 --> tensor([[ 101,  101, 1996, 1996, 1996, 1996, 1996, 1996, 1996, 1996, 1012, 1996,\n",
      "         1996, 1996, 1996, 1996, 1996, 1996, 1996, 1012, 1996, 1996, 1996, 1996,\n",
      "         1996, 1996, 1012, 1996, 1996]], device='cuda:1')\n",
      "tensor([[ 101,  101, 1996, 1996, 1996, 1996, 1996, 1996, 1996, 1996, 1012, 1996,\n",
      "         1996, 1996, 1996, 1996, 1996, 1996, 1996, 1012, 1996, 1996, 1996, 1996,\n",
      "         1996, 1996, 1012, 1996, 1996]], device='cuda:1')\n",
      "torch.Size([1, 29, 30522])\n",
      "tensor([[1996]], device='cuda:1')\n",
      "gen step: 28 --> tensor([[ 101,  101, 1996, 1996, 1996, 1996, 1996, 1996, 1996, 1996, 1012, 1996,\n",
      "         1996, 1996, 1996, 1996, 1996, 1996, 1996, 1012, 1996, 1996, 1996, 1996,\n",
      "         1996, 1996, 1012, 1996, 1996, 1996]], device='cuda:1')\n",
      "tensor([[ 101,  101, 1996, 1996, 1996, 1996, 1996, 1996, 1996, 1996, 1012, 1996,\n",
      "         1996, 1996, 1996, 1996, 1996, 1996, 1996, 1012, 1996, 1996, 1996, 1996,\n",
      "         1996, 1996, 1012, 1996, 1996, 1996]], device='cuda:1')\n",
      "torch.Size([1, 30, 30522])\n",
      "tensor([[1996]], device='cuda:1')\n",
      "gen step: 29 --> tensor([[ 101,  101, 1996, 1996, 1996, 1996, 1996, 1996, 1996, 1996, 1012, 1996,\n",
      "         1996, 1996, 1996, 1996, 1996, 1996, 1996, 1012, 1996, 1996, 1996, 1996,\n",
      "         1996, 1996, 1012, 1996, 1996, 1996, 1996]], device='cuda:1')\n",
      "tensor([[ 101,  101, 1996, 1996, 1996, 1996, 1996, 1996, 1996, 1996, 1012, 1996,\n",
      "         1996, 1996, 1996, 1996, 1996, 1996, 1996, 1012, 1996, 1996, 1996, 1996,\n",
      "         1996, 1996, 1012, 1996, 1996, 1996, 1996]], device='cuda:1')\n",
      "torch.Size([1, 31, 30522])\n",
      "tensor([[1996]], device='cuda:1')\n",
      "gen step: 30 --> tensor([[ 101,  101, 1996, 1996, 1996, 1996, 1996, 1996, 1996, 1996, 1012, 1996,\n",
      "         1996, 1996, 1996, 1996, 1996, 1996, 1996, 1012, 1996, 1996, 1996, 1996,\n",
      "         1996, 1996, 1012, 1996, 1996, 1996, 1996, 1996]], device='cuda:1')\n",
      "tensor([[ 101,  101, 1996, 1996, 1996, 1996, 1996, 1996, 1996, 1996, 1012, 1996,\n",
      "         1996, 1996, 1996, 1996, 1996, 1996, 1996, 1012, 1996, 1996, 1996, 1996,\n",
      "         1996, 1996, 1012, 1996, 1996, 1996, 1996, 1996]], device='cuda:1')\n",
      "torch.Size([1, 32, 30522])\n",
      "tensor([[1996]], device='cuda:1')\n",
      "gen step: 31 --> tensor([[ 101,  101, 1996, 1996, 1996, 1996, 1996, 1996, 1996, 1996, 1012, 1996,\n",
      "         1996, 1996, 1996, 1996, 1996, 1996, 1996, 1012, 1996, 1996, 1996, 1996,\n",
      "         1996, 1996, 1012, 1996, 1996, 1996, 1996, 1996, 1996]],\n",
      "       device='cuda:1')\n",
      "tensor([[ 101,  101, 1996, 1996, 1996, 1996, 1996, 1996, 1996, 1996, 1012, 1996,\n",
      "         1996, 1996, 1996, 1996, 1996, 1996, 1996, 1012, 1996, 1996, 1996, 1996,\n",
      "         1996, 1996, 1012, 1996, 1996, 1996, 1996, 1996, 1996]],\n",
      "       device='cuda:1')\n",
      "torch.Size([1, 33, 30522])\n",
      "tensor([[1012]], device='cuda:1')\n",
      "gen step: 32 --> tensor([[ 101,  101, 1996, 1996, 1996, 1996, 1996, 1996, 1996, 1996, 1012, 1996,\n",
      "         1996, 1996, 1996, 1996, 1996, 1996, 1996, 1012, 1996, 1996, 1996, 1996,\n",
      "         1996, 1996, 1012, 1996, 1996, 1996, 1996, 1996, 1996, 1012]],\n",
      "       device='cuda:1')\n",
      "tensor([[ 101,  101, 1996, 1996, 1996, 1996, 1996, 1996, 1996, 1996, 1012, 1996,\n",
      "         1996, 1996, 1996, 1996, 1996, 1996, 1996, 1012, 1996, 1996, 1996, 1996,\n",
      "         1996, 1996, 1012, 1996, 1996, 1996, 1996, 1996, 1996, 1012]],\n",
      "       device='cuda:1')\n",
      "torch.Size([1, 34, 30522])\n",
      "tensor([[1996]], device='cuda:1')\n",
      "gen step: 33 --> tensor([[ 101,  101, 1996, 1996, 1996, 1996, 1996, 1996, 1996, 1996, 1012, 1996,\n",
      "         1996, 1996, 1996, 1996, 1996, 1996, 1996, 1012, 1996, 1996, 1996, 1996,\n",
      "         1996, 1996, 1012, 1996, 1996, 1996, 1996, 1996, 1996, 1012, 1996]],\n",
      "       device='cuda:1')\n",
      "tensor([[ 101,  101, 1996, 1996, 1996, 1996, 1996, 1996, 1996, 1996, 1012, 1996,\n",
      "         1996, 1996, 1996, 1996, 1996, 1996, 1996, 1012, 1996, 1996, 1996, 1996,\n",
      "         1996, 1996, 1012, 1996, 1996, 1996, 1996, 1996, 1996, 1012, 1996]],\n",
      "       device='cuda:1')\n",
      "torch.Size([1, 35, 30522])\n",
      "tensor([[1996]], device='cuda:1')\n",
      "gen step: 34 --> tensor([[ 101,  101, 1996, 1996, 1996, 1996, 1996, 1996, 1996, 1996, 1012, 1996,\n",
      "         1996, 1996, 1996, 1996, 1996, 1996, 1996, 1012, 1996, 1996, 1996, 1996,\n",
      "         1996, 1996, 1012, 1996, 1996, 1996, 1996, 1996, 1996, 1012, 1996, 1996]],\n",
      "       device='cuda:1')\n",
      "tensor([[ 101,  101, 1996, 1996, 1996, 1996, 1996, 1996, 1996, 1996, 1012, 1996,\n",
      "         1996, 1996, 1996, 1996, 1996, 1996, 1996, 1012, 1996, 1996, 1996, 1996,\n",
      "         1996, 1996, 1012, 1996, 1996, 1996, 1996, 1996, 1996, 1012, 1996, 1996]],\n",
      "       device='cuda:1')\n",
      "torch.Size([1, 36, 30522])\n",
      "tensor([[1996]], device='cuda:1')\n",
      "gen step: 35 --> tensor([[ 101,  101, 1996, 1996, 1996, 1996, 1996, 1996, 1996, 1996, 1012, 1996,\n",
      "         1996, 1996, 1996, 1996, 1996, 1996, 1996, 1012, 1996, 1996, 1996, 1996,\n",
      "         1996, 1996, 1012, 1996, 1996, 1996, 1996, 1996, 1996, 1012, 1996, 1996,\n",
      "         1996]], device='cuda:1')\n",
      "tensor([[ 101,  101, 1996, 1996, 1996, 1996, 1996, 1996, 1996, 1996, 1012, 1996,\n",
      "         1996, 1996, 1996, 1996, 1996, 1996, 1996, 1012, 1996, 1996, 1996, 1996,\n",
      "         1996, 1996, 1012, 1996, 1996, 1996, 1996, 1996, 1996, 1012, 1996, 1996,\n",
      "         1996]], device='cuda:1')\n",
      "torch.Size([1, 37, 30522])\n",
      "tensor([[1996]], device='cuda:1')\n",
      "gen step: 36 --> tensor([[ 101,  101, 1996, 1996, 1996, 1996, 1996, 1996, 1996, 1996, 1012, 1996,\n",
      "         1996, 1996, 1996, 1996, 1996, 1996, 1996, 1012, 1996, 1996, 1996, 1996,\n",
      "         1996, 1996, 1012, 1996, 1996, 1996, 1996, 1996, 1996, 1012, 1996, 1996,\n",
      "         1996, 1996]], device='cuda:1')\n",
      "tensor([[ 101,  101, 1996, 1996, 1996, 1996, 1996, 1996, 1996, 1996, 1012, 1996,\n",
      "         1996, 1996, 1996, 1996, 1996, 1996, 1996, 1012, 1996, 1996, 1996, 1996,\n",
      "         1996, 1996, 1012, 1996, 1996, 1996, 1996, 1996, 1996, 1012, 1996, 1996,\n",
      "         1996, 1996]], device='cuda:1')\n",
      "torch.Size([1, 38, 30522])\n",
      "tensor([[1996]], device='cuda:1')\n",
      "gen step: 37 --> tensor([[ 101,  101, 1996, 1996, 1996, 1996, 1996, 1996, 1996, 1996, 1012, 1996,\n",
      "         1996, 1996, 1996, 1996, 1996, 1996, 1996, 1012, 1996, 1996, 1996, 1996,\n",
      "         1996, 1996, 1012, 1996, 1996, 1996, 1996, 1996, 1996, 1012, 1996, 1996,\n",
      "         1996, 1996, 1996]], device='cuda:1')\n",
      "tensor([[ 101,  101, 1996, 1996, 1996, 1996, 1996, 1996, 1996, 1996, 1012, 1996,\n",
      "         1996, 1996, 1996, 1996, 1996, 1996, 1996, 1012, 1996, 1996, 1996, 1996,\n",
      "         1996, 1996, 1012, 1996, 1996, 1996, 1996, 1996, 1996, 1012, 1996, 1996,\n",
      "         1996, 1996, 1996]], device='cuda:1')\n",
      "torch.Size([1, 39, 30522])\n",
      "tensor([[1996]], device='cuda:1')\n",
      "gen step: 38 --> tensor([[ 101,  101, 1996, 1996, 1996, 1996, 1996, 1996, 1996, 1996, 1012, 1996,\n",
      "         1996, 1996, 1996, 1996, 1996, 1996, 1996, 1012, 1996, 1996, 1996, 1996,\n",
      "         1996, 1996, 1012, 1996, 1996, 1996, 1996, 1996, 1996, 1012, 1996, 1996,\n",
      "         1996, 1996, 1996, 1996]], device='cuda:1')\n",
      "tensor([[ 101,  101, 1996, 1996, 1996, 1996, 1996, 1996, 1996, 1996, 1012, 1996,\n",
      "         1996, 1996, 1996, 1996, 1996, 1996, 1996, 1012, 1996, 1996, 1996, 1996,\n",
      "         1996, 1996, 1012, 1996, 1996, 1996, 1996, 1996, 1996, 1012, 1996, 1996,\n",
      "         1996, 1996, 1996, 1996]], device='cuda:1')\n",
      "torch.Size([1, 40, 30522])\n",
      "tensor([[1996]], device='cuda:1')\n",
      "gen step: 39 --> tensor([[ 101,  101, 1996, 1996, 1996, 1996, 1996, 1996, 1996, 1996, 1012, 1996,\n",
      "         1996, 1996, 1996, 1996, 1996, 1996, 1996, 1012, 1996, 1996, 1996, 1996,\n",
      "         1996, 1996, 1012, 1996, 1996, 1996, 1996, 1996, 1996, 1012, 1996, 1996,\n",
      "         1996, 1996, 1996, 1996, 1996]], device='cuda:1')\n",
      "tensor([[ 101,  101, 1996, 1996, 1996, 1996, 1996, 1996, 1996, 1996, 1012, 1996,\n",
      "         1996, 1996, 1996, 1996, 1996, 1996, 1996, 1012, 1996, 1996, 1996, 1996,\n",
      "         1996, 1996, 1012, 1996, 1996, 1996, 1996, 1996, 1996, 1012, 1996, 1996,\n",
      "         1996, 1996, 1996, 1996, 1996]], device='cuda:1')\n",
      "torch.Size([1, 41, 30522])\n",
      "tensor([[1996]], device='cuda:1')\n",
      "gen step: 40 --> tensor([[ 101,  101, 1996, 1996, 1996, 1996, 1996, 1996, 1996, 1996, 1012, 1996,\n",
      "         1996, 1996, 1996, 1996, 1996, 1996, 1996, 1012, 1996, 1996, 1996, 1996,\n",
      "         1996, 1996, 1012, 1996, 1996, 1996, 1996, 1996, 1996, 1012, 1996, 1996,\n",
      "         1996, 1996, 1996, 1996, 1996, 1996]], device='cuda:1')\n",
      "tensor([[ 101,  101, 1996, 1996, 1996, 1996, 1996, 1996, 1996, 1996, 1012, 1996,\n",
      "         1996, 1996, 1996, 1996, 1996, 1996, 1996, 1012, 1996, 1996, 1996, 1996,\n",
      "         1996, 1996, 1012, 1996, 1996, 1996, 1996, 1996, 1996, 1012, 1996, 1996,\n",
      "         1996, 1996, 1996, 1996, 1996, 1996]], device='cuda:1')\n",
      "torch.Size([1, 42, 30522])\n",
      "tensor([[1012]], device='cuda:1')\n",
      "gen step: 41 --> tensor([[ 101,  101, 1996, 1996, 1996, 1996, 1996, 1996, 1996, 1996, 1012, 1996,\n",
      "         1996, 1996, 1996, 1996, 1996, 1996, 1996, 1012, 1996, 1996, 1996, 1996,\n",
      "         1996, 1996, 1012, 1996, 1996, 1996, 1996, 1996, 1996, 1012, 1996, 1996,\n",
      "         1996, 1996, 1996, 1996, 1996, 1996, 1012]], device='cuda:1')\n",
      "tensor([[ 101,  101, 1996, 1996, 1996, 1996, 1996, 1996, 1996, 1996, 1012, 1996,\n",
      "         1996, 1996, 1996, 1996, 1996, 1996, 1996, 1012, 1996, 1996, 1996, 1996,\n",
      "         1996, 1996, 1012, 1996, 1996, 1996, 1996, 1996, 1996, 1012, 1996, 1996,\n",
      "         1996, 1996, 1996, 1996, 1996, 1996, 1012]], device='cuda:1')\n",
      "torch.Size([1, 43, 30522])\n",
      "tensor([[1996]], device='cuda:1')\n",
      "gen step: 42 --> tensor([[ 101,  101, 1996, 1996, 1996, 1996, 1996, 1996, 1996, 1996, 1012, 1996,\n",
      "         1996, 1996, 1996, 1996, 1996, 1996, 1996, 1012, 1996, 1996, 1996, 1996,\n",
      "         1996, 1996, 1012, 1996, 1996, 1996, 1996, 1996, 1996, 1012, 1996, 1996,\n",
      "         1996, 1996, 1996, 1996, 1996, 1996, 1012, 1996]], device='cuda:1')\n",
      "tensor([[ 101,  101, 1996, 1996, 1996, 1996, 1996, 1996, 1996, 1996, 1012, 1996,\n",
      "         1996, 1996, 1996, 1996, 1996, 1996, 1996, 1012, 1996, 1996, 1996, 1996,\n",
      "         1996, 1996, 1012, 1996, 1996, 1996, 1996, 1996, 1996, 1012, 1996, 1996,\n",
      "         1996, 1996, 1996, 1996, 1996, 1996, 1012, 1996]], device='cuda:1')\n",
      "torch.Size([1, 44, 30522])\n",
      "tensor([[1996]], device='cuda:1')\n",
      "gen step: 43 --> tensor([[ 101,  101, 1996, 1996, 1996, 1996, 1996, 1996, 1996, 1996, 1012, 1996,\n",
      "         1996, 1996, 1996, 1996, 1996, 1996, 1996, 1012, 1996, 1996, 1996, 1996,\n",
      "         1996, 1996, 1012, 1996, 1996, 1996, 1996, 1996, 1996, 1012, 1996, 1996,\n",
      "         1996, 1996, 1996, 1996, 1996, 1996, 1012, 1996, 1996]],\n",
      "       device='cuda:1')\n",
      "tensor([[ 101,  101, 1996, 1996, 1996, 1996, 1996, 1996, 1996, 1996, 1012, 1996,\n",
      "         1996, 1996, 1996, 1996, 1996, 1996, 1996, 1012, 1996, 1996, 1996, 1996,\n",
      "         1996, 1996, 1012, 1996, 1996, 1996, 1996, 1996, 1996, 1012, 1996, 1996,\n",
      "         1996, 1996, 1996, 1996, 1996, 1996, 1012, 1996, 1996]],\n",
      "       device='cuda:1')\n",
      "torch.Size([1, 45, 30522])\n",
      "tensor([[1996]], device='cuda:1')\n",
      "gen step: 44 --> tensor([[ 101,  101, 1996, 1996, 1996, 1996, 1996, 1996, 1996, 1996, 1012, 1996,\n",
      "         1996, 1996, 1996, 1996, 1996, 1996, 1996, 1012, 1996, 1996, 1996, 1996,\n",
      "         1996, 1996, 1012, 1996, 1996, 1996, 1996, 1996, 1996, 1012, 1996, 1996,\n",
      "         1996, 1996, 1996, 1996, 1996, 1996, 1012, 1996, 1996, 1996]],\n",
      "       device='cuda:1')\n",
      "tensor([[ 101, 1996, 1996, 1996, 1996, 1996, 1996, 1996, 1996, 1012, 1996, 1996,\n",
      "         1996, 1996, 1996, 1996, 1996, 1996, 1012, 1996, 1996, 1996, 1996, 1996,\n",
      "         1996, 1012, 1996, 1996, 1996, 1996, 1996, 1996, 1012, 1996, 1996, 1996,\n",
      "         1996, 1996, 1996, 1996, 1996, 1012, 1996, 1996, 1996]],\n",
      "       device='cuda:1')\n",
      "the the the the the the the the. the the the the the the the the. the the the the the the. the the the the the the. the the the the the the the the. the the the\n"
     ]
    }
   ],
   "source": [
    "# Generate narrative story\n",
    "with torch.no_grad():\n",
    "    generated_ids = model.generate(caption_ids, target_ids, tokenizer)\n",
    "    print(generated_ids)\n",
    "story = tokenizer.decode(generated_ids[0], skip_special_tokens=True)\n",
    "print(story)"
   ]
  },
  {
   "cell_type": "code",
   "execution_count": 1,
   "id": "4519abcc-193d-4c54-b063-428e93f2bdae",
   "metadata": {},
   "outputs": [
    {
     "data": {
      "image/png": "[encoded data removed]",
      "text/plain": [
       "<Figure size 1000x600 with 1 Axes>"
      ]
     },
     "metadata": {},
     "output_type": "display_data"
    }
   ],
   "source": [
    "import matplotlib.pyplot as plt\n",
    "import numpy as np\n",
    "\n",
    "# Data\n",
    "my_dict = {\n",
    "    \"B-1\": [16.5, 19.67, 22.1],\n",
    "    \"B-2\": [5.31, 7.99, 9.43],\n",
    "    \"B-3\": [2.03, 3.69, 4.43],\n",
    "    \"B-4\": [0.9, 1.86, 2.2],\n",
    "    \"M\": [6.45, 8.27, 9.33],\n",
    "    \"R_L\": [12.89, 16.39, 17.06],\n",
    "    \"Cider\": [3.34, 10.39, 13.53],\n",
    "    \"Spice\": [4.18, 9.8, 10.74],\n",
    "    \"Spider\": [3.78, 10.15, 11.65]\n",
    "}\n",
    "\n",
    "# Parameters size (in millions)\n",
    "param_sizes = [75425594, 222903552, 406291456]  # Actual sizes\n",
    "x_values = [size / 1e6 for size in param_sizes]  # Convert to millions for the x-axis\n",
    "\n",
    "# Plotting\n",
    "plt.figure(figsize=(10, 6))\n",
    "for metric, scores in my_dict.items():\n",
    "    plt.plot(x_values, scores, marker='o', label=metric)\n",
    "\n",
    "plt.xlabel(\"Model Size (Millions of Parameters)\")\n",
    "plt.ylabel(\"Score\")\n",
    "plt.text(52, 0, 'T4-family', fontsize = 11)\n",
    "plt.text(200, 0, 'T5-family', fontsize = 11)\n",
    "plt.text(380, 0, 'BART-family', fontsize = 11)\n",
    "\n",
    "plt.title(\"Automatic Metrics Scores vs. Model Size\", fontsize = 14)\n",
    "plt.xticks(np.arange(0, 501, 50))  # Adjust the x-axis to show increments up to 500 million\n",
    "plt.legend(loc='best')\n",
    "plt.grid(True)\n",
    "plt.show()\n"
   ]
  },
  {
   "cell_type": "code",
   "execution_count": null,
   "id": "a91377a9-5c77-4c49-8a1c-54902c167bfe",
   "metadata": {},
   "outputs": [],
   "source": []
  }
 ],
 "metadata": {
  "kernelspec": {
   "display_name": "Python 3 (ipykernel)",
   "language": "python",
   "name": "python3"
  },
  "language_info": {
   "codemirror_mode": {
    "name": "ipython",
    "version": 3
   },
   "file_extension": ".py",
   "mimetype": "text/x-python",
   "name": "python",
   "nbconvert_exporter": "python",
   "pygments_lexer": "ipython3",
   "version": "3.8.10"
  }
 },
 "nbformat": 4,
 "nbformat_minor": 5
}
